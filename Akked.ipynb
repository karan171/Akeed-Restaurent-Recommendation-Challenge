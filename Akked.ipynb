{
  "nbformat": 4,
  "nbformat_minor": 0,
  "metadata": {
    "colab": {
      "provenance": [],
      "machine_shape": "hm"
    },
    "kernelspec": {
      "name": "python3",
      "display_name": "Python 3"
    },
    "accelerator": "TPU"
  },
  "cells": [
    {
      "cell_type": "code",
      "metadata": {
        "id": "0vCQ0J938gzt",
        "colab": {
          "base_uri": "https://localhost:8080/",
          "height": 122
        },
        "outputId": "a60dc73a-032d-4de4-ec79-96d909d561f4"
      },
      "source": [
        "!pip install pyproj"
      ],
      "execution_count": null,
      "outputs": [
        {
          "output_type": "stream",
          "text": [
            "Collecting pyproj\n",
            "\u001b[?25l  Downloading https://files.pythonhosted.org/packages/e5/c3/071e080230ac4b6c64f1a2e2f9161c9737a2bc7b683d2c90b024825000c0/pyproj-2.6.1.post1-cp36-cp36m-manylinux2010_x86_64.whl (10.9MB)\n",
            "\u001b[K     |████████████████████████████████| 10.9MB 3.2MB/s \n",
            "\u001b[?25hInstalling collected packages: pyproj\n",
            "Successfully installed pyproj-2.6.1.post1\n"
          ],
          "name": "stdout"
        }
      ]
    },
    {
      "cell_type": "code",
      "metadata": {
        "id": "JdELp2qcDdmD",
        "colab": {
          "base_uri": "https://localhost:8080/",
          "height": 119
        },
        "outputId": "f72c434a-f24d-4a09-edce-7a91cc8a793c"
      },
      "source": [
        "!pip uninstall lightgbm"
      ],
      "execution_count": null,
      "outputs": [
        {
          "output_type": "stream",
          "text": [
            "Uninstalling lightgbm-2.2.3:\n",
            "  Would remove:\n",
            "    /usr/local/lib/python3.6/dist-packages/lightgbm-2.2.3.dist-info/*\n",
            "    /usr/local/lib/python3.6/dist-packages/lightgbm/*\n",
            "Proceed (y/n)? y\n",
            "  Successfully uninstalled lightgbm-2.2.3\n"
          ],
          "name": "stdout"
        }
      ]
    },
    {
      "cell_type": "code",
      "metadata": {
        "id": "LTkLxE-mqukw",
        "colab": {
          "base_uri": "https://localhost:8080/",
          "height": 34
        },
        "outputId": "ad4a0fd4-b69e-4eec-edde-770333274f1b"
      },
      "source": [
        "!rm -r /usr/local/lib/python3.6/dist-packages/lightgbm/*\n"
      ],
      "execution_count": null,
      "outputs": [
        {
          "output_type": "stream",
          "text": [
            "rm: cannot remove '/usr/local/lib/python3.6/dist-packages/lightgbm/*': No such file or directory\n"
          ],
          "name": "stdout"
        }
      ]
    },
    {
      "cell_type": "code",
      "metadata": {
        "id": "YemYhnjrE4rU",
        "colab": {
          "base_uri": "https://localhost:8080/",
          "height": 255
        },
        "outputId": "30daeacd-ac88-4667-c114-44cb7f54bc7d"
      },
      "source": [
        "!git clone --recursive https://github.com/Microsoft/LightGBM\n",
        "!apt-get install -y -qq libboost-all-dev"
      ],
      "execution_count": null,
      "outputs": [
        {
          "output_type": "stream",
          "text": [
            "Cloning into 'LightGBM'...\n",
            "remote: Enumerating objects: 4, done.\u001b[K\n",
            "remote: Counting objects:  25% (1/4)\u001b[K\rremote: Counting objects:  50% (2/4)\u001b[K\rremote: Counting objects:  75% (3/4)\u001b[K\rremote: Counting objects: 100% (4/4)\u001b[K\rremote: Counting objects: 100% (4/4), done.\u001b[K\n",
            "remote: Compressing objects: 100% (4/4), done.\u001b[K\n",
            "remote: Total 18895 (delta 0), reused 1 (delta 0), pack-reused 18891\u001b[K\n",
            "Receiving objects: 100% (18895/18895), 12.68 MiB | 27.73 MiB/s, done.\n",
            "Resolving deltas: 100% (13801/13801), done.\n",
            "Submodule 'include/boost/compute' (https://github.com/boostorg/compute) registered for path 'compute'\n",
            "Cloning into '/content/LightGBM/compute'...\n",
            "remote: Enumerating objects: 21728, done.        \n",
            "remote: Total 21728 (delta 0), reused 0 (delta 0), pack-reused 21728        \n",
            "Receiving objects: 100% (21728/21728), 8.51 MiB | 28.84 MiB/s, done.\n",
            "Resolving deltas: 100% (17565/17565), done.\n",
            "Submodule path 'compute': checked out '36c89134d4013b2e5e45bc55656a18bd6141995a'\n"
          ],
          "name": "stdout"
        }
      ]
    },
    {
      "cell_type": "code",
      "metadata": {
        "id": "sxG0dtLiCR1n",
        "colab": {
          "base_uri": "https://localhost:8080/",
          "height": 1000
        },
        "outputId": "4d1af22b-f425-447e-d907-92c3dda2002c"
      },
      "source": [
        "%%bash\n",
        "cd LightGBM\n",
        "rm -r build\n",
        "mkdir build\n",
        "cd build\n",
        "cmake -DUSE_GPU=1 -DOpenCL_LIBRARY=/usr/local/cuda/lib64/libOpenCL.so -DOpenCL_INCLUDE_DIR=/usr/local/cuda/include/ ..\n",
        "make -j$(nproc)"
      ],
      "execution_count": null,
      "outputs": [
        {
          "output_type": "stream",
          "text": [
            "-- The C compiler identification is GNU 7.5.0\n",
            "-- The CXX compiler identification is GNU 7.5.0\n",
            "-- Check for working C compiler: /usr/bin/cc\n",
            "-- Check for working C compiler: /usr/bin/cc -- works\n",
            "-- Detecting C compiler ABI info\n",
            "-- Detecting C compiler ABI info - done\n",
            "-- Detecting C compile features\n",
            "-- Detecting C compile features - done\n",
            "-- Check for working CXX compiler: /usr/bin/c++\n",
            "-- Check for working CXX compiler: /usr/bin/c++ -- works\n",
            "-- Detecting CXX compiler ABI info\n",
            "-- Detecting CXX compiler ABI info - done\n",
            "-- Detecting CXX compile features\n",
            "-- Detecting CXX compile features - done\n",
            "-- Found OpenMP_C: -fopenmp (found version \"4.5\") \n",
            "-- Found OpenMP_CXX: -fopenmp (found version \"4.5\") \n",
            "-- Found OpenMP: TRUE (found version \"4.5\")  \n",
            "-- Looking for CL_VERSION_2_2\n",
            "-- Looking for CL_VERSION_2_2 - not found\n",
            "-- Looking for CL_VERSION_2_1\n",
            "-- Looking for CL_VERSION_2_1 - not found\n",
            "-- Looking for CL_VERSION_2_0\n",
            "-- Looking for CL_VERSION_2_0 - not found\n",
            "-- Looking for CL_VERSION_1_2\n",
            "-- Looking for CL_VERSION_1_2 - found\n",
            "-- Found OpenCL: /usr/local/cuda/lib64/libOpenCL.so (found version \"1.2\") \n",
            "-- OpenCL include directory: /usr/local/cuda/include\n",
            "-- Boost version: 1.65.1\n",
            "-- Found the following Boost libraries:\n",
            "--   filesystem\n",
            "--   system\n",
            "-- Performing Test MM_PREFETCH\n",
            "-- Performing Test MM_PREFETCH - Success\n",
            "-- Using _mm_prefetch\n",
            "-- Performing Test MM_MALLOC\n",
            "-- Performing Test MM_MALLOC - Success\n",
            "-- Using _mm_malloc\n",
            "-- Configuring done\n",
            "-- Generating done\n",
            "-- Build files have been written to: /content/LightGBM/build\n",
            "Scanning dependencies of target lightgbm\n",
            "Scanning dependencies of target _lightgbm\n",
            "[  1%] Building CXX object CMakeFiles/_lightgbm.dir/src/application/application.cpp.o\n",
            "[  3%] Building CXX object CMakeFiles/lightgbm.dir/src/main.cpp.o\n",
            "[  4%] Building CXX object CMakeFiles/_lightgbm.dir/src/boosting/boosting.cpp.o\n",
            "[  6%] Building CXX object CMakeFiles/lightgbm.dir/src/application/application.cpp.o\n",
            "[  8%] Building CXX object CMakeFiles/lightgbm.dir/src/boosting/boosting.cpp.o\n",
            "[  9%] Building CXX object CMakeFiles/lightgbm.dir/src/boosting/gbdt.cpp.o\n",
            "[ 11%] Building CXX object CMakeFiles/_lightgbm.dir/src/boosting/gbdt.cpp.o\n",
            "[ 12%] Building CXX object CMakeFiles/_lightgbm.dir/src/boosting/gbdt_model_text.cpp.o\n",
            "[ 14%] Building CXX object CMakeFiles/lightgbm.dir/src/boosting/gbdt_model_text.cpp.o\n",
            "[ 16%] Building CXX object CMakeFiles/lightgbm.dir/src/boosting/gbdt_prediction.cpp.o\n",
            "[ 17%] Building CXX object CMakeFiles/_lightgbm.dir/src/boosting/gbdt_prediction.cpp.o\n",
            "[ 19%] Building CXX object CMakeFiles/lightgbm.dir/src/boosting/prediction_early_stop.cpp.o\n",
            "[ 20%] Building CXX object CMakeFiles/_lightgbm.dir/src/boosting/prediction_early_stop.cpp.o\n",
            "[ 22%] Building CXX object CMakeFiles/lightgbm.dir/src/io/bin.cpp.o\n",
            "[ 24%] Building CXX object CMakeFiles/_lightgbm.dir/src/io/bin.cpp.o\n",
            "[ 25%] Building CXX object CMakeFiles/_lightgbm.dir/src/io/config.cpp.o\n",
            "[ 27%] Building CXX object CMakeFiles/lightgbm.dir/src/io/config.cpp.o\n",
            "[ 29%] Building CXX object CMakeFiles/_lightgbm.dir/src/io/config_auto.cpp.o\n",
            "[ 30%] Building CXX object CMakeFiles/lightgbm.dir/src/io/config_auto.cpp.o\n",
            "[ 32%] Building CXX object CMakeFiles/_lightgbm.dir/src/io/dataset.cpp.o\n",
            "[ 33%] Building CXX object CMakeFiles/lightgbm.dir/src/io/dataset.cpp.o\n",
            "[ 35%] Building CXX object CMakeFiles/_lightgbm.dir/src/io/dataset_loader.cpp.o\n",
            "[ 37%] Building CXX object CMakeFiles/lightgbm.dir/src/io/dataset_loader.cpp.o\n",
            "[ 38%] Building CXX object CMakeFiles/lightgbm.dir/src/io/file_io.cpp.o\n",
            "[ 40%] Building CXX object CMakeFiles/_lightgbm.dir/src/io/file_io.cpp.o\n",
            "[ 41%] Building CXX object CMakeFiles/lightgbm.dir/src/io/json11.cpp.o\n",
            "[ 43%] Building CXX object CMakeFiles/_lightgbm.dir/src/io/json11.cpp.o\n",
            "[ 45%] Building CXX object CMakeFiles/_lightgbm.dir/src/io/metadata.cpp.o\n",
            "[ 46%] Building CXX object CMakeFiles/lightgbm.dir/src/io/metadata.cpp.o\n",
            "[ 48%] Building CXX object CMakeFiles/_lightgbm.dir/src/io/parser.cpp.o\n",
            "[ 50%] Building CXX object CMakeFiles/lightgbm.dir/src/io/parser.cpp.o\n",
            "[ 51%] Building CXX object CMakeFiles/_lightgbm.dir/src/io/tree.cpp.o\n",
            "[ 53%] Building CXX object CMakeFiles/_lightgbm.dir/src/metric/dcg_calculator.cpp.o\n",
            "[ 54%] Building CXX object CMakeFiles/lightgbm.dir/src/io/tree.cpp.o\n",
            "[ 56%] Building CXX object CMakeFiles/lightgbm.dir/src/metric/dcg_calculator.cpp.o\n",
            "[ 58%] Building CXX object CMakeFiles/_lightgbm.dir/src/metric/metric.cpp.o\n",
            "[ 59%] Building CXX object CMakeFiles/lightgbm.dir/src/metric/metric.cpp.o\n",
            "[ 61%] Building CXX object CMakeFiles/_lightgbm.dir/src/network/linker_topo.cpp.o\n",
            "[ 62%] Building CXX object CMakeFiles/lightgbm.dir/src/network/linker_topo.cpp.o\n",
            "[ 64%] Building CXX object CMakeFiles/_lightgbm.dir/src/network/linkers_mpi.cpp.o\n",
            "[ 66%] Building CXX object CMakeFiles/_lightgbm.dir/src/network/linkers_socket.cpp.o\n",
            "[ 67%] Building CXX object CMakeFiles/lightgbm.dir/src/network/linkers_mpi.cpp.o\n",
            "[ 69%] Building CXX object CMakeFiles/lightgbm.dir/src/network/linkers_socket.cpp.o\n",
            "[ 70%] Building CXX object CMakeFiles/_lightgbm.dir/src/network/network.cpp.o\n",
            "[ 72%] Building CXX object CMakeFiles/lightgbm.dir/src/network/network.cpp.o\n",
            "[ 74%] Building CXX object CMakeFiles/_lightgbm.dir/src/objective/objective_function.cpp.o\n",
            "[ 75%] Building CXX object CMakeFiles/lightgbm.dir/src/objective/objective_function.cpp.o\n",
            "[ 77%] Building CXX object CMakeFiles/_lightgbm.dir/src/treelearner/data_parallel_tree_learner.cpp.o\n",
            "[ 79%] Building CXX object CMakeFiles/lightgbm.dir/src/treelearner/data_parallel_tree_learner.cpp.o\n",
            "[ 80%] Building CXX object CMakeFiles/_lightgbm.dir/src/treelearner/feature_parallel_tree_learner.cpp.o\n",
            "[ 82%] Building CXX object CMakeFiles/lightgbm.dir/src/treelearner/feature_parallel_tree_learner.cpp.o\n",
            "[ 83%] Building CXX object CMakeFiles/_lightgbm.dir/src/treelearner/gpu_tree_learner.cpp.o\n",
            "[ 85%] Building CXX object CMakeFiles/lightgbm.dir/src/treelearner/gpu_tree_learner.cpp.o\n",
            "[ 87%] Building CXX object CMakeFiles/_lightgbm.dir/src/treelearner/serial_tree_learner.cpp.o\n",
            "[ 88%] Building CXX object CMakeFiles/lightgbm.dir/src/treelearner/serial_tree_learner.cpp.o\n",
            "[ 90%] Building CXX object CMakeFiles/lightgbm.dir/src/treelearner/tree_learner.cpp.o\n",
            "[ 91%] Building CXX object CMakeFiles/_lightgbm.dir/src/treelearner/tree_learner.cpp.o\n",
            "[ 93%] Building CXX object CMakeFiles/_lightgbm.dir/src/treelearner/voting_parallel_tree_learner.cpp.o\n",
            "[ 95%] Building CXX object CMakeFiles/lightgbm.dir/src/treelearner/voting_parallel_tree_learner.cpp.o\n",
            "[ 96%] Building CXX object CMakeFiles/_lightgbm.dir/src/c_api.cpp.o\n",
            "[ 98%] Linking CXX shared library ../lib_lightgbm.so\n",
            "[ 98%] Built target _lightgbm\n",
            "[100%] Linking CXX executable ../lightgbm\n",
            "[100%] Built target lightgbm\n"
          ],
          "name": "stdout"
        },
        {
          "output_type": "stream",
          "text": [
            "rm: cannot remove 'build': No such file or directory\n"
          ],
          "name": "stderr"
        }
      ]
    },
    {
      "cell_type": "code",
      "metadata": {
        "id": "2W7n3m3jFJpb",
        "colab": {
          "base_uri": "https://localhost:8080/",
          "height": 1000
        },
        "outputId": "3356172e-8480-446a-a819-6a10f9a38d6c"
      },
      "source": [
        "!cd /content/LightGBM/python-package/;python3 setup.py install --precompile"
      ],
      "execution_count": null,
      "outputs": [
        {
          "output_type": "stream",
          "text": [
            "/usr/local/lib/python3.6/dist-packages/setuptools/distutils_patch.py:26: UserWarning: Distutils was imported before Setuptools. This usage is discouraged and may exhibit undesirable behaviors or errors. Please use Setuptools' objects directly or at least import Setuptools first.\n",
            "  \"Distutils was imported before Setuptools. This usage is discouraged \"\n",
            "running install\n",
            "running build\n",
            "running build_py\n",
            "INFO:root:Generating grammar tables from /usr/lib/python3.6/lib2to3/Grammar.txt\n",
            "INFO:root:Generating grammar tables from /usr/lib/python3.6/lib2to3/PatternGrammar.txt\n",
            "creating build\n",
            "creating build/lib\n",
            "creating build/lib/lightgbm\n",
            "copying lightgbm/basic.py -> build/lib/lightgbm\n",
            "copying lightgbm/sklearn.py -> build/lib/lightgbm\n",
            "copying lightgbm/plotting.py -> build/lib/lightgbm\n",
            "copying lightgbm/__init__.py -> build/lib/lightgbm\n",
            "copying lightgbm/engine.py -> build/lib/lightgbm\n",
            "copying lightgbm/compat.py -> build/lib/lightgbm\n",
            "copying lightgbm/libpath.py -> build/lib/lightgbm\n",
            "copying lightgbm/callback.py -> build/lib/lightgbm\n",
            "running egg_info\n",
            "creating lightgbm.egg-info\n",
            "writing lightgbm.egg-info/PKG-INFO\n",
            "writing dependency_links to lightgbm.egg-info/dependency_links.txt\n",
            "writing requirements to lightgbm.egg-info/requires.txt\n",
            "writing top-level names to lightgbm.egg-info/top_level.txt\n",
            "writing manifest file 'lightgbm.egg-info/SOURCES.txt'\n",
            "reading manifest template 'MANIFEST.in'\n",
            "no previously-included directories found matching 'build'\n",
            "warning: no files found matching 'LICENSE'\n",
            "warning: no files found matching '*.txt'\n",
            "warning: no files found matching '*.so' under directory 'lightgbm'\n",
            "warning: no files found matching '*.txt' under directory 'compile'\n",
            "warning: no files found matching '*.so' under directory 'compile'\n",
            "warning: no files found matching '*.dll' under directory 'compile/Release'\n",
            "warning: no files found matching '*' under directory 'compile/compute'\n",
            "warning: no files found matching '*' under directory 'compile/include'\n",
            "warning: no files found matching '*' under directory 'compile/src'\n",
            "warning: no files found matching 'LightGBM.sln' under directory 'compile/windows'\n",
            "warning: no files found matching 'LightGBM.vcxproj' under directory 'compile/windows'\n",
            "warning: no files found matching '*.dll' under directory 'compile/windows/x64/DLL'\n",
            "warning: no previously-included files matching '*.py[co]' found anywhere in distribution\n",
            "writing manifest file 'lightgbm.egg-info/SOURCES.txt'\n",
            "copying lightgbm/VERSION.txt -> build/lib/lightgbm\n",
            "running install_lib\n",
            "creating /usr/local/lib/python3.6/dist-packages/lightgbm\n",
            "copying build/lib/lightgbm/basic.py -> /usr/local/lib/python3.6/dist-packages/lightgbm\n",
            "copying build/lib/lightgbm/sklearn.py -> /usr/local/lib/python3.6/dist-packages/lightgbm\n",
            "copying build/lib/lightgbm/plotting.py -> /usr/local/lib/python3.6/dist-packages/lightgbm\n",
            "copying build/lib/lightgbm/__init__.py -> /usr/local/lib/python3.6/dist-packages/lightgbm\n",
            "copying build/lib/lightgbm/engine.py -> /usr/local/lib/python3.6/dist-packages/lightgbm\n",
            "copying build/lib/lightgbm/compat.py -> /usr/local/lib/python3.6/dist-packages/lightgbm\n",
            "copying build/lib/lightgbm/libpath.py -> /usr/local/lib/python3.6/dist-packages/lightgbm\n",
            "copying build/lib/lightgbm/callback.py -> /usr/local/lib/python3.6/dist-packages/lightgbm\n",
            "copying build/lib/lightgbm/VERSION.txt -> /usr/local/lib/python3.6/dist-packages/lightgbm\n",
            "INFO:LightGBM:Installing lib_lightgbm from: ['../lib_lightgbm.so']\n",
            "copying ../lib_lightgbm.so -> /usr/local/lib/python3.6/dist-packages/lightgbm\n",
            "byte-compiling /usr/local/lib/python3.6/dist-packages/lightgbm/basic.py to basic.cpython-36.pyc\n",
            "byte-compiling /usr/local/lib/python3.6/dist-packages/lightgbm/sklearn.py to sklearn.cpython-36.pyc\n",
            "byte-compiling /usr/local/lib/python3.6/dist-packages/lightgbm/plotting.py to plotting.cpython-36.pyc\n",
            "byte-compiling /usr/local/lib/python3.6/dist-packages/lightgbm/__init__.py to __init__.cpython-36.pyc\n",
            "byte-compiling /usr/local/lib/python3.6/dist-packages/lightgbm/engine.py to engine.cpython-36.pyc\n",
            "byte-compiling /usr/local/lib/python3.6/dist-packages/lightgbm/compat.py to compat.cpython-36.pyc\n",
            "byte-compiling /usr/local/lib/python3.6/dist-packages/lightgbm/libpath.py to libpath.cpython-36.pyc\n",
            "byte-compiling /usr/local/lib/python3.6/dist-packages/lightgbm/callback.py to callback.cpython-36.pyc\n",
            "running install_egg_info\n",
            "Copying lightgbm.egg-info to /usr/local/lib/python3.6/dist-packages/lightgbm-2.3.2-py3.6.egg-info\n",
            "running install_scripts\n"
          ],
          "name": "stdout"
        }
      ]
    },
    {
      "cell_type": "code",
      "metadata": {
        "id": "7RokppV6EeEH"
      },
      "source": [
        "!mkdir -p /etc/OpenCL/vendors && echo \"libnvidia-opencl.so.1\" > /etc/OpenCL/vendors/nvidia.icd\n",
        "!rm -r LightGBM"
      ],
      "execution_count": null,
      "outputs": []
    },
    {
      "cell_type": "code",
      "metadata": {
        "id": "gCQZYBlhDECP"
      },
      "source": [],
      "execution_count": null,
      "outputs": []
    },
    {
      "cell_type": "code",
      "metadata": {
        "id": "PiFn2QpwCOpo"
      },
      "source": [],
      "execution_count": null,
      "outputs": []
    },
    {
      "cell_type": "code",
      "metadata": {
        "id": "UBl9aVm6uP8k"
      },
      "source": [
        "\n"
      ],
      "execution_count": null,
      "outputs": []
    },
    {
      "cell_type": "code",
      "metadata": {
        "id": "GqV54faqIfAy",
        "colab": {
          "base_uri": "https://localhost:8080/",
          "height": 34
        },
        "outputId": "0c484265-a733-4510-a976-0675960941af"
      },
      "source": [
        "lgb.LGBMClassifier"
      ],
      "execution_count": null,
      "outputs": [
        {
          "output_type": "execute_result",
          "data": {
            "text/plain": [
              "lightgbm.sklearn.LGBMClassifier"
            ]
          },
          "metadata": {
            "tags": []
          },
          "execution_count": 1402
        }
      ]
    },
    {
      "cell_type": "code",
      "metadata": {
        "id": "bE4IrrqIdD6k"
      },
      "source": [
        "# This Python 3 environment comes with many helpful analytics libraries installed\n",
        "# It is defined by the kaggle/python Docker image: https://github.com/kaggle/docker-python\n",
        "# For example, here's several helpful packages to load\n",
        "1\n",
        "import numpy as np # linear algebra\n",
        "import pandas as pd # data processing, CSV file I/O (e.g. pd.read_csv)\n",
        "import pickle\n",
        "# Input data files are available in the read-only \"../input/\" directory\n",
        "# For example, running this (by clicking run or pressing Shift+Enter) will list all files under the input directory\n",
        "\n",
        "import os\n",
        "# for dirname, _, filenames in os.walk('/kaggle/input'):\n",
        "#     for filename in filenames:\n",
        "#         print(os.path.join(dirname, filename))\n",
        "pd.set_option('display.max_rows',200)\n",
        "pd.set_option('display.max_columns',100)\n",
        "import gc\n",
        "from sklearn.model_selection import train_test_split\n",
        "from collections import Counter, defaultdict\n",
        "import random\n",
        "from sklearn.metrics import f1_score\n",
        "from tqdm import tqdm\n",
        "# from pyproj import Geod\n",
        "import lightgbm as lgb\n",
        "from sklearn.decomposition import NMF,TruncatedSVD\n",
        "import scipy.sparse as sps\n",
        "from time import perf_counter as pc\n",
        "# from tqdm._tqdm_notebook import tqdm_notebook\n",
        "# from haversine import haversine\n",
        "# You can write up to 5GB to the current directory (/kaggle/working/) that gets preserved as output when you create a version using \"Save & Run All\" \n",
        "# You can also write temporary files to /kaggle/temp/, but they won't be saved outside of the current session"
      ],
      "execution_count": null,
      "outputs": []
    },
    {
      "cell_type": "code",
      "metadata": {
        "id": "DL1BXu6kPveo"
      },
      "source": [
        "df_train = pd.read_pickle('/content/drive/My Drive/Akeed_Correct/akeed_final_train.pkl')\n",
        "# # with open(\"/content/drive/My Drive/Akeed_Correct/holdout_idx.pkl\",'rb') as f:\n",
        "#     # hold_idx = pickle.load(f)\n",
        "df_test = pd.read_pickle(\"/content/drive/My Drive/Akeed_Correct/akeed_final_test.pkl\")\n",
        "# df_orders = pd.read_csv(\"/content/drive/My Drive/Akeed_Correct/orders.csv\")"
      ],
      "execution_count": null,
      "outputs": []
    },
    {
      "cell_type": "code",
      "metadata": {
        "id": "zGyv2t3932yy"
      },
      "source": [
        "with open('/content/drive/My Drive/Akeed_Correct/cols_imp.pkl','rb') as f:\n",
        "  cols_imp = pickle.load(f)\n",
        "# df_orders.head()"
      ],
      "execution_count": null,
      "outputs": []
    },
    {
      "cell_type": "code",
      "metadata": {
        "id": "jrLfGpLV86Sj"
      },
      "source": [
        "def evaluate_macroF1_lgb(truth, predictions):  \n",
        "    pred_labels = np.round(predictions)\n",
        "    f1 = f1_score(truth, pred_labels)\n",
        "    return ('F1', f1, True)"
      ],
      "execution_count": null,
      "outputs": []
    },
    {
      "cell_type": "code",
      "metadata": {
        "id": "ft8ZR-rD-8sA"
      },
      "source": [
        "params_gpu={'device': 'gpu',\n",
        "    'gpu_platform_id': 0,\n",
        "    'max_bin':63,#Theoretically best speeds using LGBM\n",
        "    'gpu_device_id': 0}  #Use single precision, as nvidia consumer gpu with double precision gives bad results.\n",
        "#For catboost boosting_type = Plain \n",
        "#reduce the max_ctr_complexity if huge categorical features\n",
        "#gpu_ram_part = 0.95 default reducing it helps free up gpu space\n",
        "#gpu_cat_features_storage parameter helps,for random seed the results dont differ much\n",
        "\n",
        "def stratified_group_k_fold(X, y, groups, k, seed=None):\n",
        "    labels_num = np.max(y) + 1\n",
        "    y_counts_per_group = defaultdict(lambda: np.zeros(labels_num))\n",
        "    y_distr = Counter()\n",
        "    for label, g in zip(y, groups):\n",
        "        y_counts_per_group[g][label] += 1\n",
        "        y_distr[label] += 1\n",
        "\n",
        "    y_counts_per_fold = defaultdict(lambda: np.zeros(labels_num))\n",
        "    groups_per_fold = defaultdict(set)\n",
        "\n",
        "    def eval_y_counts_per_fold(y_counts, fold):\n",
        "        y_counts_per_fold[fold] += y_counts\n",
        "        std_per_label = []\n",
        "        for label in range(labels_num):\n",
        "            label_std = np.std([y_counts_per_fold[i][label] / y_distr[label] for i in range(k)])\n",
        "            std_per_label.append(label_std)\n",
        "        y_counts_per_fold[fold] -= y_counts\n",
        "        return np.mean(std_per_label)\n",
        "    \n",
        "    groups_and_y_counts = list(y_counts_per_group.items())\n",
        "    random.Random(seed).shuffle(groups_and_y_counts)\n",
        "\n",
        "    for g, y_counts in sorted(groups_and_y_counts, key=lambda x: -np.std(x[1])):\n",
        "        best_fold = None\n",
        "        min_eval = None\n",
        "        for i in range(k):\n",
        "            fold_eval = eval_y_counts_per_fold(y_counts, i)\n",
        "            if min_eval is None or fold_eval < min_eval:\n",
        "                min_eval = fold_eval\n",
        "                best_fold = i\n",
        "        y_counts_per_fold[best_fold] += y_counts\n",
        "        groups_per_fold[best_fold].add(g)\n",
        "\n",
        "    all_groups = set(groups)\n",
        "    for i in range(k):\n",
        "        train_groups = all_groups - groups_per_fold[i]\n",
        "        test_groups = groups_per_fold[i]\n",
        "\n",
        "        train_indices = [i for i, g in enumerate(groups) if g in train_groups]\n",
        "        test_indices = [i for i, g in enumerate(groups) if g in test_groups]\n",
        "\n",
        "        yield train_indices, test_indices\n",
        "\n",
        "def get_distribution(y_vals):\n",
        "        y_distr = Counter(y_vals)\n",
        "        y_vals_sum = sum(y_distr.values())\n",
        "        return [f'{y_distr[i] / y_vals_sum:.2%}' for i in range(np.max(y_vals) + 1)]"
      ],
      "execution_count": null,
      "outputs": []
    },
    {
      "cell_type": "code",
      "metadata": {
        "id": "aEi4LxuZPJNQ"
      },
      "source": [],
      "execution_count": null,
      "outputs": []
    },
    {
      "cell_type": "code",
      "metadata": {
        "id": "Wkwcp4HI--qa"
      },
      "source": [
        "\n",
        "# with open(\"/kaggle/input/akeed-correct/Akeed_Correct/akeed_final_train.pkl\",'rb') as f:\n",
        "#     df_train = pickle.load(f)\n",
        "# with open(\"/kaggle/input/holdout-idx/holdout_idx.pkl\",'rb') as f:\n",
        "#     hold_idx = pickle.load(f)\n",
        "# with open(\"/kaggle/input/akeed-correct/Akeed_Correct/akeed_final_test.pkl\",'rb') as f:\n",
        "#     df_test = pickle.load(f)\n",
        "# with open(\"/kaggle/input/skffolds/skf.pkl\",'rb') as f:\n",
        "#     skf_idx = pickle.load(f)"
      ],
      "execution_count": null,
      "outputs": []
    },
    {
      "cell_type": "code",
      "metadata": {
        "id": "K2hSix-rDKXd"
      },
      "source": [
        "with open(\"/content/drive/My Drive/Akeed_Correct/holdout_idx_loc.pkl\",'rb') as f:\n",
        "    hold_idx = pickle.load(f)"
      ],
      "execution_count": null,
      "outputs": []
    },
    {
      "cell_type": "code",
      "metadata": {
        "id": "NwypFXXT07qd"
      },
      "source": [
        "df_train['location_number'] = df_train['location_number'].astype('int8') "
      ],
      "execution_count": null,
      "outputs": []
    },
    {
      "cell_type": "code",
      "metadata": {
        "id": "b4-Gl-We_B36"
      },
      "source": [
        "df_final = pd.concat([df_train,df_test])\n",
        "del df_train\n",
        "del df_test"
      ],
      "execution_count": null,
      "outputs": []
    },
    {
      "cell_type": "code",
      "metadata": {
        "id": "rfwjzbLT_D9Q"
      },
      "source": [
        "df_b = pd.read_pickle('/content/drive/My Drive/Akeed_Correct/feat_brekkie.pkl')\n",
        "df_distance = pd.read_pickle('/content/drive/My Drive/Akeed_Correct/distance_lat_long.pkl')\n",
        "df_points_bet = pd.read_pickle('/content/drive/My Drive/Akeed_Correct/points_between_lat.pkl')"
      ],
      "execution_count": null,
      "outputs": []
    },
    {
      "cell_type": "code",
      "metadata": {
        "id": "3kHqDNDRMUWu",
        "colab": {
          "base_uri": "https://localhost:8080/",
          "height": 197
        },
        "outputId": "ad09f133-2fbe-4162-d65b-6f577f5aa3da"
      },
      "source": [
        "df_distance.head()"
      ],
      "execution_count": null,
      "outputs": [
        {
          "output_type": "execute_result",
          "data": {
            "text/html": [
              "<div>\n",
              "<style scoped>\n",
              "    .dataframe tbody tr th:only-of-type {\n",
              "        vertical-align: middle;\n",
              "    }\n",
              "\n",
              "    .dataframe tbody tr th {\n",
              "        vertical-align: top;\n",
              "    }\n",
              "\n",
              "    .dataframe thead th {\n",
              "        text-align: right;\n",
              "    }\n",
              "</style>\n",
              "<table border=\"1\" class=\"dataframe\">\n",
              "  <thead>\n",
              "    <tr style=\"text-align: right;\">\n",
              "      <th></th>\n",
              "      <th>great_dist_vend_cust</th>\n",
              "      <th>geo_dist_vend_cust</th>\n",
              "      <th>great_dist_vend_cust_1</th>\n",
              "    </tr>\n",
              "  </thead>\n",
              "  <tbody>\n",
              "    <tr>\n",
              "      <th>0</th>\n",
              "      <td>8848.0</td>\n",
              "      <td>8859.0</td>\n",
              "      <td>8849.0</td>\n",
              "    </tr>\n",
              "    <tr>\n",
              "      <th>1</th>\n",
              "      <td>8848.0</td>\n",
              "      <td>8858.0</td>\n",
              "      <td>8848.0</td>\n",
              "    </tr>\n",
              "    <tr>\n",
              "      <th>2</th>\n",
              "      <td>8840.0</td>\n",
              "      <td>8846.0</td>\n",
              "      <td>8837.0</td>\n",
              "    </tr>\n",
              "    <tr>\n",
              "      <th>3</th>\n",
              "      <td>8848.0</td>\n",
              "      <td>8859.0</td>\n",
              "      <td>8849.0</td>\n",
              "    </tr>\n",
              "    <tr>\n",
              "      <th>4</th>\n",
              "      <td>8824.0</td>\n",
              "      <td>8833.0</td>\n",
              "      <td>8823.0</td>\n",
              "    </tr>\n",
              "  </tbody>\n",
              "</table>\n",
              "</div>"
            ],
            "text/plain": [
              "   great_dist_vend_cust  geo_dist_vend_cust  great_dist_vend_cust_1\n",
              "0                8848.0              8859.0                  8849.0\n",
              "1                8848.0              8858.0                  8848.0\n",
              "2                8840.0              8846.0                  8837.0\n",
              "3                8848.0              8859.0                  8849.0\n",
              "4                8824.0              8833.0                  8823.0"
            ]
          },
          "metadata": {
            "tags": []
          },
          "execution_count": 11
        }
      ]
    },
    {
      "cell_type": "code",
      "metadata": {
        "id": "JjUUX8l4_Gn9"
      },
      "source": [
        "\n",
        "df_final.reset_index(inplace=True,drop=True)"
      ],
      "execution_count": null,
      "outputs": []
    },
    {
      "cell_type": "code",
      "metadata": {
        "id": "1gikrOJ7_I-R"
      },
      "source": [
        "df_final = pd.concat([df_final,df_b],axis=1)\n",
        "df_final = pd.concat([df_final,df_distance],axis=1)\n",
        "df_final = pd.concat([df_final,df_points_bet],axis=1)"
      ],
      "execution_count": null,
      "outputs": []
    },
    {
      "cell_type": "code",
      "metadata": {
        "id": "Iwy8wrJvCG7A"
      },
      "source": [],
      "execution_count": null,
      "outputs": []
    },
    {
      "cell_type": "code",
      "metadata": {
        "id": "no3FUHe9_Kih"
      },
      "source": [
        "#Calculations of Distance using Earth and geo \n",
        "df_final['great_dist_vend_cust'] = df_final['great_dist_vend_cust'].astype('float16')\n",
        "df_final['great_dist_vend_cust_1'] = df_final['great_dist_vend_cust_1'].astype('float16')\n",
        "df_final['geo_dist_vend_cust'] = df_final['geo_dist_vend_cust'].astype('float16')\n",
        "del df_b\n",
        "del df_distance\n",
        "del df_points_bet"
      ],
      "execution_count": null,
      "outputs": []
    },
    {
      "cell_type": "code",
      "metadata": {
        "id": "f0a_dCH3_M86",
        "colab": {
          "base_uri": "https://localhost:8080/",
          "height": 34
        },
        "outputId": "cbb4a5b7-732d-4db4-9825-523ee6596861"
      },
      "source": [
        "\n",
        "gc.collect()"
      ],
      "execution_count": null,
      "outputs": [
        {
          "output_type": "execute_result",
          "data": {
            "text/plain": [
              "11"
            ]
          },
          "metadata": {
            "tags": []
          },
          "execution_count": 14
        }
      ]
    },
    {
      "cell_type": "code",
      "metadata": {
        "id": "GMLJ502ACgcU"
      },
      "source": [
        "# df_final.head(10)"
      ],
      "execution_count": null,
      "outputs": []
    },
    {
      "cell_type": "code",
      "metadata": {
        "id": "m3VAnxCGCNVr"
      },
      "source": [
        "# df_final = pd.merge(df_final,temp_orders,on='id',how='left')"
      ],
      "execution_count": null,
      "outputs": []
    },
    {
      "cell_type": "code",
      "metadata": {
        "id": "AGZ3pQC3aESR"
      },
      "source": [
        "# (df_final['vendor_latitude'].astype('str') +'_'+df_final['vendor_logitude'].astype('str')).value_counts()"
      ],
      "execution_count": null,
      "outputs": []
    },
    {
      "cell_type": "code",
      "metadata": {
        "id": "nzpXw6kYGdXL"
      },
      "source": [
        "\n",
        "\n",
        "# df_final['id'] = df_final['id'].astype('int8')"
      ],
      "execution_count": null,
      "outputs": []
    },
    {
      "cell_type": "code",
      "metadata": {
        "id": "exlV_8t6CVS_"
      },
      "source": [
        "\n",
        "\n",
        "\n",
        "\n",
        "\n",
        "\n",
        "\n",
        "\n",
        "# del temp_orders"
      ],
      "execution_count": null,
      "outputs": []
    },
    {
      "cell_type": "code",
      "metadata": {
        "id": "F0ezPFAv_PLp"
      },
      "source": [
        "to_drop = []\n",
        "for i in df_final.columns:\n",
        "    if df_final[i].nunique() == 1:\n",
        "        df_final = df_final.drop(i,axis=1)\n",
        "        to_drop.append(i)"
      ],
      "execution_count": null,
      "outputs": []
    },
    {
      "cell_type": "code",
      "metadata": {
        "id": "M-RhRJ110riP"
      },
      "source": [],
      "execution_count": null,
      "outputs": []
    },
    {
      "cell_type": "code",
      "metadata": {
        "id": "RTe38s4K_RrQ"
      },
      "source": [
        "def calc_distance_geo(lat_c,long_c,lat_v,long_v):\n",
        "    if lat_c < 90 and lat_v < 90 and lat_c > -90 and lat_v > -90:\n",
        "        cust_dist = (lat_c,long_c)\n",
        "        vendor_dist = (lat_v,long_v)\n",
        "        return geodesic(cust_dist,vendor_dist).km\n",
        "    else:\n",
        "        return np.nan"
      ],
      "execution_count": null,
      "outputs": []
    },
    {
      "cell_type": "code",
      "metadata": {
        "id": "f5tUjBdF_TZ9"
      },
      "source": [
        "def calc_haversine(lat_c,long_c,lat_v,long_v):\n",
        "    lat1, lon1, lat2, lon2 = map(np.deg2rad, [lat_c, long_c, lat_v, long_v])\n",
        "    cust_dist = (lat_c,long_c)\n",
        "    vendor_dist = (lat_v,long_v)\n",
        "    return haversine(cust_dist,vendor_dist)"
      ],
      "execution_count": null,
      "outputs": []
    },
    {
      "cell_type": "code",
      "metadata": {
        "id": "c6LmcEcE_WDS"
      },
      "source": [
        "def calc_distance_great(lat_c,long_c,lat_v,long_v):\n",
        "    if lat_c < 90 and lat_v < 90 and lat_c > -90 and lat_v > -90:\n",
        "        cust_dist = (lat_c,long_c)\n",
        "        vendor_dist = (lat_v,long_v)\n",
        "        return great_circle(cust_dist,vendor_dist).km\n",
        "    else:\n",
        "        return np.nan"
      ],
      "execution_count": null,
      "outputs": []
    },
    {
      "cell_type": "code",
      "metadata": {
        "id": "ivyGSJ04_Xmq"
      },
      "source": [
        "def get_points_near_cust(dist_factor,lat_c,long_c,lat_v,long_v,lat_only=False):\n",
        "    lat1, lon1, lat2, lon2 = map(np.deg2rad, [lat_c, long_c, lat_v, long_v])\n",
        "    A = (lat1,lon1)\n",
        "    B = (lat2,lon2)\n",
        "    wsg84 = Geod(ellps='WGS84')\n",
        "    azimuth1, azimuth2, distance  = wsg84.inv(A[0],A[1],B[0],B[1])\n",
        "    distance=np.array(distance)/dist_factor\n",
        "    endlon, endlat, backaz = wsg84.fwd(A[0],A[1],azimuth1,distance)\n",
        "    if lat_only == True:\n",
        "        return endlat\n",
        "    else:\n",
        "        return endlon"
      ],
      "execution_count": null,
      "outputs": []
    },
    {
      "cell_type": "code",
      "metadata": {
        "id": "ovetpL-k_ZTk"
      },
      "source": [
        "\n",
        "def get_points_near_vendor(dist,lat_c,long_c,lat_v,long_v,lat_only=False):\n",
        "    lat1, lon1, lat2, lon2 = map(np.deg2rad, [lat_c, long_c, lat_v, long_v])\n",
        "    A = (lat1,lon1)\n",
        "    B = (lat2,lon2)\n",
        "    wsg84 = Geod(ellps='WGS84')\n",
        "    azimuth1, azimuth2, distance  = wsg84.inv(B[0],B[1],A[0],A[1])\n",
        "    distance=np.array(distance)/dist\n",
        "    endlon, endlat, backaz = wsg84.fwd(B[0],B[1],azimuth1,distance)\n",
        "    if lat_only == True:\n",
        "        return endlat\n",
        "    else:\n",
        "        return endlon"
      ],
      "execution_count": null,
      "outputs": []
    },
    {
      "cell_type": "code",
      "metadata": {
        "id": "sPQkgE31_bGo"
      },
      "source": [
        "#Features that tells a point coordinate near to a certaing longitude\n",
        "# dist_list = [1000,500,300,100,50,20,10,2]\n",
        "# for i in tqdm(dist_list):\n",
        "#     df_final[f'{i}_cust_lat'] = get_points_near_cust(i,df_final['latitude'].values,df_final['longitude'].values,df_final['vendor_latitude'].values,df_final['vendor_logitude'].values,lat_only=True).astype('float16')\n",
        "#     df_final[f'{i}_cust_long'] = get_points_near_cust(i,df_final['latitude'].values,df_final['longitude'].values,df_final['vendor_latitude'].values,df_final['vendor_logitude'].values).astype('float16')"
      ],
      "execution_count": null,
      "outputs": []
    },
    {
      "cell_type": "code",
      "metadata": {
        "id": "rJDJb5NN_dzt"
      },
      "source": [
        "# dist_list = [1000,500,300,100,50,20,10,2]\n",
        "# for i in tqdm(dist_list):\n",
        "#     df_final[f'{i}_vendor_lat'] = get_points_near_vendor(i,df_final['latitude'].values,df_final['longitude'].values,df_final['vendor_latitude'].values,df_final['vendor_logitude'].values,lat_only=True).astype('float16')\n",
        "#     df_final[f'{i}_vendor_long'] = get_points_near_vendor(i,df_final['latitude'].values,df_final['longitude'].values,df_final['vendor_latitude'].values,df_final['vendor_logitude'].values).astype('float16')"
      ],
      "execution_count": null,
      "outputs": []
    },
    {
      "cell_type": "code",
      "metadata": {
        "id": "cP5bsjog4WOJ"
      },
      "source": [
        "# df_final.columns[68:]"
      ],
      "execution_count": null,
      "outputs": []
    },
    {
      "cell_type": "code",
      "metadata": {
        "id": "wTrQF5kB1dhI"
      },
      "source": [
        "\n",
        "\n",
        "# import pickle\n",
        "# with open('points_between_lat.pkl','wb') as f:\n",
        "#   pickle.dump(df_final[df_final.columns[68:]],f)"
      ],
      "execution_count": null,
      "outputs": []
    },
    {
      "cell_type": "code",
      "metadata": {
        "id": "BpLnxcVa1dvf"
      },
      "source": [
        "def haversine_vectorized(lon1, lat1, lon2, lat2):\n",
        "    \"\"\"\n",
        "    Calculate the great circle distance between two points\n",
        "    on the earth (specified in decimal degrees)\n",
        "\n",
        "    All args must be of equal length.    \n",
        "\n",
        "    \"\"\"\n",
        "    lon1, lat1, lon2, lat2 = map(np.radians, [lon1, lat1, lon2, lat2])\n",
        "\n",
        "    dlon = lon2 - lon1\n",
        "    dlat = lat2 - lat1\n",
        "\n",
        "    a = np.sin(dlat/2.0)**2 + np.cos(lat1) * np.cos(lat2) * np.sin(dlon/2.0)**2\n",
        "\n",
        "    c = 2 * np.arcsin(np.sqrt(a))\n",
        "    km = 6367 * c\n",
        "    return km"
      ],
      "execution_count": null,
      "outputs": []
    },
    {
      "cell_type": "code",
      "metadata": {
        "id": "Om0xPh-C1g4_"
      },
      "source": [
        "#Test has only locations till 11\n",
        "df_final = df_final[df_final['location_number'] <=11]\n",
        "df_final.reset_index(inplace=True,drop=True)"
      ],
      "execution_count": null,
      "outputs": []
    },
    {
      "cell_type": "code",
      "metadata": {
        "id": "37gH05Ad_fUG"
      },
      "source": [
        "df_final['cust_long_15'] = (df_final['longitude']*np.cos(15* np.pi / 180) - df_final['latitude']*np.sin(15* np.pi/180)).astype('float16')\n",
        "df_final['cust_long_22'] = (df_final['longitude']*np.cos(22.5* np.pi / 180) - df_final['latitude']*np.sin(22.5* np.pi/180)).astype('float16')\n",
        "df_final['cust_long_30'] = (df_final['longitude']*np.cos(30* np.pi / 180) - df_final['latitude']*np.sin(30* np.pi/180)).astype('float16')\n",
        "df_final['cust_long_45'] = (df_final['longitude']*np.cos(45* np.pi / 180) - df_final['latitude']*np.sin(45* np.pi/180)).astype('float16')\n",
        "df_final['cust_long_60'] = (df_final['longitude']*np.cos(60* np.pi / 180) - df_final['latitude']*np.sin(60* np.pi/180)).astype('float16')\n",
        "df_final['cust_long_75'] = (df_final['longitude']*np.cos(75* np.pi / 180) - df_final['latitude']*np.sin(75* np.pi/180)).astype('float16')\n",
        "\n",
        "\n",
        "df_final['cust_lat_15'] = (df_final['longitude']*np.sin(15* np.pi / 180) + df_final['latitude']*np.cos(15* np.pi/180)).astype('float16')\n",
        "df_final['cust_lat_22'] = (df_final['longitude']*np.sin(22.5* np.pi / 180) + df_final['latitude']*np.cos(22.5* np.pi/180)).astype('float16')\n",
        "df_final['cust_lat_30'] = (df_final['longitude']*np.sin(30* np.pi / 180) + df_final['latitude']*np.cos(30* np.pi/180)).astype('float16')\n",
        "df_final['cust_lat_45'] = (df_final['longitude']*np.sin(45* np.pi / 180) + df_final['latitude']*np.cos(45* np.pi/180)).astype('float16')\n",
        "df_final['cust_lat_60'] = (df_final['longitude']*np.sin(60* np.pi / 180) + df_final['latitude']*np.cos(60* np.pi/180)).astype('float16')\n",
        "df_final['cust_lat_75'] = (df_final['longitude']*np.sin(75* np.pi / 180) + df_final['latitude']*np.cos(75* np.pi/180)).astype('float16')\n"
      ],
      "execution_count": null,
      "outputs": []
    },
    {
      "cell_type": "code",
      "metadata": {
        "id": "SjRAyvAi_hXG"
      },
      "source": [
        "#Lat-long rotations\n",
        "\n",
        "df_final['vendor_long_15'] = (df_final['vendor_logitude']*np.cos(15* np.pi / 180) - df_final['vendor_latitude']*np.sin(15* np.pi/180)).astype('float16')\n",
        "df_final['vendor_long_22'] = (df_final['vendor_logitude']*np.cos(22.5* np.pi / 180) - df_final['vendor_latitude']*np.sin(22.5* np.pi/180)).astype('float16')\n",
        "df_final['vendor_long_30'] = (df_final['vendor_logitude']*np.cos(30* np.pi / 180) - df_final['vendor_latitude']*np.sin(30* np.pi/180)).astype('float16')\n",
        "df_final['vendor_long_45'] = (df_final['vendor_logitude']*np.cos(45* np.pi / 180) - df_final['vendor_latitude']*np.sin(45* np.pi/180)).astype('float16')\n",
        "df_final['vendor_long_60'] = (df_final['vendor_logitude']*np.cos(60* np.pi / 180) - df_final['vendor_latitude']*np.sin(60* np.pi/180)).astype('float16')\n",
        "df_final['vendor_long_75'] = (df_final['vendor_logitude']*np.cos(75* np.pi / 180) - df_final['vendor_latitude']*np.sin(75* np.pi/180)).astype('float16')\n",
        "\n",
        "\n",
        "df_final['vendor_lat_15'] = (df_final['vendor_logitude']*np.sin(15* np.pi / 180) + df_final['vendor_latitude']*np.cos(15* np.pi/180)).astype('float16')\n",
        "df_final['vendor_lat_22'] = (df_final['vendor_logitude']*np.sin(22.5* np.pi / 180) + df_final['vendor_latitude']*np.cos(22.5* np.pi/180)).astype('float16')\n",
        "df_final['vendor_lat_30'] = (df_final['vendor_logitude']*np.sin(30* np.pi / 180) + df_final['vendor_latitude']*np.cos(30* np.pi/180)).astype('float16')\n",
        "df_final['vendor_lat_45'] = (df_final['vendor_logitude']*np.sin(45* np.pi / 180) + df_final['vendor_latitude']*np.cos(45* np.pi/180)).astype('float16')\n",
        "df_final['vendor_lat_60'] = (df_final['vendor_logitude']*np.sin(60* np.pi / 180) + df_final['vendor_latitude']*np.cos(60* np.pi/180)).astype('float16')\n",
        "df_final['vendor_lat_75'] = (df_final['vendor_logitude']*np.sin(75* np.pi / 180) + df_final['vendor_latitude']*np.cos(75* np.pi/180)).astype('float16')"
      ],
      "execution_count": null,
      "outputs": []
    },
    {
      "cell_type": "code",
      "metadata": {
        "id": "mzKngWTF_jkM"
      },
      "source": [
        "df_final['sunday_time1'] = ((df_final['sunday_to_time1'] - df_final['sunday_from_time1']).astype('timedelta64[s]')/3600).astype('float16')\n",
        "df_final['sunday_time2'] =  ((df_final['sunday_to_time2'] - df_final['sunday_from_time2']).astype('timedelta64[s]')/3600).astype('float16')\n",
        "df_final['monday_time1'] = ((df_final['monday_to_time1'] - df_final['monday_from_time1']).astype('timedelta64[s]')/3600).astype('float16')\n",
        "df_final['monday_time2'] = ((df_final['monday_to_time2'] - df_final['monday_from_time2']).astype('timedelta64[s]')/3600).astype('float16')\n",
        "df_final['tuesday_time1'] =((df_final['tuesday_to_time1'] - df_final['tuesday_from_time1']).astype('timedelta64[s]')/3600).astype('float16')\n",
        "df_final['tuesday_time2'] = ((df_final['tuesday_to_time2'] - df_final['tuesday_from_time2']).astype('timedelta64[s]')/3600).astype('float16')\n",
        "df_final['wednesday_time1'] = ((df_final['wednesday_to_time1'] - df_final['wednesday_from_time1']).astype('timedelta64[s]')/3600).astype('float16')\n",
        "df_final['wednesday_time2'] = ((df_final['wednesday_to_time2'] - df_final['wednesday_from_time2']).astype('timedelta64[s]')/3600).astype('float16')\n",
        "df_final['thursday_time1'] =((df_final['thursday_to_time1'] - df_final['thursday_from_time1']).astype('timedelta64[s]')/3600).astype('float16')\n",
        "df_final['thursday_time2'] = ((df_final['thursday_to_time2'] - df_final['thursday_from_time2']).astype('timedelta64[s]')/3600).astype('float16')\n",
        "df_final['friday_time1'] = ((df_final['friday_to_time1'] - df_final['friday_from_time1']).astype('timedelta64[s]')/3600).astype('float16')\n",
        "df_final['friday_time2'] =((df_final['friday_to_time2'] - df_final['friday_from_time2']).astype('timedelta64[s]')/3600).astype('float16')\n",
        "df_final['saturday_time1'] =((df_final['saturday_to_time1'] - df_final['saturday_from_time1']).astype('timedelta64[s]')/3600).astype('float16')\n",
        "df_final['saturday_time2'] = ((df_final['saturday_to_time2'] - df_final['saturday_from_time2']).astype('timedelta64[s]')/3600).astype('float16')\n",
        "\n"
      ],
      "execution_count": null,
      "outputs": []
    },
    {
      "cell_type": "code",
      "metadata": {
        "id": "iJA4rADy_liX"
      },
      "source": [
        "\n",
        "columns_days = ['sunday_time1','sunday_time2','monday_time1','monday_time2','tuesday_time1','tuesday_time2','wednesday_time1','wednesday_time2',\n",
        "                 'thursday_time1','thursday_time2','friday_time1','friday_time2','saturday_time1','saturday_time2']\n",
        "for i in columns_days:\n",
        "    df_final[i] = df_final[i].fillna(0.0)         "
      ],
      "execution_count": null,
      "outputs": []
    },
    {
      "cell_type": "code",
      "metadata": {
        "id": "4SItXTQb_p2G"
      },
      "source": [
        "df_final['sunday_total'] = df_final['sunday_time1'] + df_final['sunday_time2']\n",
        "df_final['monday_total'] = df_final['monday_time1'] + df_final['monday_time2']\n",
        "df_final['tuesday_total'] = df_final['tuesday_time1']+df_final['tuesday_time2']\n",
        "df_final['wednesday_total'] = df_final['wednesday_time1']+df_final['wednesday_time2']\n",
        "df_final['thursday_total'] = df_final['thursday_time1']+df_final['thursday_time2']\n",
        "df_final['friday_total'] = df_final['friday_time1']+df_final['friday_time2']\n",
        "df_final['saturday_total'] = df_final['saturday_time1']+df_final['saturday_time2']\n",
        "\n",
        "df_final['Total_hrs_week'] = df_final['sunday_total'] + df_final['monday_total'] + df_final['tuesday_total'] + df_final['wednesday_total'] + df_final['thursday_total'] + df_final['friday_total'] +df_final['saturday_total']\n",
        "df_final['Total_hrs_weekday'] = df_final['monday_total'] + df_final['tuesday_total'] + df_final['wednesday_total'] + df_final['thursday_total']\n",
        "df_final['Total_hrs_weekend'] = df_final['sunday_total'] + df_final['friday_total'] +df_final['saturday_total']\n",
        "df_final['Total_hrs_weekend_day_diff'] = df_final['Total_hrs_weekday'] - df_final['Total_hrs_weekend']\n",
        "df_final['Total_hrs_week_fraction_week'] = df_final['Total_hrs_weekday']/df_final['Total_hrs_week']\n",
        "df_final['Total_hrs_week_fraction_weekend'] = df_final['Total_hrs_weekend']/df_final['Total_hrs_week']"
      ],
      "execution_count": null,
      "outputs": []
    },
    {
      "cell_type": "code",
      "metadata": {
        "id": "60aqbZyS_r-I"
      },
      "source": [
        "open_time2_map_train ={\n",
        "    '6:10pm-12:00am':'6:10PM-12:00AM',\n",
        "    '10pm-11pm':'10:00PM-11:00PM',\n",
        "    '01.00PM-02.00AM':'01:00PM-02:00AM',\n",
        "}\n",
        "open_time1_map_test ={\n",
        "    '09:00 AM-11:45 PM':'09:00AM-11:45PM',\n",
        "    '9-22':'9:00AM-10:00PM',\n",
        "    '01.00PM-02:.00AM':'01:00PM-02:00AM',\n",
        "    '08:00AM-11:45-':'08:00AM-11:45PM',\n",
        "    '9am-10pm':'9:00AM-10:00PM',\n",
        "    '11AM-11PM':'11:00AM-11:00PM',\n",
        "    '11:59AM-2:15 am':'11:59AM-2:15AM',\n",
        "    '11:00AM-111:00PM':'11:00AM-11:00PM',  \n",
        "    '11:30AM-11.59PM':'11:30AM-11:59PM',\n",
        "    '11.30am-11:30PM':'11:30am-11:30PM' \n",
        "}"
      ],
      "execution_count": null,
      "outputs": []
    },
    {
      "cell_type": "code",
      "metadata": {
        "id": "l9xUvBMg_uL0"
      },
      "source": [
        "df_final['OpeningTime2'] = df_final['OpeningTime2'].replace(open_time2_map_train)\n"
      ],
      "execution_count": null,
      "outputs": []
    },
    {
      "cell_type": "code",
      "metadata": {
        "id": "3hDVTO6I0Rm6"
      },
      "source": [
        "#I have ran these scripts and already created a dataframe as it takes a bit of time,this basically helps to tell from what place or time a person orders.\n",
        "def get_breakfast_flag(x_open_1,x_open1_1,x_open_2,x_open_2_2):\n",
        "    if x_open_2.minute == 34 and x_open_2.hour == 17:\n",
        "        if x_open_1.hour >=7 and x_open_1.hour <11 and x_open_1.minute < 30:\n",
        "            return 1\n",
        "        else:\n",
        "            return 0\n",
        "    else:\n",
        "        if (x_open_1.hour >=7 and x_open_1.hour <11 and x_open_1.minute < 30) or (x_open_2.hour >=7 and x_open_2.hour <11 and x_open_2.minute < 30):\n",
        "            return 1\n",
        "        else:\n",
        "            return 0"
      ],
      "execution_count": null,
      "outputs": []
    },
    {
      "cell_type": "code",
      "metadata": {
        "id": "h3b40oyn0SEQ"
      },
      "source": [
        "def get_dinner_flag(x_open_1,x_open1_1,x_open_2,x_open_2_2):\n",
        "    if x_open_2.minute == 34 and x_open_2.hour == 17:\n",
        "        if x_open1_1.hour >=18 and x_open1_1.hour <= 23 and x_open1_1.minute < 50:\n",
        "            return 1\n",
        "        else:\n",
        "            return 0\n",
        "    else:\n",
        "        if (x_open1_1.hour >=18 and x_open1_1.hour <= 23 and x_open1_1.minute < 50) or (x_open_2_2.hour >=18 and x_open_2_2.hour <23 and x_open_2_2.minute < 50):\n",
        "            return 1\n",
        "        else:\n",
        "            return 0"
      ],
      "execution_count": null,
      "outputs": []
    },
    {
      "cell_type": "code",
      "metadata": {
        "id": "KTnjnxv-0NM_"
      },
      "source": [
        "def get_late_night_flag(x_open_1,x_open1_1,x_open_2,x_open_2_2):\n",
        "    if x_open_2.minute == 34 and x_open_2.hour == 17:\n",
        "        if (x_open1_1.hour >= 0 and x_open1_1.hour <=5 and x_open1_1.minute > 5) or (x_open_1.hour >= 0 and x_open_1.hour <=5):\n",
        "            return 1\n",
        "        else:\n",
        "            return 0\n",
        "    else:\n",
        "        if ((x_open1_1.hour >= 0 and x_open1_1.hour <=5 and x_open1_1.minute > 5) or (x_open_1.hour >= 0 and x_open_1.hour <=5)) or ((x_open_2.hour >= 0 and x_open_2.hour <=5) or (x_open_2_2.hour >= 0 and x_open_2_2.hour <=5 and x_open_2_2.minute > 5)):\n",
        "            return 1\n",
        "        else:\n",
        "            return 0"
      ],
      "execution_count": null,
      "outputs": []
    },
    {
      "cell_type": "code",
      "metadata": {
        "id": "wWwt5yHl_wcO"
      },
      "source": [
        "def strip_spaces(x):\n",
        "    x = x.replace(' ','')\n",
        "    return x"
      ],
      "execution_count": null,
      "outputs": []
    },
    {
      "cell_type": "code",
      "metadata": {
        "id": "qRID0t1i_yDL"
      },
      "source": [
        "df_final['OpeningTime'] = df_final['OpeningTime'].apply(lambda x:strip_spaces(x))\n",
        "df_final['OpeningTime'] = df_final['OpeningTime'].replace(open_time1_map_test)"
      ],
      "execution_count": null,
      "outputs": []
    },
    {
      "cell_type": "code",
      "metadata": {
        "id": "lge2ZGmrjH8g"
      },
      "source": [],
      "execution_count": null,
      "outputs": []
    },
    {
      "cell_type": "code",
      "metadata": {
        "id": "UR9yrHib_05t"
      },
      "source": [
        "#Using Opening Time to create some features\n",
        "df_final['OpeningTime'] = df_final['OpeningTime'].fillna('05:34PM-05:35PM')\n",
        "df_final['OpeningTime2'] = df_final['OpeningTime2'].fillna('05:34PM-05:35PM')\n",
        "df_final['OpeningTime'] = df_final['OpeningTime'].apply(lambda x:x.upper())\n",
        "df_final['created_updated_diff'] =  ((df_final['created_at'] - df_final['updated_at']).dt.days).astype('float16')\n",
        "df_final['vendor_created_updated_diff'] = ((df_final['created_at_vendor'] - df_final['updated_at_vendor']).dt.days).astype('float16')\n",
        "df_final['vendor_started_at_created_diff'] = ((df_final['created_at_vendor'] - df_final['created_at_vendor'].min()).dt.days).astype('float16')\n",
        "df_final['started_at_created_diff'] = ((df_final['created_at'] - df_final['created_at'].min()).dt.days).astype('float16')\n",
        "df_final['is_continuously_open'] = df_final['OpeningTime2'].apply(lambda x: 1 if x!='-' else 0)\n",
        "df_final['is_continuously_open'] = df_final['is_continuously_open'].astype('int8')"
      ],
      "execution_count": null,
      "outputs": []
    },
    {
      "cell_type": "code",
      "metadata": {
        "id": "03teVRep_30-"
      },
      "source": [
        "df_final['OpeningTime1'] = df_final['OpeningTime'].apply(lambda x:x.split('-')[0])\n",
        "df_final['OpeningTime1_1'] = df_final['OpeningTime'].apply(lambda x:x.split('-')[1])\n",
        "df_final['OpeningTime_2'] = df_final['OpeningTime2'].apply(lambda x:x.split('-')[0])\n",
        "df_final['OpeningTime2_2'] = df_final['OpeningTime2'].apply(lambda x:x.split('-')[1])"
      ],
      "execution_count": null,
      "outputs": []
    },
    {
      "cell_type": "code",
      "metadata": {
        "id": "NKWetI5Z_55L"
      },
      "source": [
        "t = {\n",
        "    '':'05:34PM'\n",
        "}\n",
        "t_1 = {\n",
        "    '':'05:35PM'\n",
        "}"
      ],
      "execution_count": null,
      "outputs": []
    },
    {
      "cell_type": "code",
      "metadata": {
        "id": "gomZMh4h_7p8"
      },
      "source": [
        "df_final['OpeningTime_2'] = df_final['OpeningTime_2'].replace(t)\n",
        "df_final['OpeningTime2_2'] = df_final['OpeningTime2_2'].replace(t_1)\n",
        "\n",
        "df_final['OpeningTime1'] = pd.to_datetime(df_final['OpeningTime1'])\n",
        "df_final['OpeningTime1_1'] = pd.to_datetime(df_final['OpeningTime1_1'])\n",
        "df_final['OpeningTime2_2'] = pd.to_datetime(df_final['OpeningTime2_2'])\n",
        "df_final['OpeningTime_2'] = pd.to_datetime(df_final['OpeningTime_2'])"
      ],
      "execution_count": null,
      "outputs": []
    },
    {
      "cell_type": "code",
      "metadata": {
        "id": "Tb5fD_iTABeW"
      },
      "source": [
        "df_final['Opening_Time_Hours'] =  24 - ((df_final['OpeningTime1'] - df_final['OpeningTime1_1']).astype('timedelta64[s]')/3600).astype('float16')\n",
        "df_final['Opening_Time2_Hours'] =  24 - ((df_final['OpeningTime_2'] - df_final['OpeningTime2_2']).astype('timedelta64[s]')/3600).astype('float16')\n",
        "df_final['Total_Open_Rest'] = df_final['Opening_Time_Hours'] + df_final['Opening_Time2_Hours']\n",
        "df_final['Total_Open_Rest_diff'] = df_final['Opening_Time_Hours'] - df_final['Opening_Time2_Hours']\n",
        "df_final['Total_Open_Rest_div'] = df_final['Opening_Time_Hours'] / df_final['Opening_Time2_Hours']"
      ],
      "execution_count": null,
      "outputs": []
    },
    {
      "cell_type": "code",
      "metadata": {
        "id": "C0zszFGDAEDZ",
        "colab": {
          "base_uri": "https://localhost:8080/",
          "height": 34
        },
        "outputId": "335b8d0a-e446-4740-d9a6-180e911f0f82"
      },
      "source": [
        "gc.collect()"
      ],
      "execution_count": null,
      "outputs": [
        {
          "output_type": "execute_result",
          "data": {
            "text/plain": [
              "40"
            ]
          },
          "metadata": {
            "tags": []
          },
          "execution_count": 35
        }
      ]
    },
    {
      "cell_type": "code",
      "metadata": {
        "id": "wTugOqGLAFrP"
      },
      "source": [
        "loc_type = {\n",
        "    'Home':0,\n",
        "    'Work':1,\n",
        "    'Other':2\n",
        "}\n",
        "vendor_cat_en = {\n",
        "    'Restaurants':0,\n",
        "    'Sweets & Bakes':1\n",
        "}"
      ],
      "execution_count": null,
      "outputs": []
    },
    {
      "cell_type": "code",
      "metadata": {
        "id": "SoN3HQnlQrcj"
      },
      "source": [
        "\n"
      ],
      "execution_count": null,
      "outputs": []
    },
    {
      "cell_type": "code",
      "metadata": {
        "id": "fO87zeHRAHUu"
      },
      "source": [
        "df_final['location_type'] = df_final['location_type'].map(loc_type)\n",
        "df_final['vendor_category_en'] = df_final['vendor_category_en'].map(vendor_cat_en)\n",
        "\n",
        "# df_test['location_type'] = df_test['location_type'].map(loc_type)\n",
        "# df_test['vendor_category_en'] = df_test['vevendor_long_30ndor_category_en'].map(loc_type)"
      ],
      "execution_count": null,
      "outputs": []
    },
    {
      "cell_type": "code",
      "metadata": {
        "id": "Z3mPZaFKAJWz"
      },
      "source": [
        "from sklearn.preprocessing import MultiLabelBinarizer,LabelEncoder\n",
        "mlb = MultiLabelBinarizer()\n",
        "le = LabelEncoder()"
      ],
      "execution_count": null,
      "outputs": []
    },
    {
      "cell_type": "code",
      "metadata": {
        "id": "odSVEGthALsO"
      },
      "source": [
        "df_final['vendor_tag_name'] = df_final['vendor_tag_name'].astype('str') \n",
        "df_final['vendor_tag_name'] = df_final['vendor_tag_name'].fillna(\"NaN\")\n",
        "df_final['vendor_tag_name'] = df_final['vendor_tag_name'].astype('category')"
      ],
      "execution_count": null,
      "outputs": []
    },
    {
      "cell_type": "code",
      "metadata": {
        "id": "5v3PKe4nRB1G"
      },
      "source": [
        "df_final['vendor_tag_label_encoded'] = le.fit_transform(df_final['vendor_tag_name'])"
      ],
      "execution_count": null,
      "outputs": []
    },
    {
      "cell_type": "code",
      "metadata": {
        "id": "Zmcwr7mDGsaw"
      },
      "source": [
        "# df_final['vid'].value_counts()"
      ],
      "execution_count": null,
      "outputs": []
    },
    {
      "cell_type": "code",
      "metadata": {
        "id": "I6JXiILjIvyO",
        "colab": {
          "base_uri": "https://localhost:8080/",
          "height": 330
        },
        "outputId": "ad1b225d-750a-4497-a60e-000830e8f983"
      },
      "source": [
        "df_final.head()"
      ],
      "execution_count": null,
      "outputs": [
        {
          "output_type": "execute_result",
          "data": {
            "text/html": [
              "<div>\n",
              "<style scoped>\n",
              "    .dataframe tbody tr th:only-of-type {\n",
              "        vertical-align: middle;\n",
              "    }\n",
              "\n",
              "    .dataframe tbody tr th {\n",
              "        vertical-align: top;\n",
              "    }\n",
              "\n",
              "    .dataframe thead th {\n",
              "        text-align: right;\n",
              "    }\n",
              "</style>\n",
              "<table border=\"1\" class=\"dataframe\">\n",
              "  <thead>\n",
              "    <tr style=\"text-align: right;\">\n",
              "      <th></th>\n",
              "      <th>customer_id</th>\n",
              "      <th>location_number</th>\n",
              "      <th>location_type</th>\n",
              "      <th>latitude</th>\n",
              "      <th>longitude</th>\n",
              "      <th>created_at</th>\n",
              "      <th>updated_at</th>\n",
              "      <th>id</th>\n",
              "      <th>authentication_id</th>\n",
              "      <th>vendor_latitude</th>\n",
              "      <th>vendor_logitude</th>\n",
              "      <th>vendor_category_en</th>\n",
              "      <th>vendor_category_id</th>\n",
              "      <th>delivery_charge</th>\n",
              "      <th>serving_distance</th>\n",
              "      <th>is_open</th>\n",
              "      <th>OpeningTime</th>\n",
              "      <th>OpeningTime2</th>\n",
              "      <th>prepration_time</th>\n",
              "      <th>discount_percentage</th>\n",
              "      <th>status</th>\n",
              "      <th>verified</th>\n",
              "      <th>rank</th>\n",
              "      <th>vendor_rating</th>\n",
              "      <th>sunday_from_time1</th>\n",
              "      <th>sunday_to_time1</th>\n",
              "      <th>sunday_from_time2</th>\n",
              "      <th>sunday_to_time2</th>\n",
              "      <th>monday_from_time1</th>\n",
              "      <th>monday_to_time1</th>\n",
              "      <th>monday_from_time2</th>\n",
              "      <th>monday_to_time2</th>\n",
              "      <th>tuesday_from_time1</th>\n",
              "      <th>tuesday_to_time1</th>\n",
              "      <th>tuesday_from_time2</th>\n",
              "      <th>tuesday_to_time2</th>\n",
              "      <th>wednesday_from_time1</th>\n",
              "      <th>wednesday_to_time1</th>\n",
              "      <th>wednesday_from_time2</th>\n",
              "      <th>wednesday_to_time2</th>\n",
              "      <th>thursday_from_time1</th>\n",
              "      <th>thursday_to_time1</th>\n",
              "      <th>thursday_from_time2</th>\n",
              "      <th>thursday_to_time2</th>\n",
              "      <th>friday_from_time1</th>\n",
              "      <th>friday_to_time1</th>\n",
              "      <th>friday_from_time2</th>\n",
              "      <th>friday_to_time2</th>\n",
              "      <th>saturday_from_time1</th>\n",
              "      <th>saturday_to_time1</th>\n",
              "      <th>...</th>\n",
              "      <th>vendor_long_60</th>\n",
              "      <th>vendor_long_75</th>\n",
              "      <th>vendor_lat_15</th>\n",
              "      <th>vendor_lat_22</th>\n",
              "      <th>vendor_lat_30</th>\n",
              "      <th>vendor_lat_45</th>\n",
              "      <th>vendor_lat_60</th>\n",
              "      <th>vendor_lat_75</th>\n",
              "      <th>sunday_time1</th>\n",
              "      <th>sunday_time2</th>\n",
              "      <th>monday_time1</th>\n",
              "      <th>monday_time2</th>\n",
              "      <th>tuesday_time1</th>\n",
              "      <th>tuesday_time2</th>\n",
              "      <th>wednesday_time1</th>\n",
              "      <th>wednesday_time2</th>\n",
              "      <th>thursday_time1</th>\n",
              "      <th>thursday_time2</th>\n",
              "      <th>friday_time1</th>\n",
              "      <th>friday_time2</th>\n",
              "      <th>saturday_time1</th>\n",
              "      <th>saturday_time2</th>\n",
              "      <th>sunday_total</th>\n",
              "      <th>monday_total</th>\n",
              "      <th>tuesday_total</th>\n",
              "      <th>wednesday_total</th>\n",
              "      <th>thursday_total</th>\n",
              "      <th>friday_total</th>\n",
              "      <th>saturday_total</th>\n",
              "      <th>Total_hrs_week</th>\n",
              "      <th>Total_hrs_weekday</th>\n",
              "      <th>Total_hrs_weekend</th>\n",
              "      <th>Total_hrs_weekend_day_diff</th>\n",
              "      <th>Total_hrs_week_fraction_week</th>\n",
              "      <th>Total_hrs_week_fraction_weekend</th>\n",
              "      <th>created_updated_diff</th>\n",
              "      <th>vendor_created_updated_diff</th>\n",
              "      <th>vendor_started_at_created_diff</th>\n",
              "      <th>started_at_created_diff</th>\n",
              "      <th>is_continuously_open</th>\n",
              "      <th>OpeningTime1</th>\n",
              "      <th>OpeningTime1_1</th>\n",
              "      <th>OpeningTime_2</th>\n",
              "      <th>OpeningTime2_2</th>\n",
              "      <th>Opening_Time_Hours</th>\n",
              "      <th>Opening_Time2_Hours</th>\n",
              "      <th>Total_Open_Rest</th>\n",
              "      <th>Total_Open_Rest_diff</th>\n",
              "      <th>Total_Open_Rest_div</th>\n",
              "      <th>vendor_tag_label_encoded</th>\n",
              "    </tr>\n",
              "  </thead>\n",
              "  <tbody>\n",
              "    <tr>\n",
              "      <th>0</th>\n",
              "      <td>02SFNJH</td>\n",
              "      <td>0</td>\n",
              "      <td>NaN</td>\n",
              "      <td>1.682617</td>\n",
              "      <td>-78.8125</td>\n",
              "      <td>2019-06-17 00:33:23</td>\n",
              "      <td>2019-10-01 18:46:33</td>\n",
              "      <td>4</td>\n",
              "      <td>118597.0</td>\n",
              "      <td>-0.588379</td>\n",
              "      <td>0.754395</td>\n",
              "      <td>0</td>\n",
              "      <td>2.0</td>\n",
              "      <td>0.000000</td>\n",
              "      <td>6.0</td>\n",
              "      <td>1.0</td>\n",
              "      <td>11:00AM-11:30PM</td>\n",
              "      <td>-</td>\n",
              "      <td>15.0</td>\n",
              "      <td>0.0</td>\n",
              "      <td>1.0</td>\n",
              "      <td>1.0</td>\n",
              "      <td>11</td>\n",
              "      <td>4.398438</td>\n",
              "      <td>2020-07-15 00:00:00</td>\n",
              "      <td>2020-07-15 00:30:00</td>\n",
              "      <td>2020-07-15 08:00:00</td>\n",
              "      <td>2020-07-15 23:59:00</td>\n",
              "      <td>2020-07-15 00:00:00</td>\n",
              "      <td>2020-07-15 00:30:00</td>\n",
              "      <td>2020-07-15 08:00:00</td>\n",
              "      <td>2020-07-15 23:59:00</td>\n",
              "      <td>2020-07-15 00:00:00</td>\n",
              "      <td>2020-07-15 00:30:00</td>\n",
              "      <td>2020-07-15 08:00:00</td>\n",
              "      <td>2020-07-15 23:59:00</td>\n",
              "      <td>2020-07-15 00:00:00</td>\n",
              "      <td>2020-07-15 00:30:00</td>\n",
              "      <td>2020-07-15 08:00:00</td>\n",
              "      <td>2020-07-15 23:59:00</td>\n",
              "      <td>2020-07-15 00:00:00</td>\n",
              "      <td>2020-07-15 00:30:00</td>\n",
              "      <td>2020-07-15 08:00:00</td>\n",
              "      <td>2020-07-15 23:59:00</td>\n",
              "      <td>2020-07-15 00:00:00</td>\n",
              "      <td>2020-07-15 00:30:00</td>\n",
              "      <td>2020-07-15 10:00:00</td>\n",
              "      <td>2020-07-15 23:59:00</td>\n",
              "      <td>2020-07-15 00:00:00</td>\n",
              "      <td>2020-07-15 00:30:00</td>\n",
              "      <td>...</td>\n",
              "      <td>0.886719</td>\n",
              "      <td>0.763672</td>\n",
              "      <td>-0.373047</td>\n",
              "      <td>-0.254883</td>\n",
              "      <td>-0.132568</td>\n",
              "      <td>0.117188</td>\n",
              "      <td>0.359131</td>\n",
              "      <td>0.576172</td>\n",
              "      <td>0.500000</td>\n",
              "      <td>15.984375</td>\n",
              "      <td>0.500000</td>\n",
              "      <td>15.984375</td>\n",
              "      <td>0.500000</td>\n",
              "      <td>15.984375</td>\n",
              "      <td>0.500000</td>\n",
              "      <td>15.984375</td>\n",
              "      <td>0.500000</td>\n",
              "      <td>15.984375</td>\n",
              "      <td>0.500000</td>\n",
              "      <td>13.984375</td>\n",
              "      <td>0.500000</td>\n",
              "      <td>13.984375</td>\n",
              "      <td>16.484375</td>\n",
              "      <td>16.484375</td>\n",
              "      <td>16.484375</td>\n",
              "      <td>16.484375</td>\n",
              "      <td>16.484375</td>\n",
              "      <td>14.484375</td>\n",
              "      <td>14.484375</td>\n",
              "      <td>111.4375</td>\n",
              "      <td>65.93750</td>\n",
              "      <td>45.43750</td>\n",
              "      <td>20.50000</td>\n",
              "      <td>0.591797</td>\n",
              "      <td>0.407715</td>\n",
              "      <td>-107.0</td>\n",
              "      <td>-799.0</td>\n",
              "      <td>0.0</td>\n",
              "      <td>494.0</td>\n",
              "      <td>0</td>\n",
              "      <td>2020-08-11 11:00:00</td>\n",
              "      <td>2020-08-11 23:30:00</td>\n",
              "      <td>2020-08-11 17:34:00</td>\n",
              "      <td>2020-08-11 17:35:00</td>\n",
              "      <td>36.50</td>\n",
              "      <td>24.015625</td>\n",
              "      <td>60.50</td>\n",
              "      <td>12.484375</td>\n",
              "      <td>1.519531</td>\n",
              "      <td>19</td>\n",
              "    </tr>\n",
              "    <tr>\n",
              "      <th>1</th>\n",
              "      <td>02SFNJH</td>\n",
              "      <td>0</td>\n",
              "      <td>NaN</td>\n",
              "      <td>1.682617</td>\n",
              "      <td>-78.8125</td>\n",
              "      <td>2019-06-17 00:33:23</td>\n",
              "      <td>2019-10-01 18:46:33</td>\n",
              "      <td>13</td>\n",
              "      <td>118608.0</td>\n",
              "      <td>-0.471680</td>\n",
              "      <td>0.744629</td>\n",
              "      <td>0</td>\n",
              "      <td>2.0</td>\n",
              "      <td>0.700195</td>\n",
              "      <td>5.0</td>\n",
              "      <td>1.0</td>\n",
              "      <td>08:30AM-10:30PM</td>\n",
              "      <td>-</td>\n",
              "      <td>14.0</td>\n",
              "      <td>0.0</td>\n",
              "      <td>1.0</td>\n",
              "      <td>1.0</td>\n",
              "      <td>11</td>\n",
              "      <td>4.699219</td>\n",
              "      <td>2020-07-15 00:00:00</td>\n",
              "      <td>2020-07-15 01:30:00</td>\n",
              "      <td>2020-07-15 08:00:00</td>\n",
              "      <td>2020-07-15 23:59:00</td>\n",
              "      <td>2020-07-15 00:00:00</td>\n",
              "      <td>2020-07-15 01:30:00</td>\n",
              "      <td>2020-07-15 08:00:00</td>\n",
              "      <td>2020-07-15 23:59:00</td>\n",
              "      <td>2020-07-15 00:00:00</td>\n",
              "      <td>2020-07-15 01:30:00</td>\n",
              "      <td>2020-07-15 08:00:00</td>\n",
              "      <td>2020-07-15 23:59:00</td>\n",
              "      <td>2020-07-15 00:00:00</td>\n",
              "      <td>2020-07-15 01:30:00</td>\n",
              "      <td>2020-07-15 08:00:00</td>\n",
              "      <td>2020-07-15 19:30:00</td>\n",
              "      <td>2020-07-15 00:00:00</td>\n",
              "      <td>2020-07-15 01:30:00</td>\n",
              "      <td>2020-07-15 08:00:00</td>\n",
              "      <td>2020-07-15 19:30:00</td>\n",
              "      <td>2020-07-15 00:00:00</td>\n",
              "      <td>2020-07-15 01:30:00</td>\n",
              "      <td>2020-07-15 08:00:00</td>\n",
              "      <td>2020-07-15 23:59:00</td>\n",
              "      <td>2020-07-15 00:00:00</td>\n",
              "      <td>2020-07-15 01:30:00</td>\n",
              "      <td>...</td>\n",
              "      <td>0.781250</td>\n",
              "      <td>0.648438</td>\n",
              "      <td>-0.262695</td>\n",
              "      <td>-0.150879</td>\n",
              "      <td>-0.036377</td>\n",
              "      <td>0.192871</td>\n",
              "      <td>0.409180</td>\n",
              "      <td>0.597168</td>\n",
              "      <td>1.500000</td>\n",
              "      <td>15.984375</td>\n",
              "      <td>1.500000</td>\n",
              "      <td>15.984375</td>\n",
              "      <td>1.500000</td>\n",
              "      <td>15.984375</td>\n",
              "      <td>1.500000</td>\n",
              "      <td>11.500000</td>\n",
              "      <td>1.500000</td>\n",
              "      <td>11.500000</td>\n",
              "      <td>1.500000</td>\n",
              "      <td>15.984375</td>\n",
              "      <td>1.500000</td>\n",
              "      <td>15.984375</td>\n",
              "      <td>17.484375</td>\n",
              "      <td>17.484375</td>\n",
              "      <td>17.484375</td>\n",
              "      <td>13.000000</td>\n",
              "      <td>13.000000</td>\n",
              "      <td>17.484375</td>\n",
              "      <td>17.484375</td>\n",
              "      <td>113.4375</td>\n",
              "      <td>60.96875</td>\n",
              "      <td>52.43750</td>\n",
              "      <td>8.53125</td>\n",
              "      <td>0.537598</td>\n",
              "      <td>0.462158</td>\n",
              "      <td>-107.0</td>\n",
              "      <td>-704.0</td>\n",
              "      <td>92.0</td>\n",
              "      <td>494.0</td>\n",
              "      <td>0</td>\n",
              "      <td>2020-08-11 08:30:00</td>\n",
              "      <td>2020-08-11 22:30:00</td>\n",
              "      <td>2020-08-11 17:34:00</td>\n",
              "      <td>2020-08-11 17:35:00</td>\n",
              "      <td>38.00</td>\n",
              "      <td>24.015625</td>\n",
              "      <td>62.00</td>\n",
              "      <td>13.984375</td>\n",
              "      <td>1.582031</td>\n",
              "      <td>36</td>\n",
              "    </tr>\n",
              "    <tr>\n",
              "      <th>2</th>\n",
              "      <td>02SFNJH</td>\n",
              "      <td>0</td>\n",
              "      <td>NaN</td>\n",
              "      <td>1.682617</td>\n",
              "      <td>-78.8125</td>\n",
              "      <td>2019-06-17 00:33:23</td>\n",
              "      <td>2019-10-01 18:46:33</td>\n",
              "      <td>20</td>\n",
              "      <td>118616.0</td>\n",
              "      <td>-0.407471</td>\n",
              "      <td>0.643555</td>\n",
              "      <td>0</td>\n",
              "      <td>2.0</td>\n",
              "      <td>0.000000</td>\n",
              "      <td>8.0</td>\n",
              "      <td>1.0</td>\n",
              "      <td>08:00AM-10:45PM</td>\n",
              "      <td>-</td>\n",
              "      <td>19.0</td>\n",
              "      <td>0.0</td>\n",
              "      <td>1.0</td>\n",
              "      <td>1.0</td>\n",
              "      <td>1</td>\n",
              "      <td>4.500000</td>\n",
              "      <td>2020-07-15 08:00:00</td>\n",
              "      <td>2020-07-15 22:45:00</td>\n",
              "      <td>NaT</td>\n",
              "      <td>NaT</td>\n",
              "      <td>2020-07-15 08:00:00</td>\n",
              "      <td>2020-07-15 22:45:00</td>\n",
              "      <td>NaT</td>\n",
              "      <td>NaT</td>\n",
              "      <td>2020-07-15 08:00:00</td>\n",
              "      <td>2020-07-15 22:45:00</td>\n",
              "      <td>NaT</td>\n",
              "      <td>NaT</td>\n",
              "      <td>2020-07-15 08:00:00</td>\n",
              "      <td>2020-07-15 22:45:00</td>\n",
              "      <td>NaT</td>\n",
              "      <td>NaT</td>\n",
              "      <td>2020-07-15 08:00:00</td>\n",
              "      <td>2020-07-15 22:45:00</td>\n",
              "      <td>NaT</td>\n",
              "      <td>NaT</td>\n",
              "      <td>2020-07-15 08:00:00</td>\n",
              "      <td>2020-07-15 22:45:00</td>\n",
              "      <td>NaT</td>\n",
              "      <td>NaT</td>\n",
              "      <td>2020-07-15 08:00:00</td>\n",
              "      <td>2020-07-15 22:45:00</td>\n",
              "      <td>...</td>\n",
              "      <td>0.674805</td>\n",
              "      <td>0.560059</td>\n",
              "      <td>-0.227051</td>\n",
              "      <td>-0.130249</td>\n",
              "      <td>-0.031250</td>\n",
              "      <td>0.166992</td>\n",
              "      <td>0.354004</td>\n",
              "      <td>0.516113</td>\n",
              "      <td>14.750000</td>\n",
              "      <td>0.000000</td>\n",
              "      <td>14.750000</td>\n",
              "      <td>0.000000</td>\n",
              "      <td>14.750000</td>\n",
              "      <td>0.000000</td>\n",
              "      <td>14.750000</td>\n",
              "      <td>0.000000</td>\n",
              "      <td>14.750000</td>\n",
              "      <td>0.000000</td>\n",
              "      <td>14.750000</td>\n",
              "      <td>0.000000</td>\n",
              "      <td>14.750000</td>\n",
              "      <td>0.000000</td>\n",
              "      <td>14.750000</td>\n",
              "      <td>14.750000</td>\n",
              "      <td>14.750000</td>\n",
              "      <td>14.750000</td>\n",
              "      <td>14.750000</td>\n",
              "      <td>14.750000</td>\n",
              "      <td>14.750000</td>\n",
              "      <td>103.2500</td>\n",
              "      <td>59.00000</td>\n",
              "      <td>44.25000</td>\n",
              "      <td>14.75000</td>\n",
              "      <td>0.571289</td>\n",
              "      <td>0.428467</td>\n",
              "      <td>-107.0</td>\n",
              "      <td>-704.0</td>\n",
              "      <td>94.0</td>\n",
              "      <td>494.0</td>\n",
              "      <td>0</td>\n",
              "      <td>2020-08-11 08:00:00</td>\n",
              "      <td>2020-08-11 22:45:00</td>\n",
              "      <td>2020-08-11 17:34:00</td>\n",
              "      <td>2020-08-11 17:35:00</td>\n",
              "      <td>38.75</td>\n",
              "      <td>24.015625</td>\n",
              "      <td>62.75</td>\n",
              "      <td>14.734375</td>\n",
              "      <td>1.613281</td>\n",
              "      <td>37</td>\n",
              "    </tr>\n",
              "    <tr>\n",
              "      <th>3</th>\n",
              "      <td>02SFNJH</td>\n",
              "      <td>0</td>\n",
              "      <td>NaN</td>\n",
              "      <td>1.682617</td>\n",
              "      <td>-78.8125</td>\n",
              "      <td>2019-06-17 00:33:23</td>\n",
              "      <td>2019-10-01 18:46:33</td>\n",
              "      <td>23</td>\n",
              "      <td>118619.0</td>\n",
              "      <td>-0.585449</td>\n",
              "      <td>0.753906</td>\n",
              "      <td>0</td>\n",
              "      <td>2.0</td>\n",
              "      <td>0.000000</td>\n",
              "      <td>5.0</td>\n",
              "      <td>1.0</td>\n",
              "      <td>10:59AM-10:30PM</td>\n",
              "      <td>-</td>\n",
              "      <td>16.0</td>\n",
              "      <td>0.0</td>\n",
              "      <td>1.0</td>\n",
              "      <td>1.0</td>\n",
              "      <td>11</td>\n",
              "      <td>4.500000</td>\n",
              "      <td>2020-07-15 09:00:00</td>\n",
              "      <td>2020-07-15 23:30:00</td>\n",
              "      <td>NaT</td>\n",
              "      <td>NaT</td>\n",
              "      <td>2020-07-15 09:00:00</td>\n",
              "      <td>2020-07-15 23:30:00</td>\n",
              "      <td>NaT</td>\n",
              "      <td>NaT</td>\n",
              "      <td>2020-07-15 09:00:00</td>\n",
              "      <td>2020-07-15 23:30:00</td>\n",
              "      <td>NaT</td>\n",
              "      <td>NaT</td>\n",
              "      <td>2020-07-15 09:00:00</td>\n",
              "      <td>2020-07-15 23:30:00</td>\n",
              "      <td>NaT</td>\n",
              "      <td>NaT</td>\n",
              "      <td>2020-07-15 09:00:00</td>\n",
              "      <td>2020-07-15 23:45:00</td>\n",
              "      <td>NaT</td>\n",
              "      <td>NaT</td>\n",
              "      <td>2020-07-15 09:00:00</td>\n",
              "      <td>2020-07-15 23:45:00</td>\n",
              "      <td>NaT</td>\n",
              "      <td>NaT</td>\n",
              "      <td>2020-07-15 09:00:00</td>\n",
              "      <td>2020-07-15 23:45:00</td>\n",
              "      <td>...</td>\n",
              "      <td>0.884277</td>\n",
              "      <td>0.760742</td>\n",
              "      <td>-0.370361</td>\n",
              "      <td>-0.252686</td>\n",
              "      <td>-0.130371</td>\n",
              "      <td>0.119385</td>\n",
              "      <td>0.360107</td>\n",
              "      <td>0.576660</td>\n",
              "      <td>14.500000</td>\n",
              "      <td>0.000000</td>\n",
              "      <td>14.500000</td>\n",
              "      <td>0.000000</td>\n",
              "      <td>14.500000</td>\n",
              "      <td>0.000000</td>\n",
              "      <td>14.500000</td>\n",
              "      <td>0.000000</td>\n",
              "      <td>14.750000</td>\n",
              "      <td>0.000000</td>\n",
              "      <td>14.750000</td>\n",
              "      <td>0.000000</td>\n",
              "      <td>14.750000</td>\n",
              "      <td>0.000000</td>\n",
              "      <td>14.500000</td>\n",
              "      <td>14.500000</td>\n",
              "      <td>14.500000</td>\n",
              "      <td>14.500000</td>\n",
              "      <td>14.750000</td>\n",
              "      <td>14.750000</td>\n",
              "      <td>14.750000</td>\n",
              "      <td>102.2500</td>\n",
              "      <td>58.25000</td>\n",
              "      <td>44.00000</td>\n",
              "      <td>14.25000</td>\n",
              "      <td>0.569824</td>\n",
              "      <td>0.430420</td>\n",
              "      <td>-107.0</td>\n",
              "      <td>-697.0</td>\n",
              "      <td>96.0</td>\n",
              "      <td>494.0</td>\n",
              "      <td>0</td>\n",
              "      <td>2020-08-11 10:59:00</td>\n",
              "      <td>2020-08-11 22:30:00</td>\n",
              "      <td>2020-08-11 17:34:00</td>\n",
              "      <td>2020-08-11 17:35:00</td>\n",
              "      <td>35.50</td>\n",
              "      <td>24.015625</td>\n",
              "      <td>59.50</td>\n",
              "      <td>11.484375</td>\n",
              "      <td>1.478516</td>\n",
              "      <td>46</td>\n",
              "    </tr>\n",
              "    <tr>\n",
              "      <th>4</th>\n",
              "      <td>02SFNJH</td>\n",
              "      <td>0</td>\n",
              "      <td>NaN</td>\n",
              "      <td>1.682617</td>\n",
              "      <td>-78.8125</td>\n",
              "      <td>2019-06-17 00:33:23</td>\n",
              "      <td>2019-10-01 18:46:33</td>\n",
              "      <td>28</td>\n",
              "      <td>118624.0</td>\n",
              "      <td>0.480713</td>\n",
              "      <td>0.552734</td>\n",
              "      <td>0</td>\n",
              "      <td>2.0</td>\n",
              "      <td>0.700195</td>\n",
              "      <td>15.0</td>\n",
              "      <td>1.0</td>\n",
              "      <td>11:00AM-11:45PM</td>\n",
              "      <td>-</td>\n",
              "      <td>10.0</td>\n",
              "      <td>0.0</td>\n",
              "      <td>1.0</td>\n",
              "      <td>1.0</td>\n",
              "      <td>11</td>\n",
              "      <td>4.398438</td>\n",
              "      <td>2020-07-15 00:01:00</td>\n",
              "      <td>2020-07-15 00:30:00</td>\n",
              "      <td>2020-07-15 11:00:00</td>\n",
              "      <td>2020-07-15 23:59:00</td>\n",
              "      <td>2020-07-15 00:01:00</td>\n",
              "      <td>2020-07-15 00:30:00</td>\n",
              "      <td>2020-07-15 11:00:00</td>\n",
              "      <td>2020-07-15 23:59:00</td>\n",
              "      <td>2020-07-15 00:01:00</td>\n",
              "      <td>2020-07-15 00:30:00</td>\n",
              "      <td>2020-07-15 11:00:00</td>\n",
              "      <td>2020-07-15 23:59:00</td>\n",
              "      <td>2020-07-15 00:01:00</td>\n",
              "      <td>2020-07-15 00:30:00</td>\n",
              "      <td>2020-07-15 11:00:00</td>\n",
              "      <td>2020-07-15 23:59:00</td>\n",
              "      <td>2020-07-15 00:01:00</td>\n",
              "      <td>2020-07-15 00:30:00</td>\n",
              "      <td>2020-07-15 11:00:00</td>\n",
              "      <td>2020-07-15 23:59:00</td>\n",
              "      <td>2020-07-15 00:01:00</td>\n",
              "      <td>2020-07-15 01:30:00</td>\n",
              "      <td>2020-07-15 17:45:00</td>\n",
              "      <td>2020-07-15 23:59:00</td>\n",
              "      <td>2020-07-15 00:01:00</td>\n",
              "      <td>2020-07-15 01:30:00</td>\n",
              "      <td>...</td>\n",
              "      <td>-0.140137</td>\n",
              "      <td>-0.321289</td>\n",
              "      <td>0.607422</td>\n",
              "      <td>0.655273</td>\n",
              "      <td>0.692871</td>\n",
              "      <td>0.730469</td>\n",
              "      <td>0.719238</td>\n",
              "      <td>0.658203</td>\n",
              "      <td>0.483398</td>\n",
              "      <td>12.984375</td>\n",
              "      <td>0.483398</td>\n",
              "      <td>12.984375</td>\n",
              "      <td>0.483398</td>\n",
              "      <td>12.984375</td>\n",
              "      <td>0.483398</td>\n",
              "      <td>12.984375</td>\n",
              "      <td>0.483398</td>\n",
              "      <td>12.984375</td>\n",
              "      <td>1.483398</td>\n",
              "      <td>6.234375</td>\n",
              "      <td>1.483398</td>\n",
              "      <td>6.234375</td>\n",
              "      <td>13.468750</td>\n",
              "      <td>13.468750</td>\n",
              "      <td>13.468750</td>\n",
              "      <td>13.468750</td>\n",
              "      <td>13.468750</td>\n",
              "      <td>7.718750</td>\n",
              "      <td>7.718750</td>\n",
              "      <td>82.8750</td>\n",
              "      <td>53.87500</td>\n",
              "      <td>28.90625</td>\n",
              "      <td>24.96875</td>\n",
              "      <td>0.649902</td>\n",
              "      <td>0.348877</td>\n",
              "      <td>-107.0</td>\n",
              "      <td>-689.0</td>\n",
              "      <td>107.0</td>\n",
              "      <td>494.0</td>\n",
              "      <td>0</td>\n",
              "      <td>2020-08-11 11:00:00</td>\n",
              "      <td>2020-08-11 23:45:00</td>\n",
              "      <td>2020-08-11 17:34:00</td>\n",
              "      <td>2020-08-11 17:35:00</td>\n",
              "      <td>36.75</td>\n",
              "      <td>24.015625</td>\n",
              "      <td>60.75</td>\n",
              "      <td>12.734375</td>\n",
              "      <td>1.530273</td>\n",
              "      <td>42</td>\n",
              "    </tr>\n",
              "  </tbody>\n",
              "</table>\n",
              "<p>5 rows × 166 columns</p>\n",
              "</div>"
            ],
            "text/plain": [
              "  customer_id  location_number location_type  latitude  longitude  \\\n",
              "0     02SFNJH                0           NaN  1.682617   -78.8125   \n",
              "1     02SFNJH                0           NaN  1.682617   -78.8125   \n",
              "2     02SFNJH                0           NaN  1.682617   -78.8125   \n",
              "3     02SFNJH                0           NaN  1.682617   -78.8125   \n",
              "4     02SFNJH                0           NaN  1.682617   -78.8125   \n",
              "\n",
              "           created_at          updated_at  id  authentication_id  \\\n",
              "0 2019-06-17 00:33:23 2019-10-01 18:46:33   4           118597.0   \n",
              "1 2019-06-17 00:33:23 2019-10-01 18:46:33  13           118608.0   \n",
              "2 2019-06-17 00:33:23 2019-10-01 18:46:33  20           118616.0   \n",
              "3 2019-06-17 00:33:23 2019-10-01 18:46:33  23           118619.0   \n",
              "4 2019-06-17 00:33:23 2019-10-01 18:46:33  28           118624.0   \n",
              "\n",
              "   vendor_latitude  vendor_logitude vendor_category_en  vendor_category_id  \\\n",
              "0        -0.588379         0.754395                  0                 2.0   \n",
              "1        -0.471680         0.744629                  0                 2.0   \n",
              "2        -0.407471         0.643555                  0                 2.0   \n",
              "3        -0.585449         0.753906                  0                 2.0   \n",
              "4         0.480713         0.552734                  0                 2.0   \n",
              "\n",
              "   delivery_charge  serving_distance  is_open      OpeningTime OpeningTime2  \\\n",
              "0         0.000000               6.0      1.0  11:00AM-11:30PM            -   \n",
              "1         0.700195               5.0      1.0  08:30AM-10:30PM            -   \n",
              "2         0.000000               8.0      1.0  08:00AM-10:45PM            -   \n",
              "3         0.000000               5.0      1.0  10:59AM-10:30PM            -   \n",
              "4         0.700195              15.0      1.0  11:00AM-11:45PM            -   \n",
              "\n",
              "   prepration_time  discount_percentage  status  verified  rank  \\\n",
              "0             15.0                  0.0     1.0       1.0    11   \n",
              "1             14.0                  0.0     1.0       1.0    11   \n",
              "2             19.0                  0.0     1.0       1.0     1   \n",
              "3             16.0                  0.0     1.0       1.0    11   \n",
              "4             10.0                  0.0     1.0       1.0    11   \n",
              "\n",
              "   vendor_rating   sunday_from_time1     sunday_to_time1   sunday_from_time2  \\\n",
              "0       4.398438 2020-07-15 00:00:00 2020-07-15 00:30:00 2020-07-15 08:00:00   \n",
              "1       4.699219 2020-07-15 00:00:00 2020-07-15 01:30:00 2020-07-15 08:00:00   \n",
              "2       4.500000 2020-07-15 08:00:00 2020-07-15 22:45:00                 NaT   \n",
              "3       4.500000 2020-07-15 09:00:00 2020-07-15 23:30:00                 NaT   \n",
              "4       4.398438 2020-07-15 00:01:00 2020-07-15 00:30:00 2020-07-15 11:00:00   \n",
              "\n",
              "      sunday_to_time2   monday_from_time1     monday_to_time1  \\\n",
              "0 2020-07-15 23:59:00 2020-07-15 00:00:00 2020-07-15 00:30:00   \n",
              "1 2020-07-15 23:59:00 2020-07-15 00:00:00 2020-07-15 01:30:00   \n",
              "2                 NaT 2020-07-15 08:00:00 2020-07-15 22:45:00   \n",
              "3                 NaT 2020-07-15 09:00:00 2020-07-15 23:30:00   \n",
              "4 2020-07-15 23:59:00 2020-07-15 00:01:00 2020-07-15 00:30:00   \n",
              "\n",
              "    monday_from_time2     monday_to_time2  tuesday_from_time1  \\\n",
              "0 2020-07-15 08:00:00 2020-07-15 23:59:00 2020-07-15 00:00:00   \n",
              "1 2020-07-15 08:00:00 2020-07-15 23:59:00 2020-07-15 00:00:00   \n",
              "2                 NaT                 NaT 2020-07-15 08:00:00   \n",
              "3                 NaT                 NaT 2020-07-15 09:00:00   \n",
              "4 2020-07-15 11:00:00 2020-07-15 23:59:00 2020-07-15 00:01:00   \n",
              "\n",
              "     tuesday_to_time1  tuesday_from_time2    tuesday_to_time2  \\\n",
              "0 2020-07-15 00:30:00 2020-07-15 08:00:00 2020-07-15 23:59:00   \n",
              "1 2020-07-15 01:30:00 2020-07-15 08:00:00 2020-07-15 23:59:00   \n",
              "2 2020-07-15 22:45:00                 NaT                 NaT   \n",
              "3 2020-07-15 23:30:00                 NaT                 NaT   \n",
              "4 2020-07-15 00:30:00 2020-07-15 11:00:00 2020-07-15 23:59:00   \n",
              "\n",
              "  wednesday_from_time1  wednesday_to_time1 wednesday_from_time2  \\\n",
              "0  2020-07-15 00:00:00 2020-07-15 00:30:00  2020-07-15 08:00:00   \n",
              "1  2020-07-15 00:00:00 2020-07-15 01:30:00  2020-07-15 08:00:00   \n",
              "2  2020-07-15 08:00:00 2020-07-15 22:45:00                  NaT   \n",
              "3  2020-07-15 09:00:00 2020-07-15 23:30:00                  NaT   \n",
              "4  2020-07-15 00:01:00 2020-07-15 00:30:00  2020-07-15 11:00:00   \n",
              "\n",
              "   wednesday_to_time2 thursday_from_time1   thursday_to_time1  \\\n",
              "0 2020-07-15 23:59:00 2020-07-15 00:00:00 2020-07-15 00:30:00   \n",
              "1 2020-07-15 19:30:00 2020-07-15 00:00:00 2020-07-15 01:30:00   \n",
              "2                 NaT 2020-07-15 08:00:00 2020-07-15 22:45:00   \n",
              "3                 NaT 2020-07-15 09:00:00 2020-07-15 23:45:00   \n",
              "4 2020-07-15 23:59:00 2020-07-15 00:01:00 2020-07-15 00:30:00   \n",
              "\n",
              "  thursday_from_time2   thursday_to_time2   friday_from_time1  \\\n",
              "0 2020-07-15 08:00:00 2020-07-15 23:59:00 2020-07-15 00:00:00   \n",
              "1 2020-07-15 08:00:00 2020-07-15 19:30:00 2020-07-15 00:00:00   \n",
              "2                 NaT                 NaT 2020-07-15 08:00:00   \n",
              "3                 NaT                 NaT 2020-07-15 09:00:00   \n",
              "4 2020-07-15 11:00:00 2020-07-15 23:59:00 2020-07-15 00:01:00   \n",
              "\n",
              "      friday_to_time1   friday_from_time2     friday_to_time2  \\\n",
              "0 2020-07-15 00:30:00 2020-07-15 10:00:00 2020-07-15 23:59:00   \n",
              "1 2020-07-15 01:30:00 2020-07-15 08:00:00 2020-07-15 23:59:00   \n",
              "2 2020-07-15 22:45:00                 NaT                 NaT   \n",
              "3 2020-07-15 23:45:00                 NaT                 NaT   \n",
              "4 2020-07-15 01:30:00 2020-07-15 17:45:00 2020-07-15 23:59:00   \n",
              "\n",
              "  saturday_from_time1   saturday_to_time1  ... vendor_long_60 vendor_long_75  \\\n",
              "0 2020-07-15 00:00:00 2020-07-15 00:30:00  ...       0.886719       0.763672   \n",
              "1 2020-07-15 00:00:00 2020-07-15 01:30:00  ...       0.781250       0.648438   \n",
              "2 2020-07-15 08:00:00 2020-07-15 22:45:00  ...       0.674805       0.560059   \n",
              "3 2020-07-15 09:00:00 2020-07-15 23:45:00  ...       0.884277       0.760742   \n",
              "4 2020-07-15 00:01:00 2020-07-15 01:30:00  ...      -0.140137      -0.321289   \n",
              "\n",
              "  vendor_lat_15 vendor_lat_22 vendor_lat_30 vendor_lat_45 vendor_lat_60  \\\n",
              "0     -0.373047     -0.254883     -0.132568      0.117188      0.359131   \n",
              "1     -0.262695     -0.150879     -0.036377      0.192871      0.409180   \n",
              "2     -0.227051     -0.130249     -0.031250      0.166992      0.354004   \n",
              "3     -0.370361     -0.252686     -0.130371      0.119385      0.360107   \n",
              "4      0.607422      0.655273      0.692871      0.730469      0.719238   \n",
              "\n",
              "   vendor_lat_75 sunday_time1 sunday_time2 monday_time1  monday_time2  \\\n",
              "0       0.576172     0.500000    15.984375     0.500000     15.984375   \n",
              "1       0.597168     1.500000    15.984375     1.500000     15.984375   \n",
              "2       0.516113    14.750000     0.000000    14.750000      0.000000   \n",
              "3       0.576660    14.500000     0.000000    14.500000      0.000000   \n",
              "4       0.658203     0.483398    12.984375     0.483398     12.984375   \n",
              "\n",
              "   tuesday_time1  tuesday_time2  wednesday_time1  wednesday_time2  \\\n",
              "0       0.500000      15.984375         0.500000        15.984375   \n",
              "1       1.500000      15.984375         1.500000        11.500000   \n",
              "2      14.750000       0.000000        14.750000         0.000000   \n",
              "3      14.500000       0.000000        14.500000         0.000000   \n",
              "4       0.483398      12.984375         0.483398        12.984375   \n",
              "\n",
              "   thursday_time1  thursday_time2  friday_time1  friday_time2  saturday_time1  \\\n",
              "0        0.500000       15.984375      0.500000     13.984375        0.500000   \n",
              "1        1.500000       11.500000      1.500000     15.984375        1.500000   \n",
              "2       14.750000        0.000000     14.750000      0.000000       14.750000   \n",
              "3       14.750000        0.000000     14.750000      0.000000       14.750000   \n",
              "4        0.483398       12.984375      1.483398      6.234375        1.483398   \n",
              "\n",
              "   saturday_time2  sunday_total  monday_total  tuesday_total  wednesday_total  \\\n",
              "0       13.984375     16.484375     16.484375      16.484375        16.484375   \n",
              "1       15.984375     17.484375     17.484375      17.484375        13.000000   \n",
              "2        0.000000     14.750000     14.750000      14.750000        14.750000   \n",
              "3        0.000000     14.500000     14.500000      14.500000        14.500000   \n",
              "4        6.234375     13.468750     13.468750      13.468750        13.468750   \n",
              "\n",
              "   thursday_total  friday_total  saturday_total  Total_hrs_week  \\\n",
              "0       16.484375     14.484375       14.484375        111.4375   \n",
              "1       13.000000     17.484375       17.484375        113.4375   \n",
              "2       14.750000     14.750000       14.750000        103.2500   \n",
              "3       14.750000     14.750000       14.750000        102.2500   \n",
              "4       13.468750      7.718750        7.718750         82.8750   \n",
              "\n",
              "   Total_hrs_weekday  Total_hrs_weekend  Total_hrs_weekend_day_diff  \\\n",
              "0           65.93750           45.43750                    20.50000   \n",
              "1           60.96875           52.43750                     8.53125   \n",
              "2           59.00000           44.25000                    14.75000   \n",
              "3           58.25000           44.00000                    14.25000   \n",
              "4           53.87500           28.90625                    24.96875   \n",
              "\n",
              "   Total_hrs_week_fraction_week  Total_hrs_week_fraction_weekend  \\\n",
              "0                      0.591797                         0.407715   \n",
              "1                      0.537598                         0.462158   \n",
              "2                      0.571289                         0.428467   \n",
              "3                      0.569824                         0.430420   \n",
              "4                      0.649902                         0.348877   \n",
              "\n",
              "   created_updated_diff  vendor_created_updated_diff  \\\n",
              "0                -107.0                       -799.0   \n",
              "1                -107.0                       -704.0   \n",
              "2                -107.0                       -704.0   \n",
              "3                -107.0                       -697.0   \n",
              "4                -107.0                       -689.0   \n",
              "\n",
              "   vendor_started_at_created_diff  started_at_created_diff  \\\n",
              "0                             0.0                    494.0   \n",
              "1                            92.0                    494.0   \n",
              "2                            94.0                    494.0   \n",
              "3                            96.0                    494.0   \n",
              "4                           107.0                    494.0   \n",
              "\n",
              "   is_continuously_open        OpeningTime1      OpeningTime1_1  \\\n",
              "0                     0 2020-08-11 11:00:00 2020-08-11 23:30:00   \n",
              "1                     0 2020-08-11 08:30:00 2020-08-11 22:30:00   \n",
              "2                     0 2020-08-11 08:00:00 2020-08-11 22:45:00   \n",
              "3                     0 2020-08-11 10:59:00 2020-08-11 22:30:00   \n",
              "4                     0 2020-08-11 11:00:00 2020-08-11 23:45:00   \n",
              "\n",
              "        OpeningTime_2      OpeningTime2_2  Opening_Time_Hours  \\\n",
              "0 2020-08-11 17:34:00 2020-08-11 17:35:00               36.50   \n",
              "1 2020-08-11 17:34:00 2020-08-11 17:35:00               38.00   \n",
              "2 2020-08-11 17:34:00 2020-08-11 17:35:00               38.75   \n",
              "3 2020-08-11 17:34:00 2020-08-11 17:35:00               35.50   \n",
              "4 2020-08-11 17:34:00 2020-08-11 17:35:00               36.75   \n",
              "\n",
              "   Opening_Time2_Hours  Total_Open_Rest  Total_Open_Rest_diff  \\\n",
              "0            24.015625            60.50             12.484375   \n",
              "1            24.015625            62.00             13.984375   \n",
              "2            24.015625            62.75             14.734375   \n",
              "3            24.015625            59.50             11.484375   \n",
              "4            24.015625            60.75             12.734375   \n",
              "\n",
              "   Total_Open_Rest_div  vendor_tag_label_encoded  \n",
              "0             1.519531                        19  \n",
              "1             1.582031                        36  \n",
              "2             1.613281                        37  \n",
              "3             1.478516                        46  \n",
              "4             1.530273                        42  \n",
              "\n",
              "[5 rows x 166 columns]"
            ]
          },
          "metadata": {
            "tags": []
          },
          "execution_count": 42
        }
      ]
    },
    {
      "cell_type": "markdown",
      "metadata": {
        "id": "ujVqlIEW1XFi"
      },
      "source": []
    },
    {
      "cell_type": "code",
      "metadata": {
        "id": "HO3IzHUnF5Ge"
      },
      "source": [
        "df_final['vendor_tag_label_encoded'] = df_final['vendor_tag_label_encoded'].astype('int8')"
      ],
      "execution_count": null,
      "outputs": []
    },
    {
      "cell_type": "markdown",
      "metadata": {
        "id": "2w7ozuBTEUOq"
      },
      "source": []
    },
    {
      "cell_type": "code",
      "metadata": {
        "id": "EVHYR0E8YVgU",
        "colab": {
          "base_uri": "https://localhost:8080/",
          "height": 34
        },
        "outputId": "2fabb188-88fe-4691-9e9f-48cadfee95c4"
      },
      "source": [
        "df_final.shape"
      ],
      "execution_count": null,
      "outputs": [
        {
          "output_type": "execute_result",
          "data": {
            "text/plain": [
              "(7613900, 166)"
            ]
          },
          "metadata": {
            "tags": []
          },
          "execution_count": 43
        }
      ]
    },
    {
      "cell_type": "code",
      "metadata": {
        "id": "pxmRSWY0ixO9",
        "colab": {
          "base_uri": "https://localhost:8080/",
          "height": 330
        },
        "outputId": "2f45187d-2cae-4fb2-c88d-dbb1ad5475a5"
      },
      "source": [
        "df_final.head()"
      ],
      "execution_count": null,
      "outputs": [
        {
          "output_type": "execute_result",
          "data": {
            "text/html": [
              "<div>\n",
              "<style scoped>\n",
              "    .dataframe tbody tr th:only-of-type {\n",
              "        vertical-align: middle;\n",
              "    }\n",
              "\n",
              "    .dataframe tbody tr th {\n",
              "        vertical-align: top;\n",
              "    }\n",
              "\n",
              "    .dataframe thead th {\n",
              "        text-align: right;\n",
              "    }\n",
              "</style>\n",
              "<table border=\"1\" class=\"dataframe\">\n",
              "  <thead>\n",
              "    <tr style=\"text-align: right;\">\n",
              "      <th></th>\n",
              "      <th>customer_id</th>\n",
              "      <th>location_number</th>\n",
              "      <th>location_type</th>\n",
              "      <th>latitude</th>\n",
              "      <th>longitude</th>\n",
              "      <th>created_at</th>\n",
              "      <th>updated_at</th>\n",
              "      <th>id</th>\n",
              "      <th>authentication_id</th>\n",
              "      <th>vendor_latitude</th>\n",
              "      <th>vendor_logitude</th>\n",
              "      <th>vendor_category_en</th>\n",
              "      <th>vendor_category_id</th>\n",
              "      <th>delivery_charge</th>\n",
              "      <th>serving_distance</th>\n",
              "      <th>is_open</th>\n",
              "      <th>OpeningTime</th>\n",
              "      <th>OpeningTime2</th>\n",
              "      <th>prepration_time</th>\n",
              "      <th>discount_percentage</th>\n",
              "      <th>status</th>\n",
              "      <th>verified</th>\n",
              "      <th>rank</th>\n",
              "      <th>vendor_rating</th>\n",
              "      <th>sunday_from_time1</th>\n",
              "      <th>sunday_to_time1</th>\n",
              "      <th>sunday_from_time2</th>\n",
              "      <th>sunday_to_time2</th>\n",
              "      <th>monday_from_time1</th>\n",
              "      <th>monday_to_time1</th>\n",
              "      <th>monday_from_time2</th>\n",
              "      <th>monday_to_time2</th>\n",
              "      <th>tuesday_from_time1</th>\n",
              "      <th>tuesday_to_time1</th>\n",
              "      <th>tuesday_from_time2</th>\n",
              "      <th>tuesday_to_time2</th>\n",
              "      <th>wednesday_from_time1</th>\n",
              "      <th>wednesday_to_time1</th>\n",
              "      <th>wednesday_from_time2</th>\n",
              "      <th>wednesday_to_time2</th>\n",
              "      <th>thursday_from_time1</th>\n",
              "      <th>thursday_to_time1</th>\n",
              "      <th>thursday_from_time2</th>\n",
              "      <th>thursday_to_time2</th>\n",
              "      <th>friday_from_time1</th>\n",
              "      <th>friday_to_time1</th>\n",
              "      <th>friday_from_time2</th>\n",
              "      <th>friday_to_time2</th>\n",
              "      <th>saturday_from_time1</th>\n",
              "      <th>saturday_to_time1</th>\n",
              "      <th>...</th>\n",
              "      <th>vendor_long_60</th>\n",
              "      <th>vendor_long_75</th>\n",
              "      <th>vendor_lat_15</th>\n",
              "      <th>vendor_lat_22</th>\n",
              "      <th>vendor_lat_30</th>\n",
              "      <th>vendor_lat_45</th>\n",
              "      <th>vendor_lat_60</th>\n",
              "      <th>vendor_lat_75</th>\n",
              "      <th>sunday_time1</th>\n",
              "      <th>sunday_time2</th>\n",
              "      <th>monday_time1</th>\n",
              "      <th>monday_time2</th>\n",
              "      <th>tuesday_time1</th>\n",
              "      <th>tuesday_time2</th>\n",
              "      <th>wednesday_time1</th>\n",
              "      <th>wednesday_time2</th>\n",
              "      <th>thursday_time1</th>\n",
              "      <th>thursday_time2</th>\n",
              "      <th>friday_time1</th>\n",
              "      <th>friday_time2</th>\n",
              "      <th>saturday_time1</th>\n",
              "      <th>saturday_time2</th>\n",
              "      <th>sunday_total</th>\n",
              "      <th>monday_total</th>\n",
              "      <th>tuesday_total</th>\n",
              "      <th>wednesday_total</th>\n",
              "      <th>thursday_total</th>\n",
              "      <th>friday_total</th>\n",
              "      <th>saturday_total</th>\n",
              "      <th>Total_hrs_week</th>\n",
              "      <th>Total_hrs_weekday</th>\n",
              "      <th>Total_hrs_weekend</th>\n",
              "      <th>Total_hrs_weekend_day_diff</th>\n",
              "      <th>Total_hrs_week_fraction_week</th>\n",
              "      <th>Total_hrs_week_fraction_weekend</th>\n",
              "      <th>created_updated_diff</th>\n",
              "      <th>vendor_created_updated_diff</th>\n",
              "      <th>vendor_started_at_created_diff</th>\n",
              "      <th>started_at_created_diff</th>\n",
              "      <th>is_continuously_open</th>\n",
              "      <th>OpeningTime1</th>\n",
              "      <th>OpeningTime1_1</th>\n",
              "      <th>OpeningTime_2</th>\n",
              "      <th>OpeningTime2_2</th>\n",
              "      <th>Opening_Time_Hours</th>\n",
              "      <th>Opening_Time2_Hours</th>\n",
              "      <th>Total_Open_Rest</th>\n",
              "      <th>Total_Open_Rest_diff</th>\n",
              "      <th>Total_Open_Rest_div</th>\n",
              "      <th>vendor_tag_label_encoded</th>\n",
              "    </tr>\n",
              "  </thead>\n",
              "  <tbody>\n",
              "    <tr>\n",
              "      <th>0</th>\n",
              "      <td>02SFNJH</td>\n",
              "      <td>0</td>\n",
              "      <td>NaN</td>\n",
              "      <td>1.682617</td>\n",
              "      <td>-78.8125</td>\n",
              "      <td>2019-06-17 00:33:23</td>\n",
              "      <td>2019-10-01 18:46:33</td>\n",
              "      <td>4</td>\n",
              "      <td>118597.0</td>\n",
              "      <td>-0.588379</td>\n",
              "      <td>0.754395</td>\n",
              "      <td>0</td>\n",
              "      <td>2.0</td>\n",
              "      <td>0.000000</td>\n",
              "      <td>6.0</td>\n",
              "      <td>1.0</td>\n",
              "      <td>11:00AM-11:30PM</td>\n",
              "      <td>-</td>\n",
              "      <td>15.0</td>\n",
              "      <td>0.0</td>\n",
              "      <td>1.0</td>\n",
              "      <td>1.0</td>\n",
              "      <td>11</td>\n",
              "      <td>4.398438</td>\n",
              "      <td>2020-07-15 00:00:00</td>\n",
              "      <td>2020-07-15 00:30:00</td>\n",
              "      <td>2020-07-15 08:00:00</td>\n",
              "      <td>2020-07-15 23:59:00</td>\n",
              "      <td>2020-07-15 00:00:00</td>\n",
              "      <td>2020-07-15 00:30:00</td>\n",
              "      <td>2020-07-15 08:00:00</td>\n",
              "      <td>2020-07-15 23:59:00</td>\n",
              "      <td>2020-07-15 00:00:00</td>\n",
              "      <td>2020-07-15 00:30:00</td>\n",
              "      <td>2020-07-15 08:00:00</td>\n",
              "      <td>2020-07-15 23:59:00</td>\n",
              "      <td>2020-07-15 00:00:00</td>\n",
              "      <td>2020-07-15 00:30:00</td>\n",
              "      <td>2020-07-15 08:00:00</td>\n",
              "      <td>2020-07-15 23:59:00</td>\n",
              "      <td>2020-07-15 00:00:00</td>\n",
              "      <td>2020-07-15 00:30:00</td>\n",
              "      <td>2020-07-15 08:00:00</td>\n",
              "      <td>2020-07-15 23:59:00</td>\n",
              "      <td>2020-07-15 00:00:00</td>\n",
              "      <td>2020-07-15 00:30:00</td>\n",
              "      <td>2020-07-15 10:00:00</td>\n",
              "      <td>2020-07-15 23:59:00</td>\n",
              "      <td>2020-07-15 00:00:00</td>\n",
              "      <td>2020-07-15 00:30:00</td>\n",
              "      <td>...</td>\n",
              "      <td>0.886719</td>\n",
              "      <td>0.763672</td>\n",
              "      <td>-0.373047</td>\n",
              "      <td>-0.254883</td>\n",
              "      <td>-0.132568</td>\n",
              "      <td>0.117188</td>\n",
              "      <td>0.359131</td>\n",
              "      <td>0.576172</td>\n",
              "      <td>0.500000</td>\n",
              "      <td>15.984375</td>\n",
              "      <td>0.500000</td>\n",
              "      <td>15.984375</td>\n",
              "      <td>0.500000</td>\n",
              "      <td>15.984375</td>\n",
              "      <td>0.500000</td>\n",
              "      <td>15.984375</td>\n",
              "      <td>0.500000</td>\n",
              "      <td>15.984375</td>\n",
              "      <td>0.500000</td>\n",
              "      <td>13.984375</td>\n",
              "      <td>0.500000</td>\n",
              "      <td>13.984375</td>\n",
              "      <td>16.484375</td>\n",
              "      <td>16.484375</td>\n",
              "      <td>16.484375</td>\n",
              "      <td>16.484375</td>\n",
              "      <td>16.484375</td>\n",
              "      <td>14.484375</td>\n",
              "      <td>14.484375</td>\n",
              "      <td>111.4375</td>\n",
              "      <td>65.93750</td>\n",
              "      <td>45.43750</td>\n",
              "      <td>20.50000</td>\n",
              "      <td>0.591797</td>\n",
              "      <td>0.407715</td>\n",
              "      <td>-107.0</td>\n",
              "      <td>-799.0</td>\n",
              "      <td>0.0</td>\n",
              "      <td>494.0</td>\n",
              "      <td>0</td>\n",
              "      <td>2020-08-10 11:00:00</td>\n",
              "      <td>2020-08-10 23:30:00</td>\n",
              "      <td>2020-08-10 17:34:00</td>\n",
              "      <td>2020-08-10 17:35:00</td>\n",
              "      <td>36.50</td>\n",
              "      <td>24.015625</td>\n",
              "      <td>60.50</td>\n",
              "      <td>12.484375</td>\n",
              "      <td>1.519531</td>\n",
              "      <td>19</td>\n",
              "    </tr>\n",
              "    <tr>\n",
              "      <th>1</th>\n",
              "      <td>02SFNJH</td>\n",
              "      <td>0</td>\n",
              "      <td>NaN</td>\n",
              "      <td>1.682617</td>\n",
              "      <td>-78.8125</td>\n",
              "      <td>2019-06-17 00:33:23</td>\n",
              "      <td>2019-10-01 18:46:33</td>\n",
              "      <td>13</td>\n",
              "      <td>118608.0</td>\n",
              "      <td>-0.471680</td>\n",
              "      <td>0.744629</td>\n",
              "      <td>0</td>\n",
              "      <td>2.0</td>\n",
              "      <td>0.700195</td>\n",
              "      <td>5.0</td>\n",
              "      <td>1.0</td>\n",
              "      <td>08:30AM-10:30PM</td>\n",
              "      <td>-</td>\n",
              "      <td>14.0</td>\n",
              "      <td>0.0</td>\n",
              "      <td>1.0</td>\n",
              "      <td>1.0</td>\n",
              "      <td>11</td>\n",
              "      <td>4.699219</td>\n",
              "      <td>2020-07-15 00:00:00</td>\n",
              "      <td>2020-07-15 01:30:00</td>\n",
              "      <td>2020-07-15 08:00:00</td>\n",
              "      <td>2020-07-15 23:59:00</td>\n",
              "      <td>2020-07-15 00:00:00</td>\n",
              "      <td>2020-07-15 01:30:00</td>\n",
              "      <td>2020-07-15 08:00:00</td>\n",
              "      <td>2020-07-15 23:59:00</td>\n",
              "      <td>2020-07-15 00:00:00</td>\n",
              "      <td>2020-07-15 01:30:00</td>\n",
              "      <td>2020-07-15 08:00:00</td>\n",
              "      <td>2020-07-15 23:59:00</td>\n",
              "      <td>2020-07-15 00:00:00</td>\n",
              "      <td>2020-07-15 01:30:00</td>\n",
              "      <td>2020-07-15 08:00:00</td>\n",
              "      <td>2020-07-15 19:30:00</td>\n",
              "      <td>2020-07-15 00:00:00</td>\n",
              "      <td>2020-07-15 01:30:00</td>\n",
              "      <td>2020-07-15 08:00:00</td>\n",
              "      <td>2020-07-15 19:30:00</td>\n",
              "      <td>2020-07-15 00:00:00</td>\n",
              "      <td>2020-07-15 01:30:00</td>\n",
              "      <td>2020-07-15 08:00:00</td>\n",
              "      <td>2020-07-15 23:59:00</td>\n",
              "      <td>2020-07-15 00:00:00</td>\n",
              "      <td>2020-07-15 01:30:00</td>\n",
              "      <td>...</td>\n",
              "      <td>0.781250</td>\n",
              "      <td>0.648438</td>\n",
              "      <td>-0.262695</td>\n",
              "      <td>-0.150879</td>\n",
              "      <td>-0.036377</td>\n",
              "      <td>0.192871</td>\n",
              "      <td>0.409180</td>\n",
              "      <td>0.597168</td>\n",
              "      <td>1.500000</td>\n",
              "      <td>15.984375</td>\n",
              "      <td>1.500000</td>\n",
              "      <td>15.984375</td>\n",
              "      <td>1.500000</td>\n",
              "      <td>15.984375</td>\n",
              "      <td>1.500000</td>\n",
              "      <td>11.500000</td>\n",
              "      <td>1.500000</td>\n",
              "      <td>11.500000</td>\n",
              "      <td>1.500000</td>\n",
              "      <td>15.984375</td>\n",
              "      <td>1.500000</td>\n",
              "      <td>15.984375</td>\n",
              "      <td>17.484375</td>\n",
              "      <td>17.484375</td>\n",
              "      <td>17.484375</td>\n",
              "      <td>13.000000</td>\n",
              "      <td>13.000000</td>\n",
              "      <td>17.484375</td>\n",
              "      <td>17.484375</td>\n",
              "      <td>113.4375</td>\n",
              "      <td>60.96875</td>\n",
              "      <td>52.43750</td>\n",
              "      <td>8.53125</td>\n",
              "      <td>0.537598</td>\n",
              "      <td>0.462158</td>\n",
              "      <td>-107.0</td>\n",
              "      <td>-704.0</td>\n",
              "      <td>92.0</td>\n",
              "      <td>494.0</td>\n",
              "      <td>0</td>\n",
              "      <td>2020-08-10 08:30:00</td>\n",
              "      <td>2020-08-10 22:30:00</td>\n",
              "      <td>2020-08-10 17:34:00</td>\n",
              "      <td>2020-08-10 17:35:00</td>\n",
              "      <td>38.00</td>\n",
              "      <td>24.015625</td>\n",
              "      <td>62.00</td>\n",
              "      <td>13.984375</td>\n",
              "      <td>1.582031</td>\n",
              "      <td>36</td>\n",
              "    </tr>\n",
              "    <tr>\n",
              "      <th>2</th>\n",
              "      <td>02SFNJH</td>\n",
              "      <td>0</td>\n",
              "      <td>NaN</td>\n",
              "      <td>1.682617</td>\n",
              "      <td>-78.8125</td>\n",
              "      <td>2019-06-17 00:33:23</td>\n",
              "      <td>2019-10-01 18:46:33</td>\n",
              "      <td>20</td>\n",
              "      <td>118616.0</td>\n",
              "      <td>-0.407471</td>\n",
              "      <td>0.643555</td>\n",
              "      <td>0</td>\n",
              "      <td>2.0</td>\n",
              "      <td>0.000000</td>\n",
              "      <td>8.0</td>\n",
              "      <td>1.0</td>\n",
              "      <td>08:00AM-10:45PM</td>\n",
              "      <td>-</td>\n",
              "      <td>19.0</td>\n",
              "      <td>0.0</td>\n",
              "      <td>1.0</td>\n",
              "      <td>1.0</td>\n",
              "      <td>1</td>\n",
              "      <td>4.500000</td>\n",
              "      <td>2020-07-15 08:00:00</td>\n",
              "      <td>2020-07-15 22:45:00</td>\n",
              "      <td>NaT</td>\n",
              "      <td>NaT</td>\n",
              "      <td>2020-07-15 08:00:00</td>\n",
              "      <td>2020-07-15 22:45:00</td>\n",
              "      <td>NaT</td>\n",
              "      <td>NaT</td>\n",
              "      <td>2020-07-15 08:00:00</td>\n",
              "      <td>2020-07-15 22:45:00</td>\n",
              "      <td>NaT</td>\n",
              "      <td>NaT</td>\n",
              "      <td>2020-07-15 08:00:00</td>\n",
              "      <td>2020-07-15 22:45:00</td>\n",
              "      <td>NaT</td>\n",
              "      <td>NaT</td>\n",
              "      <td>2020-07-15 08:00:00</td>\n",
              "      <td>2020-07-15 22:45:00</td>\n",
              "      <td>NaT</td>\n",
              "      <td>NaT</td>\n",
              "      <td>2020-07-15 08:00:00</td>\n",
              "      <td>2020-07-15 22:45:00</td>\n",
              "      <td>NaT</td>\n",
              "      <td>NaT</td>\n",
              "      <td>2020-07-15 08:00:00</td>\n",
              "      <td>2020-07-15 22:45:00</td>\n",
              "      <td>...</td>\n",
              "      <td>0.674805</td>\n",
              "      <td>0.560059</td>\n",
              "      <td>-0.227051</td>\n",
              "      <td>-0.130249</td>\n",
              "      <td>-0.031250</td>\n",
              "      <td>0.166992</td>\n",
              "      <td>0.354004</td>\n",
              "      <td>0.516113</td>\n",
              "      <td>14.750000</td>\n",
              "      <td>0.000000</td>\n",
              "      <td>14.750000</td>\n",
              "      <td>0.000000</td>\n",
              "      <td>14.750000</td>\n",
              "      <td>0.000000</td>\n",
              "      <td>14.750000</td>\n",
              "      <td>0.000000</td>\n",
              "      <td>14.750000</td>\n",
              "      <td>0.000000</td>\n",
              "      <td>14.750000</td>\n",
              "      <td>0.000000</td>\n",
              "      <td>14.750000</td>\n",
              "      <td>0.000000</td>\n",
              "      <td>14.750000</td>\n",
              "      <td>14.750000</td>\n",
              "      <td>14.750000</td>\n",
              "      <td>14.750000</td>\n",
              "      <td>14.750000</td>\n",
              "      <td>14.750000</td>\n",
              "      <td>14.750000</td>\n",
              "      <td>103.2500</td>\n",
              "      <td>59.00000</td>\n",
              "      <td>44.25000</td>\n",
              "      <td>14.75000</td>\n",
              "      <td>0.571289</td>\n",
              "      <td>0.428467</td>\n",
              "      <td>-107.0</td>\n",
              "      <td>-704.0</td>\n",
              "      <td>94.0</td>\n",
              "      <td>494.0</td>\n",
              "      <td>0</td>\n",
              "      <td>2020-08-10 08:00:00</td>\n",
              "      <td>2020-08-10 22:45:00</td>\n",
              "      <td>2020-08-10 17:34:00</td>\n",
              "      <td>2020-08-10 17:35:00</td>\n",
              "      <td>38.75</td>\n",
              "      <td>24.015625</td>\n",
              "      <td>62.75</td>\n",
              "      <td>14.734375</td>\n",
              "      <td>1.613281</td>\n",
              "      <td>37</td>\n",
              "    </tr>\n",
              "    <tr>\n",
              "      <th>3</th>\n",
              "      <td>02SFNJH</td>\n",
              "      <td>0</td>\n",
              "      <td>NaN</td>\n",
              "      <td>1.682617</td>\n",
              "      <td>-78.8125</td>\n",
              "      <td>2019-06-17 00:33:23</td>\n",
              "      <td>2019-10-01 18:46:33</td>\n",
              "      <td>23</td>\n",
              "      <td>118619.0</td>\n",
              "      <td>-0.585449</td>\n",
              "      <td>0.753906</td>\n",
              "      <td>0</td>\n",
              "      <td>2.0</td>\n",
              "      <td>0.000000</td>\n",
              "      <td>5.0</td>\n",
              "      <td>1.0</td>\n",
              "      <td>10:59AM-10:30PM</td>\n",
              "      <td>-</td>\n",
              "      <td>16.0</td>\n",
              "      <td>0.0</td>\n",
              "      <td>1.0</td>\n",
              "      <td>1.0</td>\n",
              "      <td>11</td>\n",
              "      <td>4.500000</td>\n",
              "      <td>2020-07-15 09:00:00</td>\n",
              "      <td>2020-07-15 23:30:00</td>\n",
              "      <td>NaT</td>\n",
              "      <td>NaT</td>\n",
              "      <td>2020-07-15 09:00:00</td>\n",
              "      <td>2020-07-15 23:30:00</td>\n",
              "      <td>NaT</td>\n",
              "      <td>NaT</td>\n",
              "      <td>2020-07-15 09:00:00</td>\n",
              "      <td>2020-07-15 23:30:00</td>\n",
              "      <td>NaT</td>\n",
              "      <td>NaT</td>\n",
              "      <td>2020-07-15 09:00:00</td>\n",
              "      <td>2020-07-15 23:30:00</td>\n",
              "      <td>NaT</td>\n",
              "      <td>NaT</td>\n",
              "      <td>2020-07-15 09:00:00</td>\n",
              "      <td>2020-07-15 23:45:00</td>\n",
              "      <td>NaT</td>\n",
              "      <td>NaT</td>\n",
              "      <td>2020-07-15 09:00:00</td>\n",
              "      <td>2020-07-15 23:45:00</td>\n",
              "      <td>NaT</td>\n",
              "      <td>NaT</td>\n",
              "      <td>2020-07-15 09:00:00</td>\n",
              "      <td>2020-07-15 23:45:00</td>\n",
              "      <td>...</td>\n",
              "      <td>0.884277</td>\n",
              "      <td>0.760742</td>\n",
              "      <td>-0.370361</td>\n",
              "      <td>-0.252686</td>\n",
              "      <td>-0.130371</td>\n",
              "      <td>0.119385</td>\n",
              "      <td>0.360107</td>\n",
              "      <td>0.576660</td>\n",
              "      <td>14.500000</td>\n",
              "      <td>0.000000</td>\n",
              "      <td>14.500000</td>\n",
              "      <td>0.000000</td>\n",
              "      <td>14.500000</td>\n",
              "      <td>0.000000</td>\n",
              "      <td>14.500000</td>\n",
              "      <td>0.000000</td>\n",
              "      <td>14.750000</td>\n",
              "      <td>0.000000</td>\n",
              "      <td>14.750000</td>\n",
              "      <td>0.000000</td>\n",
              "      <td>14.750000</td>\n",
              "      <td>0.000000</td>\n",
              "      <td>14.500000</td>\n",
              "      <td>14.500000</td>\n",
              "      <td>14.500000</td>\n",
              "      <td>14.500000</td>\n",
              "      <td>14.750000</td>\n",
              "      <td>14.750000</td>\n",
              "      <td>14.750000</td>\n",
              "      <td>102.2500</td>\n",
              "      <td>58.25000</td>\n",
              "      <td>44.00000</td>\n",
              "      <td>14.25000</td>\n",
              "      <td>0.569824</td>\n",
              "      <td>0.430420</td>\n",
              "      <td>-107.0</td>\n",
              "      <td>-697.0</td>\n",
              "      <td>96.0</td>\n",
              "      <td>494.0</td>\n",
              "      <td>0</td>\n",
              "      <td>2020-08-10 10:59:00</td>\n",
              "      <td>2020-08-10 22:30:00</td>\n",
              "      <td>2020-08-10 17:34:00</td>\n",
              "      <td>2020-08-10 17:35:00</td>\n",
              "      <td>35.50</td>\n",
              "      <td>24.015625</td>\n",
              "      <td>59.50</td>\n",
              "      <td>11.484375</td>\n",
              "      <td>1.478516</td>\n",
              "      <td>46</td>\n",
              "    </tr>\n",
              "    <tr>\n",
              "      <th>4</th>\n",
              "      <td>02SFNJH</td>\n",
              "      <td>0</td>\n",
              "      <td>NaN</td>\n",
              "      <td>1.682617</td>\n",
              "      <td>-78.8125</td>\n",
              "      <td>2019-06-17 00:33:23</td>\n",
              "      <td>2019-10-01 18:46:33</td>\n",
              "      <td>28</td>\n",
              "      <td>118624.0</td>\n",
              "      <td>0.480713</td>\n",
              "      <td>0.552734</td>\n",
              "      <td>0</td>\n",
              "      <td>2.0</td>\n",
              "      <td>0.700195</td>\n",
              "      <td>15.0</td>\n",
              "      <td>1.0</td>\n",
              "      <td>11:00AM-11:45PM</td>\n",
              "      <td>-</td>\n",
              "      <td>10.0</td>\n",
              "      <td>0.0</td>\n",
              "      <td>1.0</td>\n",
              "      <td>1.0</td>\n",
              "      <td>11</td>\n",
              "      <td>4.398438</td>\n",
              "      <td>2020-07-15 00:01:00</td>\n",
              "      <td>2020-07-15 00:30:00</td>\n",
              "      <td>2020-07-15 11:00:00</td>\n",
              "      <td>2020-07-15 23:59:00</td>\n",
              "      <td>2020-07-15 00:01:00</td>\n",
              "      <td>2020-07-15 00:30:00</td>\n",
              "      <td>2020-07-15 11:00:00</td>\n",
              "      <td>2020-07-15 23:59:00</td>\n",
              "      <td>2020-07-15 00:01:00</td>\n",
              "      <td>2020-07-15 00:30:00</td>\n",
              "      <td>2020-07-15 11:00:00</td>\n",
              "      <td>2020-07-15 23:59:00</td>\n",
              "      <td>2020-07-15 00:01:00</td>\n",
              "      <td>2020-07-15 00:30:00</td>\n",
              "      <td>2020-07-15 11:00:00</td>\n",
              "      <td>2020-07-15 23:59:00</td>\n",
              "      <td>2020-07-15 00:01:00</td>\n",
              "      <td>2020-07-15 00:30:00</td>\n",
              "      <td>2020-07-15 11:00:00</td>\n",
              "      <td>2020-07-15 23:59:00</td>\n",
              "      <td>2020-07-15 00:01:00</td>\n",
              "      <td>2020-07-15 01:30:00</td>\n",
              "      <td>2020-07-15 17:45:00</td>\n",
              "      <td>2020-07-15 23:59:00</td>\n",
              "      <td>2020-07-15 00:01:00</td>\n",
              "      <td>2020-07-15 01:30:00</td>\n",
              "      <td>...</td>\n",
              "      <td>-0.140137</td>\n",
              "      <td>-0.321289</td>\n",
              "      <td>0.607422</td>\n",
              "      <td>0.655273</td>\n",
              "      <td>0.692871</td>\n",
              "      <td>0.730469</td>\n",
              "      <td>0.719238</td>\n",
              "      <td>0.658203</td>\n",
              "      <td>0.483398</td>\n",
              "      <td>12.984375</td>\n",
              "      <td>0.483398</td>\n",
              "      <td>12.984375</td>\n",
              "      <td>0.483398</td>\n",
              "      <td>12.984375</td>\n",
              "      <td>0.483398</td>\n",
              "      <td>12.984375</td>\n",
              "      <td>0.483398</td>\n",
              "      <td>12.984375</td>\n",
              "      <td>1.483398</td>\n",
              "      <td>6.234375</td>\n",
              "      <td>1.483398</td>\n",
              "      <td>6.234375</td>\n",
              "      <td>13.468750</td>\n",
              "      <td>13.468750</td>\n",
              "      <td>13.468750</td>\n",
              "      <td>13.468750</td>\n",
              "      <td>13.468750</td>\n",
              "      <td>7.718750</td>\n",
              "      <td>7.718750</td>\n",
              "      <td>82.8750</td>\n",
              "      <td>53.87500</td>\n",
              "      <td>28.90625</td>\n",
              "      <td>24.96875</td>\n",
              "      <td>0.649902</td>\n",
              "      <td>0.348877</td>\n",
              "      <td>-107.0</td>\n",
              "      <td>-689.0</td>\n",
              "      <td>107.0</td>\n",
              "      <td>494.0</td>\n",
              "      <td>0</td>\n",
              "      <td>2020-08-10 11:00:00</td>\n",
              "      <td>2020-08-10 23:45:00</td>\n",
              "      <td>2020-08-10 17:34:00</td>\n",
              "      <td>2020-08-10 17:35:00</td>\n",
              "      <td>36.75</td>\n",
              "      <td>24.015625</td>\n",
              "      <td>60.75</td>\n",
              "      <td>12.734375</td>\n",
              "      <td>1.530273</td>\n",
              "      <td>42</td>\n",
              "    </tr>\n",
              "  </tbody>\n",
              "</table>\n",
              "<p>5 rows × 166 columns</p>\n",
              "</div>"
            ],
            "text/plain": [
              "  customer_id  location_number location_type  latitude  longitude  \\\n",
              "0     02SFNJH                0           NaN  1.682617   -78.8125   \n",
              "1     02SFNJH                0           NaN  1.682617   -78.8125   \n",
              "2     02SFNJH                0           NaN  1.682617   -78.8125   \n",
              "3     02SFNJH                0           NaN  1.682617   -78.8125   \n",
              "4     02SFNJH                0           NaN  1.682617   -78.8125   \n",
              "\n",
              "           created_at          updated_at  id  authentication_id  \\\n",
              "0 2019-06-17 00:33:23 2019-10-01 18:46:33   4           118597.0   \n",
              "1 2019-06-17 00:33:23 2019-10-01 18:46:33  13           118608.0   \n",
              "2 2019-06-17 00:33:23 2019-10-01 18:46:33  20           118616.0   \n",
              "3 2019-06-17 00:33:23 2019-10-01 18:46:33  23           118619.0   \n",
              "4 2019-06-17 00:33:23 2019-10-01 18:46:33  28           118624.0   \n",
              "\n",
              "   vendor_latitude  vendor_logitude vendor_category_en  vendor_category_id  \\\n",
              "0        -0.588379         0.754395                  0                 2.0   \n",
              "1        -0.471680         0.744629                  0                 2.0   \n",
              "2        -0.407471         0.643555                  0                 2.0   \n",
              "3        -0.585449         0.753906                  0                 2.0   \n",
              "4         0.480713         0.552734                  0                 2.0   \n",
              "\n",
              "   delivery_charge  serving_distance  is_open      OpeningTime OpeningTime2  \\\n",
              "0         0.000000               6.0      1.0  11:00AM-11:30PM            -   \n",
              "1         0.700195               5.0      1.0  08:30AM-10:30PM            -   \n",
              "2         0.000000               8.0      1.0  08:00AM-10:45PM            -   \n",
              "3         0.000000               5.0      1.0  10:59AM-10:30PM            -   \n",
              "4         0.700195              15.0      1.0  11:00AM-11:45PM            -   \n",
              "\n",
              "   prepration_time  discount_percentage  status  verified  rank  \\\n",
              "0             15.0                  0.0     1.0       1.0    11   \n",
              "1             14.0                  0.0     1.0       1.0    11   \n",
              "2             19.0                  0.0     1.0       1.0     1   \n",
              "3             16.0                  0.0     1.0       1.0    11   \n",
              "4             10.0                  0.0     1.0       1.0    11   \n",
              "\n",
              "   vendor_rating   sunday_from_time1     sunday_to_time1   sunday_from_time2  \\\n",
              "0       4.398438 2020-07-15 00:00:00 2020-07-15 00:30:00 2020-07-15 08:00:00   \n",
              "1       4.699219 2020-07-15 00:00:00 2020-07-15 01:30:00 2020-07-15 08:00:00   \n",
              "2       4.500000 2020-07-15 08:00:00 2020-07-15 22:45:00                 NaT   \n",
              "3       4.500000 2020-07-15 09:00:00 2020-07-15 23:30:00                 NaT   \n",
              "4       4.398438 2020-07-15 00:01:00 2020-07-15 00:30:00 2020-07-15 11:00:00   \n",
              "\n",
              "      sunday_to_time2   monday_from_time1     monday_to_time1  \\\n",
              "0 2020-07-15 23:59:00 2020-07-15 00:00:00 2020-07-15 00:30:00   \n",
              "1 2020-07-15 23:59:00 2020-07-15 00:00:00 2020-07-15 01:30:00   \n",
              "2                 NaT 2020-07-15 08:00:00 2020-07-15 22:45:00   \n",
              "3                 NaT 2020-07-15 09:00:00 2020-07-15 23:30:00   \n",
              "4 2020-07-15 23:59:00 2020-07-15 00:01:00 2020-07-15 00:30:00   \n",
              "\n",
              "    monday_from_time2     monday_to_time2  tuesday_from_time1  \\\n",
              "0 2020-07-15 08:00:00 2020-07-15 23:59:00 2020-07-15 00:00:00   \n",
              "1 2020-07-15 08:00:00 2020-07-15 23:59:00 2020-07-15 00:00:00   \n",
              "2                 NaT                 NaT 2020-07-15 08:00:00   \n",
              "3                 NaT                 NaT 2020-07-15 09:00:00   \n",
              "4 2020-07-15 11:00:00 2020-07-15 23:59:00 2020-07-15 00:01:00   \n",
              "\n",
              "     tuesday_to_time1  tuesday_from_time2    tuesday_to_time2  \\\n",
              "0 2020-07-15 00:30:00 2020-07-15 08:00:00 2020-07-15 23:59:00   \n",
              "1 2020-07-15 01:30:00 2020-07-15 08:00:00 2020-07-15 23:59:00   \n",
              "2 2020-07-15 22:45:00                 NaT                 NaT   \n",
              "3 2020-07-15 23:30:00                 NaT                 NaT   \n",
              "4 2020-07-15 00:30:00 2020-07-15 11:00:00 2020-07-15 23:59:00   \n",
              "\n",
              "  wednesday_from_time1  wednesday_to_time1 wednesday_from_time2  \\\n",
              "0  2020-07-15 00:00:00 2020-07-15 00:30:00  2020-07-15 08:00:00   \n",
              "1  2020-07-15 00:00:00 2020-07-15 01:30:00  2020-07-15 08:00:00   \n",
              "2  2020-07-15 08:00:00 2020-07-15 22:45:00                  NaT   \n",
              "3  2020-07-15 09:00:00 2020-07-15 23:30:00                  NaT   \n",
              "4  2020-07-15 00:01:00 2020-07-15 00:30:00  2020-07-15 11:00:00   \n",
              "\n",
              "   wednesday_to_time2 thursday_from_time1   thursday_to_time1  \\\n",
              "0 2020-07-15 23:59:00 2020-07-15 00:00:00 2020-07-15 00:30:00   \n",
              "1 2020-07-15 19:30:00 2020-07-15 00:00:00 2020-07-15 01:30:00   \n",
              "2                 NaT 2020-07-15 08:00:00 2020-07-15 22:45:00   \n",
              "3                 NaT 2020-07-15 09:00:00 2020-07-15 23:45:00   \n",
              "4 2020-07-15 23:59:00 2020-07-15 00:01:00 2020-07-15 00:30:00   \n",
              "\n",
              "  thursday_from_time2   thursday_to_time2   friday_from_time1  \\\n",
              "0 2020-07-15 08:00:00 2020-07-15 23:59:00 2020-07-15 00:00:00   \n",
              "1 2020-07-15 08:00:00 2020-07-15 19:30:00 2020-07-15 00:00:00   \n",
              "2                 NaT                 NaT 2020-07-15 08:00:00   \n",
              "3                 NaT                 NaT 2020-07-15 09:00:00   \n",
              "4 2020-07-15 11:00:00 2020-07-15 23:59:00 2020-07-15 00:01:00   \n",
              "\n",
              "      friday_to_time1   friday_from_time2     friday_to_time2  \\\n",
              "0 2020-07-15 00:30:00 2020-07-15 10:00:00 2020-07-15 23:59:00   \n",
              "1 2020-07-15 01:30:00 2020-07-15 08:00:00 2020-07-15 23:59:00   \n",
              "2 2020-07-15 22:45:00                 NaT                 NaT   \n",
              "3 2020-07-15 23:45:00                 NaT                 NaT   \n",
              "4 2020-07-15 01:30:00 2020-07-15 17:45:00 2020-07-15 23:59:00   \n",
              "\n",
              "  saturday_from_time1   saturday_to_time1  ... vendor_long_60 vendor_long_75  \\\n",
              "0 2020-07-15 00:00:00 2020-07-15 00:30:00  ...       0.886719       0.763672   \n",
              "1 2020-07-15 00:00:00 2020-07-15 01:30:00  ...       0.781250       0.648438   \n",
              "2 2020-07-15 08:00:00 2020-07-15 22:45:00  ...       0.674805       0.560059   \n",
              "3 2020-07-15 09:00:00 2020-07-15 23:45:00  ...       0.884277       0.760742   \n",
              "4 2020-07-15 00:01:00 2020-07-15 01:30:00  ...      -0.140137      -0.321289   \n",
              "\n",
              "  vendor_lat_15 vendor_lat_22 vendor_lat_30 vendor_lat_45 vendor_lat_60  \\\n",
              "0     -0.373047     -0.254883     -0.132568      0.117188      0.359131   \n",
              "1     -0.262695     -0.150879     -0.036377      0.192871      0.409180   \n",
              "2     -0.227051     -0.130249     -0.031250      0.166992      0.354004   \n",
              "3     -0.370361     -0.252686     -0.130371      0.119385      0.360107   \n",
              "4      0.607422      0.655273      0.692871      0.730469      0.719238   \n",
              "\n",
              "   vendor_lat_75 sunday_time1 sunday_time2 monday_time1  monday_time2  \\\n",
              "0       0.576172     0.500000    15.984375     0.500000     15.984375   \n",
              "1       0.597168     1.500000    15.984375     1.500000     15.984375   \n",
              "2       0.516113    14.750000     0.000000    14.750000      0.000000   \n",
              "3       0.576660    14.500000     0.000000    14.500000      0.000000   \n",
              "4       0.658203     0.483398    12.984375     0.483398     12.984375   \n",
              "\n",
              "   tuesday_time1  tuesday_time2  wednesday_time1  wednesday_time2  \\\n",
              "0       0.500000      15.984375         0.500000        15.984375   \n",
              "1       1.500000      15.984375         1.500000        11.500000   \n",
              "2      14.750000       0.000000        14.750000         0.000000   \n",
              "3      14.500000       0.000000        14.500000         0.000000   \n",
              "4       0.483398      12.984375         0.483398        12.984375   \n",
              "\n",
              "   thursday_time1  thursday_time2  friday_time1  friday_time2  saturday_time1  \\\n",
              "0        0.500000       15.984375      0.500000     13.984375        0.500000   \n",
              "1        1.500000       11.500000      1.500000     15.984375        1.500000   \n",
              "2       14.750000        0.000000     14.750000      0.000000       14.750000   \n",
              "3       14.750000        0.000000     14.750000      0.000000       14.750000   \n",
              "4        0.483398       12.984375      1.483398      6.234375        1.483398   \n",
              "\n",
              "   saturday_time2  sunday_total  monday_total  tuesday_total  wednesday_total  \\\n",
              "0       13.984375     16.484375     16.484375      16.484375        16.484375   \n",
              "1       15.984375     17.484375     17.484375      17.484375        13.000000   \n",
              "2        0.000000     14.750000     14.750000      14.750000        14.750000   \n",
              "3        0.000000     14.500000     14.500000      14.500000        14.500000   \n",
              "4        6.234375     13.468750     13.468750      13.468750        13.468750   \n",
              "\n",
              "   thursday_total  friday_total  saturday_total  Total_hrs_week  \\\n",
              "0       16.484375     14.484375       14.484375        111.4375   \n",
              "1       13.000000     17.484375       17.484375        113.4375   \n",
              "2       14.750000     14.750000       14.750000        103.2500   \n",
              "3       14.750000     14.750000       14.750000        102.2500   \n",
              "4       13.468750      7.718750        7.718750         82.8750   \n",
              "\n",
              "   Total_hrs_weekday  Total_hrs_weekend  Total_hrs_weekend_day_diff  \\\n",
              "0           65.93750           45.43750                    20.50000   \n",
              "1           60.96875           52.43750                     8.53125   \n",
              "2           59.00000           44.25000                    14.75000   \n",
              "3           58.25000           44.00000                    14.25000   \n",
              "4           53.87500           28.90625                    24.96875   \n",
              "\n",
              "   Total_hrs_week_fraction_week  Total_hrs_week_fraction_weekend  \\\n",
              "0                      0.591797                         0.407715   \n",
              "1                      0.537598                         0.462158   \n",
              "2                      0.571289                         0.428467   \n",
              "3                      0.569824                         0.430420   \n",
              "4                      0.649902                         0.348877   \n",
              "\n",
              "   created_updated_diff  vendor_created_updated_diff  \\\n",
              "0                -107.0                       -799.0   \n",
              "1                -107.0                       -704.0   \n",
              "2                -107.0                       -704.0   \n",
              "3                -107.0                       -697.0   \n",
              "4                -107.0                       -689.0   \n",
              "\n",
              "   vendor_started_at_created_diff  started_at_created_diff  \\\n",
              "0                             0.0                    494.0   \n",
              "1                            92.0                    494.0   \n",
              "2                            94.0                    494.0   \n",
              "3                            96.0                    494.0   \n",
              "4                           107.0                    494.0   \n",
              "\n",
              "   is_continuously_open        OpeningTime1      OpeningTime1_1  \\\n",
              "0                     0 2020-08-10 11:00:00 2020-08-10 23:30:00   \n",
              "1                     0 2020-08-10 08:30:00 2020-08-10 22:30:00   \n",
              "2                     0 2020-08-10 08:00:00 2020-08-10 22:45:00   \n",
              "3                     0 2020-08-10 10:59:00 2020-08-10 22:30:00   \n",
              "4                     0 2020-08-10 11:00:00 2020-08-10 23:45:00   \n",
              "\n",
              "        OpeningTime_2      OpeningTime2_2  Opening_Time_Hours  \\\n",
              "0 2020-08-10 17:34:00 2020-08-10 17:35:00               36.50   \n",
              "1 2020-08-10 17:34:00 2020-08-10 17:35:00               38.00   \n",
              "2 2020-08-10 17:34:00 2020-08-10 17:35:00               38.75   \n",
              "3 2020-08-10 17:34:00 2020-08-10 17:35:00               35.50   \n",
              "4 2020-08-10 17:34:00 2020-08-10 17:35:00               36.75   \n",
              "\n",
              "   Opening_Time2_Hours  Total_Open_Rest  Total_Open_Rest_diff  \\\n",
              "0            24.015625            60.50             12.484375   \n",
              "1            24.015625            62.00             13.984375   \n",
              "2            24.015625            62.75             14.734375   \n",
              "3            24.015625            59.50             11.484375   \n",
              "4            24.015625            60.75             12.734375   \n",
              "\n",
              "   Total_Open_Rest_div  vendor_tag_label_encoded  \n",
              "0             1.519531                        19  \n",
              "1             1.582031                        36  \n",
              "2             1.613281                        37  \n",
              "3             1.478516                        46  \n",
              "4             1.530273                        42  \n",
              "\n",
              "[5 rows x 166 columns]"
            ]
          },
          "metadata": {
            "tags": []
          },
          "execution_count": 44
        }
      ]
    },
    {
      "cell_type": "code",
      "metadata": {
        "id": "R1RXxCEO5Eja"
      },
      "source": [
        "df_final['cust+id'] = df_final['customer_id'].astype(str) + '_' + df_final['id'].astype(str)"
      ],
      "execution_count": null,
      "outputs": []
    },
    {
      "cell_type": "code",
      "metadata": {
        "id": "Uj2d8mCTcEiZ"
      },
      "source": [
        "del le"
      ],
      "execution_count": null,
      "outputs": []
    },
    {
      "cell_type": "markdown",
      "metadata": {
        "id": "k4ZN_fCwVHhN"
      },
      "source": []
    },
    {
      "cell_type": "code",
      "metadata": {
        "id": "J400j2nLI8Cx"
      },
      "source": [
        "temp = df_final.groupby(['cust+id']).agg({'delivery_charge':['mean','sum'],\n",
        "                                              'discount_percentage':['mean','sum'],\n",
        "                                           'vendor_rating':['mean','sum'],\n",
        "                                            'Does_serve_latenight?':['sum'],\n",
        "                                            'Does_serve_breakfast?':['sum'],\n",
        "                                            'Does_serve_Dinner?':['sum'],\n",
        "                                            'great_dist_vend_cust':['sum','mean'],\n",
        "                                            'great_dist_vend_cust_1':['sum','mean'],\n",
        "                                            'geo_dist_vend_cust':['sum','mean'],\n",
        "                                          'cust+id':['count'],\n",
        "                                          'location_number':['count'],\n",
        "                                          'latitude':['mean','std','count'],\n",
        "                                          'longitude':['mean','std','count'],\n",
        "                                          'vendor_latitude':['mean','std','count'],\n",
        "                                          'vendor_logitude':['mean','std','count'],\n",
        "                                          'serving_distance':['mean','sum'],\n",
        "                                          'prepration_time':['mean','sum'],\n",
        "                                          'is_open':['sum']})\n",
        "temp.columns = ['_'.join(x) for x in temp.columns]\n",
        "df_final = pd.merge(df_final,temp,on='cust+id',how='left')"
      ],
      "execution_count": null,
      "outputs": []
    },
    {
      "cell_type": "code",
      "metadata": {
        "id": "0orUERz1alk1",
        "colab": {
          "base_uri": "https://localhost:8080/",
          "height": 34
        },
        "outputId": "a32428cd-7892-442a-88f4-1fdce83dcae6"
      },
      "source": [
        "del temp\n",
        "gc.collect()"
      ],
      "execution_count": null,
      "outputs": [
        {
          "output_type": "execute_result",
          "data": {
            "text/plain": [
              "0"
            ]
          },
          "metadata": {
            "tags": []
          },
          "execution_count": 47
        }
      ]
    },
    {
      "cell_type": "code",
      "metadata": {
        "id": "fcUnsyc2-bDM",
        "colab": {
          "base_uri": "https://localhost:8080/",
          "height": 176
        },
        "outputId": "fb4a47b3-3b75-44b4-f8ac-f205c9bea20a"
      },
      "source": [
        "df_final.columns"
      ],
      "execution_count": null,
      "outputs": [
        {
          "output_type": "execute_result",
          "data": {
            "text/plain": [
              "Index(['customer_id', 'location_number', 'location_type', 'latitude',\n",
              "       'longitude', 'created_at', 'updated_at', 'id', 'authentication_id',\n",
              "       'vendor_latitude',\n",
              "       ...\n",
              "       'vendor_latitude_std', 'vendor_latitude_count', 'vendor_logitude_mean',\n",
              "       'vendor_logitude_std', 'vendor_logitude_count', 'serving_distance_mean',\n",
              "       'serving_distance_sum', 'prepration_time_mean', 'prepration_time_sum',\n",
              "       'is_open_sum'],\n",
              "      dtype='object', length=201)"
            ]
          },
          "metadata": {
            "tags": []
          },
          "execution_count": 45
        }
      ]
    },
    {
      "cell_type": "code",
      "metadata": {
        "id": "7F0UPyNXANTF"
      },
      "source": [
        "cols_remove = ['location_number_obj','id_obj','CID X LOC_NUM X VENDOR','OpeningTime', 'OpeningTime2',\n",
        "                         'created_at', 'updated_at','created_at_vendor','updated_at_vendor','sunday_from_time1', 'sunday_to_time1', 'sunday_from_time2',\n",
        "       'sunday_to_time2', 'monday_from_time1', 'monday_to_time1',\n",
        "       'monday_from_time2', 'monday_to_time2', 'tuesday_from_time1',\n",
        "       'tuesday_to_time1', 'tuesday_from_time2', 'tuesday_to_time2',\n",
        "       'wednesday_from_time1', 'wednesday_to_time1', 'wednesday_from_time2',\n",
        "       'wednesday_to_time2', 'thursday_from_time1', 'thursday_to_time1',\n",
        "       'thursday_from_time2', 'thursday_to_time2', 'friday_from_time1',\n",
        "       'friday_to_time1', 'friday_from_time2', 'friday_to_time2',\n",
        "       'saturday_from_time1', 'saturday_to_time1', 'saturday_from_time2',\n",
        "       'saturday_to_time2','OpeningTime1','OpeningTime1_1','OpeningTime_2','OpeningTime2_2','cust+id']\n",
        "for i in cols_remove:\n",
        "    del df_final[i]"
      ],
      "execution_count": null,
      "outputs": []
    },
    {
      "cell_type": "code",
      "metadata": {
        "id": "6bXh-WWIAO6o",
        "colab": {
          "base_uri": "https://localhost:8080/",
          "height": 34
        },
        "outputId": "e61e9663-8433-4851-8ed2-7cff5b64a795"
      },
      "source": [
        "gc.collect()"
      ],
      "execution_count": null,
      "outputs": [
        {
          "output_type": "execute_result",
          "data": {
            "text/plain": [
              "144"
            ]
          },
          "metadata": {
            "tags": []
          },
          "execution_count": 49
        }
      ]
    },
    {
      "cell_type": "code",
      "metadata": {
        "id": "giA4x9ws_wzJ"
      },
      "source": [
        "# temp_svd = df_final.copy()"
      ],
      "execution_count": null,
      "outputs": []
    },
    {
      "cell_type": "code",
      "metadata": {
        "id": "abjMa2E0AKJN",
        "colab": {
          "base_uri": "https://localhost:8080/",
          "height": 514
        },
        "outputId": "40709a74-fd52-48b0-8f11-b828bb5b44bd"
      },
      "source": [
        "# temp_svd.columns[1:101]"
      ],
      "execution_count": null,
      "outputs": [
        {
          "output_type": "execute_result",
          "data": {
            "text/plain": [
              "Index(['location_number', 'location_type', 'latitude', 'longitude', 'id',\n",
              "       'authentication_id', 'vendor_latitude', 'vendor_logitude',\n",
              "       'vendor_category_en', 'vendor_category_id', 'delivery_charge',\n",
              "       'serving_distance', 'is_open', 'prepration_time', 'discount_percentage',\n",
              "       'status', 'verified', 'rank', 'vendor_rating', 'primary_tags',\n",
              "       'vendor_tag', 'vendor_tag_name', 'device_type', 'target',\n",
              "       'Does_serve_breakfast?', 'Does_serve_latenight?', 'Does_serve_Dinner?',\n",
              "       'great_dist_vend_cust', 'geo_dist_vend_cust', 'great_dist_vend_cust_1',\n",
              "       '1000_cust_lat', '1000_cust_long', '500_cust_lat', '500_cust_long',\n",
              "       '300_cust_lat', '300_cust_long', '100_cust_lat', '100_cust_long',\n",
              "       '50_cust_lat', '50_cust_long', '20_cust_lat', '20_cust_long',\n",
              "       '10_cust_lat', '10_cust_long', '2_cust_lat', '2_cust_long',\n",
              "       '1000_vendor_lat', '1000_vendor_long', '500_vendor_lat',\n",
              "       '500_vendor_long', '300_vendor_lat', '300_vendor_long',\n",
              "       '100_vendor_lat', '100_vendor_long', '50_vendor_lat', '50_vendor_long',\n",
              "       '20_vendor_lat', '20_vendor_long', '10_vendor_lat', '10_vendor_long',\n",
              "       '2_vendor_lat', '2_vendor_long', 'cust_long_15', 'cust_long_22',\n",
              "       'cust_long_30', 'cust_long_45', 'cust_long_60', 'cust_long_75',\n",
              "       'cust_lat_15', 'cust_lat_22', 'cust_lat_30', 'cust_lat_45',\n",
              "       'cust_lat_60', 'cust_lat_75', 'vendor_long_15', 'vendor_long_22',\n",
              "       'vendor_long_30', 'vendor_long_45', 'vendor_long_60', 'vendor_long_75',\n",
              "       'vendor_lat_15', 'vendor_lat_22', 'vendor_lat_30', 'vendor_lat_45',\n",
              "       'vendor_lat_60', 'vendor_lat_75', 'sunday_time1', 'sunday_time2',\n",
              "       'monday_time1', 'monday_time2', 'tuesday_time1', 'tuesday_time2',\n",
              "       'wednesday_time1', 'wednesday_time2', 'thursday_time1',\n",
              "       'thursday_time2', 'friday_time1', 'friday_time2', 'saturday_time1',\n",
              "       'saturday_time2'],\n",
              "      dtype='object')"
            ]
          },
          "metadata": {
            "tags": []
          },
          "execution_count": 50
        }
      ]
    },
    {
      "cell_type": "code",
      "metadata": {
        "id": "BiOFNvAEB8FN"
      },
      "source": [
        "# temp_svd.drop(['vendor_tag','primary_tags','vendor_tag_name','target'],axis=1,inplace=True)"
      ],
      "execution_count": null,
      "outputs": []
    },
    {
      "cell_type": "markdown",
      "metadata": {
        "id": "NP5hdW-0xfRf"
      },
      "source": []
    },
    {
      "cell_type": "code",
      "metadata": {
        "id": "ceKDfQSBqo2y"
      },
      "source": [
        "# temp_svd.drop('customer_id',axis=1,inplace=True)"
      ],
      "execution_count": null,
      "outputs": []
    },
    {
      "cell_type": "code",
      "metadata": {
        "id": "fz9or-r6pqaV"
      },
      "source": [
        "# temp_svd= temp_svd[temp_svd.columns[0:105]]"
      ],
      "execution_count": null,
      "outputs": []
    },
    {
      "cell_type": "code",
      "metadata": {
        "id": "e4dmVDoX_la9"
      },
      "source": [
        "# for i in temp_svd:\n",
        "#   if temp_svd[i].dtype.name == 'category' or  temp_svd[i].dtype.name == 'object':\n",
        "#     temp_svd.mode()['location_type'][0]\n",
        "#     temp_svd[i]=temp_svd[i].astype(\"float32\")"
      ],
      "execution_count": null,
      "outputs": []
    },
    {
      "cell_type": "code",
      "metadata": {
        "id": "8YYMGlf9sonl",
        "colab": {
          "base_uri": "https://localhost:8080/",
          "height": 34
        },
        "outputId": "58013d1f-69ff-4267-f9af-c5e66feae513"
      },
      "source": [
        "# temp_svd.shape"
      ],
      "execution_count": null,
      "outputs": [
        {
          "output_type": "execute_result",
          "data": {
            "text/plain": [
              "(7613900, 105)"
            ]
          },
          "metadata": {
            "tags": []
          },
          "execution_count": 55
        }
      ]
    },
    {
      "cell_type": "code",
      "metadata": {
        "id": "Zslbylr3Cbah",
        "colab": {
          "base_uri": "https://localhost:8080/",
          "height": 34
        },
        "outputId": "2cb1371f-6075-4a31-a28c-48deeb9dbd7e"
      },
      "source": [
        "# for i in tqdm(temp_svd.columns[0:105]):\n",
        "#   if temp_svd[i].dtype.name == 'category' or  temp_svd[i].dtype.name == 'object':\n",
        "#     temp_svd[i]=  temp_svd[i].astype(\"float64\")\n",
        "#     temp_svd[i] = temp_svd[i].fillna(0)\n",
        "#     temp_svd[i] = np.abs(temp_svd[i])\n",
        "#   else:\n",
        "#     temp_svd[i] = temp_svd[i].fillna(0)\n",
        "    # temp_svd[i] = np.abs(temp_svd[i])"
      ],
      "execution_count": null,
      "outputs": [
        {
          "output_type": "stream",
          "text": [
            "100%|██████████| 105/105 [00:05<00:00, 19.16it/s]\n"
          ],
          "name": "stderr"
        }
      ]
    },
    {
      "cell_type": "code",
      "metadata": {
        "id": "dKgzL0ezDmig"
      },
      "source": [
        "# del sparse\n",
        "# gc.collect()"
      ],
      "execution_count": null,
      "outputs": []
    },
    {
      "cell_type": "code",
      "metadata": {
        "id": "yYx4K-c6wuLO"
      },
      "source": [
        "# sparse"
      ],
      "execution_count": null,
      "outputs": []
    },
    {
      "cell_type": "code",
      "metadata": {
        "id": "Wqtw7zk8DfAC"
      },
      "source": [],
      "execution_count": null,
      "outputs": []
    },
    {
      "cell_type": "code",
      "metadata": {
        "id": "YxmhDKzRwh5Q",
        "colab": {
          "base_uri": "https://localhost:8080/",
          "height": 1000
        },
        "outputId": "8a685abb-f7f2-4099-ef69-abed8b6a4db8"
      },
      "source": [
        "# temp_svd.isnull().sum()"
      ],
      "execution_count": null,
      "outputs": [
        {
          "output_type": "execute_result",
          "data": {
            "text/plain": [
              "location_number           0\n",
              "location_type             0\n",
              "latitude                  0\n",
              "longitude                 0\n",
              "id                        0\n",
              "authentication_id         0\n",
              "vendor_latitude           0\n",
              "vendor_logitude           0\n",
              "vendor_category_en        0\n",
              "vendor_category_id        0\n",
              "delivery_charge           0\n",
              "serving_distance          0\n",
              "is_open                   0\n",
              "prepration_time           0\n",
              "discount_percentage       0\n",
              "status                    0\n",
              "verified                  0\n",
              "rank                      0\n",
              "vendor_rating             0\n",
              "device_type               0\n",
              "Does_serve_breakfast?     0\n",
              "Does_serve_latenight?     0\n",
              "Does_serve_Dinner?        0\n",
              "great_dist_vend_cust      0\n",
              "geo_dist_vend_cust        0\n",
              "great_dist_vend_cust_1    0\n",
              "1000_cust_lat             0\n",
              "1000_cust_long            0\n",
              "500_cust_lat              0\n",
              "500_cust_long             0\n",
              "300_cust_lat              0\n",
              "300_cust_long             0\n",
              "100_cust_lat              0\n",
              "100_cust_long             0\n",
              "50_cust_lat               0\n",
              "50_cust_long              0\n",
              "20_cust_lat               0\n",
              "20_cust_long              0\n",
              "10_cust_lat               0\n",
              "10_cust_long              0\n",
              "2_cust_lat                0\n",
              "2_cust_long               0\n",
              "1000_vendor_lat           0\n",
              "1000_vendor_long          0\n",
              "500_vendor_lat            0\n",
              "500_vendor_long           0\n",
              "300_vendor_lat            0\n",
              "300_vendor_long           0\n",
              "100_vendor_lat            0\n",
              "100_vendor_long           0\n",
              "50_vendor_lat             0\n",
              "50_vendor_long            0\n",
              "20_vendor_lat             0\n",
              "20_vendor_long            0\n",
              "10_vendor_lat             0\n",
              "10_vendor_long            0\n",
              "2_vendor_lat              0\n",
              "2_vendor_long             0\n",
              "cust_long_15              0\n",
              "cust_long_22              0\n",
              "cust_long_30              0\n",
              "cust_long_45              0\n",
              "cust_long_60              0\n",
              "cust_long_75              0\n",
              "cust_lat_15               0\n",
              "cust_lat_22               0\n",
              "cust_lat_30               0\n",
              "cust_lat_45               0\n",
              "cust_lat_60               0\n",
              "cust_lat_75               0\n",
              "vendor_long_15            0\n",
              "vendor_long_22            0\n",
              "vendor_long_30            0\n",
              "vendor_long_45            0\n",
              "vendor_long_60            0\n",
              "vendor_long_75            0\n",
              "vendor_lat_15             0\n",
              "vendor_lat_22             0\n",
              "vendor_lat_30             0\n",
              "vendor_lat_45             0\n",
              "vendor_lat_60             0\n",
              "vendor_lat_75             0\n",
              "sunday_time1              0\n",
              "sunday_time2              0\n",
              "monday_time1              0\n",
              "monday_time2              0\n",
              "tuesday_time1             0\n",
              "tuesday_time2             0\n",
              "wednesday_time1           0\n",
              "wednesday_time2           0\n",
              "thursday_time1            0\n",
              "thursday_time2            0\n",
              "friday_time1              0\n",
              "friday_time2              0\n",
              "saturday_time1            0\n",
              "saturday_time2            0\n",
              "sunday_total              0\n",
              "monday_total              0\n",
              "tuesday_total             0\n",
              "wednesday_total           0\n",
              "thursday_total            0\n",
              "friday_total              0\n",
              "saturday_total            0\n",
              "Total_hrs_week            0\n",
              "Total_hrs_weekday         0\n",
              "dtype: int64"
            ]
          },
          "metadata": {
            "tags": []
          },
          "execution_count": 61
        }
      ]
    },
    {
      "cell_type": "code",
      "metadata": {
        "id": "KezSiF0jC0Ir"
      },
      "source": [
        "# sparse = temp_svd.astype(pd.SparseDtype(\"float64\"))"
      ],
      "execution_count": null,
      "outputs": []
    },
    {
      "cell_type": "code",
      "metadata": {
        "id": "YrbcDasgC3oT",
        "colab": {
          "base_uri": "https://localhost:8080/",
          "height": 34
        },
        "outputId": "075756fd-f522-42ce-cb9a-76698313e518"
      },
      "source": [
        "# del temp_svd\n",
        "# gc.collect()"
      ],
      "execution_count": null,
      "outputs": [
        {
          "output_type": "execute_result",
          "data": {
            "text/plain": [
              "0"
            ]
          },
          "metadata": {
            "tags": []
          },
          "execution_count": 60
        }
      ]
    },
    {
      "cell_type": "code",
      "metadata": {
        "id": "gUkiNuAL_edu",
        "colab": {
          "base_uri": "https://localhost:8080/",
          "height": 194
        },
        "outputId": "c3de7a52-73c8-4673-a66c-e467b1b291c7"
      },
      "source": [
        "\n",
        "# start_time = pc()\n",
        "# nmf = NMF(n_components=10,random_state=22,init='nndsvdar',solver='mu',max_iter=200,verbose=True)\n",
        "# nmf.fit(sparse)\n",
        "# end_time = pc()"
      ],
      "execution_count": null,
      "outputs": [
        {
          "output_type": "stream",
          "text": [
            "Epoch 10 reached after 49.176 seconds, error: 1604896.001566\n",
            "Epoch 20 reached after 78.111 seconds, error: 794451.989011\n",
            "Epoch 30 reached after 106.802 seconds, error: 547871.741443\n",
            "Epoch 40 reached after 135.356 seconds, error: 431385.118527\n",
            "Epoch 50 reached after 163.738 seconds, error: 364306.941777\n",
            "Epoch 60 reached after 192.512 seconds, error: 320517.427368\n",
            "Epoch 70 reached after 220.962 seconds, error: 289943.085450\n",
            "Epoch 80 reached after 249.843 seconds, error: 267282.968144\n",
            "Epoch 90 reached after 278.575 seconds, error: 249889.228216\n",
            "Epoch 100 reached after 307.312 seconds, error: 235903.069818\n"
          ],
          "name": "stdout"
        }
      ]
    },
    {
      "cell_type": "code",
      "metadata": {
        "id": "uZjbmCTfDOJ_",
        "colab": {
          "base_uri": "https://localhost:8080/",
          "height": 87
        },
        "outputId": "998e52bc-9270-4699-c9dd-fbdc675dc8b9"
      },
      "source": [
        "# feats = nmf.transform(sparse)"
      ],
      "execution_count": null,
      "outputs": [
        {
          "output_type": "stream",
          "text": [
            "Epoch 10 reached after 22.160 seconds, error: 515178.914468\n",
            "Epoch 20 reached after 34.898 seconds, error: 343800.548951\n",
            "Epoch 30 reached after 47.613 seconds, error: 295564.834421\n",
            "Epoch 40 reached after 60.495 seconds, error: 275328.872497\n"
          ],
          "name": "stdout"
        }
      ]
    },
    {
      "cell_type": "code",
      "metadata": {
        "id": "wlPlwjG1DJuN",
        "colab": {
          "base_uri": "https://localhost:8080/",
          "height": 34
        },
        "outputId": "01ae8330-cd51-473f-c273-1c47da9ee013"
      },
      "source": [
        "# feats = svd.transform(sparse)\n",
        "# del sparse\n",
        "# del nmf\n",
        "# gc.collect()\n"
      ],
      "execution_count": null,
      "outputs": [
        {
          "output_type": "execute_result",
          "data": {
            "text/plain": [
              "0"
            ]
          },
          "metadata": {
            "tags": []
          },
          "execution_count": 63
        }
      ]
    },
    {
      "cell_type": "code",
      "metadata": {
        "id": "vkpjajyzDVgI"
      },
      "source": [
        "# df_feats_nmf = pd.DataFrame(feats)"
      ],
      "execution_count": null,
      "outputs": []
    },
    {
      "cell_type": "code",
      "metadata": {
        "id": "ev69NmXOSdzw",
        "colab": {
          "base_uri": "https://localhost:8080/",
          "height": 34
        },
        "outputId": "5272ed42-27ee-4d99-85cf-78db3ad36696"
      },
      "source": [
        "# df_feats_nmf"
      ],
      "execution_count": null,
      "outputs": [
        {
          "output_type": "execute_result",
          "data": {
            "text/plain": [
              "(7613900, 10)"
            ]
          },
          "metadata": {
            "tags": []
          },
          "execution_count": 76
        }
      ]
    },
    {
      "cell_type": "code",
      "metadata": {
        "id": "GUTdAEkfRpY-"
      },
      "source": [
        "df_nmf = pd.read_pickle('/content/drive/My Drive/Akeed_Correct/nmf_feats.pkl')"
      ],
      "execution_count": null,
      "outputs": []
    },
    {
      "cell_type": "code",
      "metadata": {
        "id": "IrFkEwdSVbo9"
      },
      "source": [
        "df_nmf.columns = ['_nmf_'+str(x) for x in df_nmf.columns]"
      ],
      "execution_count": null,
      "outputs": []
    },
    {
      "cell_type": "code",
      "metadata": {
        "id": "1pgtySrnF9gz"
      },
      "source": [
        "df_final = pd.concat([df_final,df_nmf],axis=1)"
      ],
      "execution_count": null,
      "outputs": []
    },
    {
      "cell_type": "code",
      "metadata": {
        "id": "Syi73S1ZXLZp",
        "colab": {
          "base_uri": "https://localhost:8080/",
          "height": 35
        },
        "outputId": "44c41996-137b-4853-e66a-a2209c66221d"
      },
      "source": [
        "df_final.columns[150]"
      ],
      "execution_count": null,
      "outputs": [
        {
          "output_type": "execute_result",
          "data": {
            "application/vnd.google.colaboratory.intrinsic+json": {
              "type": "string"
            },
            "text/plain": [
              "'vendor_latitude_count'"
            ]
          },
          "metadata": {
            "tags": []
          },
          "execution_count": 48
        }
      ]
    },
    {
      "cell_type": "code",
      "metadata": {
        "id": "hI33P_yEj07x",
        "colab": {
          "base_uri": "https://localhost:8080/",
          "height": 34
        },
        "outputId": "bb8d1ec7-a35e-4ef4-f0a9-8296a34bae1e"
      },
      "source": [
        "del df_nmf\n",
        "gc.collect()"
      ],
      "execution_count": null,
      "outputs": [
        {
          "output_type": "execute_result",
          "data": {
            "text/plain": [
              "0"
            ]
          },
          "metadata": {
            "tags": []
          },
          "execution_count": 49
        }
      ]
    },
    {
      "cell_type": "code",
      "metadata": {
        "id": "VZUQQGHJfLCJ",
        "colab": {
          "base_uri": "https://localhost:8080/",
          "height": 530
        },
        "outputId": "d133cc76-7762-4ff2-e27b-97eac70a4bc9"
      },
      "source": [
        "from sklearn.cluster import KMeans\n",
        "\n",
        "kmeans = KMeans(n_clusters=8,verbose=True,random_state=22)\n",
        "feats_kmeans = kmeans.fit_transform(df_final[['latitude','longitude']])   #vendorlat_long clusters =9"
      ],
      "execution_count": null,
      "outputs": [
        {
          "output_type": "stream",
          "text": [
            "Initialization complete\n",
            "start iteration\n",
            "done sorting\n",
            "end inner loop\n",
            "Iteration 0, inertia 204101.89621912467\n",
            "start iteration\n",
            "done sorting\n"
          ],
          "name": "stdout"
        },
        {
          "output_type": "error",
          "ename": "KeyboardInterrupt",
          "evalue": "ignored",
          "traceback": [
            "\u001b[0;31m---------------------------------------------------------------------------\u001b[0m",
            "\u001b[0;31mKeyboardInterrupt\u001b[0m                         Traceback (most recent call last)",
            "\u001b[0;32m<ipython-input-49-486531fa8c4c>\u001b[0m in \u001b[0;36m<module>\u001b[0;34m()\u001b[0m\n\u001b[1;32m      2\u001b[0m \u001b[0;34m\u001b[0m\u001b[0m\n\u001b[1;32m      3\u001b[0m \u001b[0mkmeans\u001b[0m \u001b[0;34m=\u001b[0m \u001b[0mKMeans\u001b[0m\u001b[0;34m(\u001b[0m\u001b[0mn_clusters\u001b[0m\u001b[0;34m=\u001b[0m\u001b[0;36m8\u001b[0m\u001b[0;34m,\u001b[0m\u001b[0mverbose\u001b[0m\u001b[0;34m=\u001b[0m\u001b[0;32mTrue\u001b[0m\u001b[0;34m,\u001b[0m\u001b[0mrandom_state\u001b[0m\u001b[0;34m=\u001b[0m\u001b[0;36m22\u001b[0m\u001b[0;34m)\u001b[0m\u001b[0;34m\u001b[0m\u001b[0;34m\u001b[0m\u001b[0m\n\u001b[0;32m----> 4\u001b[0;31m \u001b[0mfeats_kmeans\u001b[0m \u001b[0;34m=\u001b[0m \u001b[0mkmeans\u001b[0m\u001b[0;34m.\u001b[0m\u001b[0mfit_transform\u001b[0m\u001b[0;34m(\u001b[0m\u001b[0mdf_final\u001b[0m\u001b[0;34m[\u001b[0m\u001b[0;34m[\u001b[0m\u001b[0;34m'vendor_latitude'\u001b[0m\u001b[0;34m,\u001b[0m\u001b[0;34m'vendor_logitude'\u001b[0m\u001b[0;34m]\u001b[0m\u001b[0;34m]\u001b[0m\u001b[0;34m)\u001b[0m   \u001b[0;31m#vendorlat_long clusters =9\u001b[0m\u001b[0;34m\u001b[0m\u001b[0;34m\u001b[0m\u001b[0m\n\u001b[0m",
            "\u001b[0;32m/usr/local/lib/python3.6/dist-packages/sklearn/cluster/_kmeans.py\u001b[0m in \u001b[0;36mfit_transform\u001b[0;34m(self, X, y, sample_weight)\u001b[0m\n\u001b[1;32m   1034\u001b[0m         \u001b[0;31m# XXX This skips _check_test_data, which may change the dtype;\u001b[0m\u001b[0;34m\u001b[0m\u001b[0;34m\u001b[0m\u001b[0;34m\u001b[0m\u001b[0m\n\u001b[1;32m   1035\u001b[0m         \u001b[0;31m# we should refactor the input validation.\u001b[0m\u001b[0;34m\u001b[0m\u001b[0;34m\u001b[0m\u001b[0;34m\u001b[0m\u001b[0m\n\u001b[0;32m-> 1036\u001b[0;31m         \u001b[0;32mreturn\u001b[0m \u001b[0mself\u001b[0m\u001b[0;34m.\u001b[0m\u001b[0mfit\u001b[0m\u001b[0;34m(\u001b[0m\u001b[0mX\u001b[0m\u001b[0;34m,\u001b[0m \u001b[0msample_weight\u001b[0m\u001b[0;34m=\u001b[0m\u001b[0msample_weight\u001b[0m\u001b[0;34m)\u001b[0m\u001b[0;34m.\u001b[0m\u001b[0m_transform\u001b[0m\u001b[0;34m(\u001b[0m\u001b[0mX\u001b[0m\u001b[0;34m)\u001b[0m\u001b[0;34m\u001b[0m\u001b[0;34m\u001b[0m\u001b[0m\n\u001b[0m\u001b[1;32m   1037\u001b[0m \u001b[0;34m\u001b[0m\u001b[0m\n\u001b[1;32m   1038\u001b[0m     \u001b[0;32mdef\u001b[0m \u001b[0mtransform\u001b[0m\u001b[0;34m(\u001b[0m\u001b[0mself\u001b[0m\u001b[0;34m,\u001b[0m \u001b[0mX\u001b[0m\u001b[0;34m)\u001b[0m\u001b[0;34m:\u001b[0m\u001b[0;34m\u001b[0m\u001b[0;34m\u001b[0m\u001b[0m\n",
            "\u001b[0;32m/usr/local/lib/python3.6/dist-packages/sklearn/cluster/_kmeans.py\u001b[0m in \u001b[0;36mfit\u001b[0;34m(self, X, y, sample_weight)\u001b[0m\n\u001b[1;32m    935\u001b[0m                     \u001b[0mmax_iter\u001b[0m\u001b[0;34m=\u001b[0m\u001b[0mself\u001b[0m\u001b[0;34m.\u001b[0m\u001b[0mmax_iter\u001b[0m\u001b[0;34m,\u001b[0m \u001b[0minit\u001b[0m\u001b[0;34m=\u001b[0m\u001b[0minit\u001b[0m\u001b[0;34m,\u001b[0m \u001b[0mverbose\u001b[0m\u001b[0;34m=\u001b[0m\u001b[0mself\u001b[0m\u001b[0;34m.\u001b[0m\u001b[0mverbose\u001b[0m\u001b[0;34m,\u001b[0m\u001b[0;34m\u001b[0m\u001b[0;34m\u001b[0m\u001b[0m\n\u001b[1;32m    936\u001b[0m                     \u001b[0mprecompute_distances\u001b[0m\u001b[0;34m=\u001b[0m\u001b[0mprecompute_distances\u001b[0m\u001b[0;34m,\u001b[0m \u001b[0mtol\u001b[0m\u001b[0;34m=\u001b[0m\u001b[0mtol\u001b[0m\u001b[0;34m,\u001b[0m\u001b[0;34m\u001b[0m\u001b[0;34m\u001b[0m\u001b[0m\n\u001b[0;32m--> 937\u001b[0;31m                     x_squared_norms=x_squared_norms, random_state=seed)\n\u001b[0m\u001b[1;32m    938\u001b[0m                 \u001b[0;31m# determine if these results are the best so far\u001b[0m\u001b[0;34m\u001b[0m\u001b[0;34m\u001b[0m\u001b[0;34m\u001b[0m\u001b[0m\n\u001b[1;32m    939\u001b[0m                 \u001b[0;32mif\u001b[0m \u001b[0mbest_inertia\u001b[0m \u001b[0;32mis\u001b[0m \u001b[0;32mNone\u001b[0m \u001b[0;32mor\u001b[0m \u001b[0minertia\u001b[0m \u001b[0;34m<\u001b[0m \u001b[0mbest_inertia\u001b[0m\u001b[0;34m:\u001b[0m\u001b[0;34m\u001b[0m\u001b[0;34m\u001b[0m\u001b[0m\n",
            "\u001b[0;32m/usr/local/lib/python3.6/dist-packages/sklearn/cluster/_kmeans.py\u001b[0m in \u001b[0;36m_kmeans_single_elkan\u001b[0;34m(X, sample_weight, n_clusters, max_iter, init, verbose, x_squared_norms, random_state, tol, precompute_distances)\u001b[0m\n\u001b[1;32m    320\u001b[0m     centers, labels, n_iter = k_means_elkan(X, checked_sample_weight,\n\u001b[1;32m    321\u001b[0m                                             \u001b[0mn_clusters\u001b[0m\u001b[0;34m,\u001b[0m \u001b[0mcenters\u001b[0m\u001b[0;34m,\u001b[0m \u001b[0mtol\u001b[0m\u001b[0;34m=\u001b[0m\u001b[0mtol\u001b[0m\u001b[0;34m,\u001b[0m\u001b[0;34m\u001b[0m\u001b[0;34m\u001b[0m\u001b[0m\n\u001b[0;32m--> 322\u001b[0;31m                                             max_iter=max_iter, verbose=verbose)\n\u001b[0m\u001b[1;32m    323\u001b[0m     \u001b[0;32mif\u001b[0m \u001b[0msample_weight\u001b[0m \u001b[0;32mis\u001b[0m \u001b[0;32mNone\u001b[0m\u001b[0;34m:\u001b[0m\u001b[0;34m\u001b[0m\u001b[0;34m\u001b[0m\u001b[0m\n\u001b[1;32m    324\u001b[0m         \u001b[0minertia\u001b[0m \u001b[0;34m=\u001b[0m \u001b[0mnp\u001b[0m\u001b[0;34m.\u001b[0m\u001b[0msum\u001b[0m\u001b[0;34m(\u001b[0m\u001b[0;34m(\u001b[0m\u001b[0mX\u001b[0m \u001b[0;34m-\u001b[0m \u001b[0mcenters\u001b[0m\u001b[0;34m[\u001b[0m\u001b[0mlabels\u001b[0m\u001b[0;34m]\u001b[0m\u001b[0;34m)\u001b[0m \u001b[0;34m**\u001b[0m \u001b[0;36m2\u001b[0m\u001b[0;34m,\u001b[0m \u001b[0mdtype\u001b[0m\u001b[0;34m=\u001b[0m\u001b[0mnp\u001b[0m\u001b[0;34m.\u001b[0m\u001b[0mfloat64\u001b[0m\u001b[0;34m)\u001b[0m\u001b[0;34m\u001b[0m\u001b[0;34m\u001b[0m\u001b[0m\n",
            "\u001b[0;32msklearn/cluster/_k_means_elkan.pyx\u001b[0m in \u001b[0;36msklearn.cluster._k_means_elkan.k_means_elkan\u001b[0;34m()\u001b[0m\n",
            "\u001b[0;31mKeyboardInterrupt\u001b[0m: "
          ]
        }
      ]
    },
    {
      "cell_type": "code",
      "metadata": {
        "id": "F1DjmHdKjWKE"
      },
      "source": [
        "del kmeans"
      ],
      "execution_count": null,
      "outputs": []
    },
    {
      "cell_type": "code",
      "metadata": {
        "id": "RHN5d_2MgziH"
      },
      "source": [
        "kmeans_feat_df = pd.DataFrame(feats_kmeans)\n",
        "kmeans_feat_df.columns =['clusters_'+str(x) for x in kmeans_feat_df.columns]"
      ],
      "execution_count": null,
      "outputs": []
    },
    {
      "cell_type": "code",
      "metadata": {
        "id": "u2rZAQzPja6T"
      },
      "source": [
        "del feats_kmeans"
      ],
      "execution_count": null,
      "outputs": []
    },
    {
      "cell_type": "code",
      "metadata": {
        "id": "Sfpv3-pphxN0"
      },
      "source": [
        "df_final = pd.concat([df_final,kmeans_feat_df],axis=1)"
      ],
      "execution_count": null,
      "outputs": []
    },
    {
      "cell_type": "code",
      "metadata": {
        "id": "Gxjy6avNk_R6",
        "colab": {
          "base_uri": "https://localhost:8080/",
          "height": 34
        },
        "outputId": "d643d832-c0c8-4037-b4dd-91af990d4a8e"
      },
      "source": [
        "df_final.shape"
      ],
      "execution_count": null,
      "outputs": [
        {
          "output_type": "execute_result",
          "data": {
            "text/plain": [
              "(7613900, 167)"
            ]
          },
          "metadata": {
            "tags": []
          },
          "execution_count": 57
        }
      ]
    },
    {
      "cell_type": "code",
      "metadata": {
        "id": "avm4D4zEAQFq",
        "colab": {
          "base_uri": "https://localhost:8080/",
          "height": 34
        },
        "outputId": "b56c3d64-edbf-44b4-e981-84c841698b86"
      },
      "source": [
        "df_train = df_final[df_final['target'].notnull()]\n",
        "df_test = df_final[df_final['target'].isnull()]\n",
        "# del df_final\n",
        "df_test = df_test.drop('target',axis=1)\n",
        "gc.collect()"
      ],
      "execution_count": null,
      "outputs": [
        {
          "output_type": "execute_result",
          "data": {
            "text/plain": [
              "0"
            ]
          },
          "metadata": {
            "tags": []
          },
          "execution_count": 50
        }
      ]
    },
    {
      "cell_type": "code",
      "metadata": {
        "id": "MYVcKDDXclfh"
      },
      "source": [
        "# del df_test['lon+lat']\n",
        "# del df_train['lon+lat']"
      ],
      "execution_count": null,
      "outputs": []
    },
    {
      "cell_type": "code",
      "metadata": {
        "id": "cf-JerXcaBCZ",
        "colab": {
          "base_uri": "https://localhost:8080/",
          "height": 34
        },
        "outputId": "4b7987e0-d6d8-41cc-ab23-b4d38816db72"
      },
      "source": [
        "del df_final\n",
        "gc.collect()"
      ],
      "execution_count": null,
      "outputs": [
        {
          "output_type": "execute_result",
          "data": {
            "text/plain": [
              "0"
            ]
          },
          "metadata": {
            "tags": []
          },
          "execution_count": 52
        }
      ]
    },
    {
      "cell_type": "code",
      "metadata": {
        "id": "eKS5CdmRzTKi"
      },
      "source": [
        "\n"
      ],
      "execution_count": null,
      "outputs": []
    },
    {
      "cell_type": "code",
      "metadata": {
        "id": "POfDN0QaWFz2"
      },
      "source": [
        "df_train['Primary_tag_cleaned'] = df_train['primary_tags'].apply(lambda x: eval(eval(x)['primary_tags']))"
      ],
      "execution_count": null,
      "outputs": []
    },
    {
      "cell_type": "code",
      "metadata": {
        "id": "eeSQ_rmRWH7r"
      },
      "source": [
        "#getting all multilablebinarizer values\n",
        "df_train['vendor_tag_name'] = df_train['vendor_tag_name'].astype(object)\n",
        "df_train['vendor_tag_name'] = df_train['vendor_tag_name'].fillna('-99999') \n",
        "df_train['vendor_tag_name'] = df_train['vendor_tag_name'].apply(lambda x: x.split(','))"
      ],
      "execution_count": null,
      "outputs": []
    },
    {
      "cell_type": "markdown",
      "metadata": {
        "id": "q-3UAbq9E123"
      },
      "source": []
    },
    {
      "cell_type": "code",
      "metadata": {
        "id": "MbJ6-jGMATrt"
      },
      "source": [
        "df_train = df_train.join(pd.DataFrame(mlb.fit_transform(df_train.pop('vendor_tag_name')),columns=mlb.classes_,index=df_train.index))"
      ],
      "execution_count": null,
      "outputs": []
    },
    {
      "cell_type": "code",
      "metadata": {
        "id": "MeglHfbDtyp1",
        "colab": {
          "base_uri": "https://localhost:8080/",
          "height": 34
        },
        "outputId": "01814249-9c59-436d-887e-b46b9cfb8c66"
      },
      "source": [
        "df_train.shape"
      ],
      "execution_count": null,
      "outputs": [
        {
          "output_type": "execute_result",
          "data": {
            "text/plain": [
              "(5941900, 228)"
            ]
          },
          "metadata": {
            "tags": []
          },
          "execution_count": 56
        }
      ]
    },
    {
      "cell_type": "code",
      "metadata": {
        "id": "3g4pHEONAVqN",
        "colab": {
          "base_uri": "https://localhost:8080/",
          "height": 34
        },
        "outputId": "69e9b672-434a-44a8-994d-ed4de2bf8194"
      },
      "source": [
        "# del mlb\n",
        "gc.collect()"
      ],
      "execution_count": null,
      "outputs": [
        {
          "output_type": "execute_result",
          "data": {
            "text/plain": [
              "2"
            ]
          },
          "metadata": {
            "tags": []
          },
          "execution_count": 57
        }
      ]
    },
    {
      "cell_type": "code",
      "metadata": {
        "id": "g9IzA21wMvf9"
      },
      "source": [
        "# df_train['ser+actual_hav'][0]"
      ],
      "execution_count": null,
      "outputs": []
    },
    {
      "cell_type": "code",
      "metadata": {
        "id": "d4HK7Jjeg6BO",
        "colab": {
          "base_uri": "https://localhost:8080/",
          "height": 247
        },
        "outputId": "f93ea39a-b19c-42b7-de6b-9fba7f097a32"
      },
      "source": [
        "df_train.columns[159:400]"
      ],
      "execution_count": null,
      "outputs": [
        {
          "output_type": "execute_result",
          "data": {
            "text/plain": [
              "Index(['Primary_tag_cleaned', 'American', 'Arabic', 'Asian', 'Bagels',\n",
              "       'Biryani', 'Breakfast', 'Burgers', 'Cafe', 'Cakes', 'Chinese',\n",
              "       'Churros', 'Coffee', 'Combos', 'Crepes', 'Desserts', 'Dimsum', 'Donuts',\n",
              "       'Family Meal', 'Fatayers', 'Free Delivery', 'Fresh Juices', 'Fries',\n",
              "       'Frozen yoghurt', 'Grills', 'Healthy Food', 'Hot Chocolate', 'Hot Dogs',\n",
              "       'Ice creams', 'Indian', 'Italian', 'Japanese', 'Karak', 'Kebabs',\n",
              "       'Kids meal', 'Kushari', 'Lebanese', 'Manakeesh', 'Mandazi', 'Mexican',\n",
              "       'Milkshakes', 'Mishkak', 'Mojitos', 'Mojitos ', 'Omani', 'Organic',\n",
              "       'Pancakes', 'Pasta', 'Pastas', 'Pastry', 'Pizza', 'Pizzas', 'Rice',\n",
              "       'Rolls', 'Salads', 'Sandwiches', 'Seafood', 'Shawarma', 'Shuwa',\n",
              "       'Smoothies', 'Soups', 'Spanish Latte', 'Steaks', 'Sushi', 'Sweets',\n",
              "       'Thai', 'Thali', 'Vegetarian', 'Waffles', 'nan'],\n",
              "      dtype='object')"
            ]
          },
          "metadata": {
            "tags": []
          },
          "execution_count": 61
        }
      ]
    },
    {
      "cell_type": "code",
      "metadata": {
        "id": "1uzcJqov5rWf"
      },
      "source": [
        "x = 159"
      ],
      "execution_count": null,
      "outputs": []
    },
    {
      "cell_type": "code",
      "metadata": {
        "id": "ScKtmBVPAXcj"
      },
      "source": [
        "for i in df_train.columns[x:400]:\n",
        "    df_train[i] += df_train[i].astype('int8')"
      ],
      "execution_count": null,
      "outputs": []
    },
    {
      "cell_type": "code",
      "metadata": {
        "id": "ecIrzyN8ttI5"
      },
      "source": [
        "df_train['Items_offered'] = 0\n",
        "for i in df_train.columns[x:400]:\n",
        "    df_train['Items_offered'] += df_train[i]"
      ],
      "execution_count": null,
      "outputs": []
    },
    {
      "cell_type": "code",
      "metadata": {
        "id": "VdJar1t9AZOA",
        "colab": {
          "base_uri": "https://localhost:8080/",
          "height": 34
        },
        "outputId": "490bff49-078d-40eb-d5c5-aeb4117f17b5"
      },
      "source": [
        "gc.collect()"
      ],
      "execution_count": null,
      "outputs": [
        {
          "output_type": "execute_result",
          "data": {
            "text/plain": [
              "0"
            ]
          },
          "metadata": {
            "tags": []
          },
          "execution_count": 65
        }
      ]
    },
    {
      "cell_type": "code",
      "metadata": {
        "id": "3_wH0mfGAbDk"
      },
      "source": [
        "\n",
        "cols_rem = ['primary_tags','vendor_tag']\n",
        "for i in cols_rem:\n",
        "    del df_train[i]"
      ],
      "execution_count": null,
      "outputs": []
    },
    {
      "cell_type": "code",
      "metadata": {
        "id": "MvCpOqWcgxWz"
      },
      "source": [],
      "execution_count": null,
      "outputs": []
    },
    {
      "cell_type": "code",
      "metadata": {
        "id": "moF5lgsEiq75"
      },
      "source": [
        "# sparse.head()"
      ],
      "execution_count": null,
      "outputs": []
    },
    {
      "cell_type": "code",
      "metadata": {
        "id": "f2fgVTMlYQsZ"
      },
      "source": [
        "# temp_nmf = df_train.drop(['target','customer_id'],axis=1).copy()\n",
        "# for i in temp_nmf.columns:\n",
        "#   if temp_nmf[i].dtype != 'O' or temp_nmf[i].dtype != 'category':\n",
        "#     temp_nmf[i] = np.abs(temp_nmf[i])"
      ],
      "execution_count": null,
      "outputs": []
    },
    {
      "cell_type": "code",
      "metadata": {
        "id": "KS0RhjPBf8eR"
      },
      "source": [
        "# mnf_temp = sparse_mat.values"
      ],
      "execution_count": null,
      "outputs": []
    },
    {
      "cell_type": "code",
      "metadata": {
        "id": "qzKX1h3ZgBn7"
      },
      "source": [
        "# del sparse_mat"
      ],
      "execution_count": null,
      "outputs": []
    },
    {
      "cell_type": "code",
      "metadata": {
        "id": "YGCRT_TgYcBr"
      },
      "source": [
        "# X =  sps.csr_matrix(temp_nmf)\n"
      ],
      "execution_count": null,
      "outputs": []
    },
    {
      "cell_type": "code",
      "metadata": {
        "id": "M99JnSfSvBhX"
      },
      "source": [],
      "execution_count": null,
      "outputs": []
    },
    {
      "cell_type": "code",
      "metadata": {
        "id": "V-ENRIz5Ac1E"
      },
      "source": [
        "# X_train"
      ],
      "execution_count": null,
      "outputs": []
    },
    {
      "cell_type": "code",
      "metadata": {
        "id": "Au_egc5OjR8i"
      },
      "source": [
        "# df_train = df_train[df_train['location_number'] <=11]"
      ],
      "execution_count": null,
      "outputs": []
    },
    {
      "cell_type": "code",
      "metadata": {
        "id": "44lUobsD9y81"
      },
      "source": [
        "# df_train = pd.concat([df_train,df_new_feats],axis=1)"
      ],
      "execution_count": null,
      "outputs": []
    },
    {
      "cell_type": "code",
      "metadata": {
        "id": "nL8SEH2KAe1x",
        "colab": {
          "base_uri": "https://localhost:8080/",
          "height": 34
        },
        "outputId": "89ed3032-a800-4466-8b9a-d4dbe194c7d4"
      },
      "source": [
        "X_valid = df_train.iloc[hold_idx]\n",
        "X_train = df_train.drop(hold_idx,axis=0)\n",
        "del df_train\n",
        "gc.collect()"
      ],
      "execution_count": null,
      "outputs": [
        {
          "output_type": "execute_result",
          "data": {
            "text/plain": [
              "106"
            ]
          },
          "metadata": {
            "tags": []
          },
          "execution_count": 67
        }
      ]
    },
    {
      "cell_type": "code",
      "metadata": {
        "id": "3gfFCC99AiZc"
      },
      "source": [
        "y_train = X_train['target']\n",
        "X_train = X_train.drop(['target'],axis=1)\n",
        "y_valid = X_valid['target']\n",
        "X_valid = X_valid.drop(['target'],axis=1)"
      ],
      "execution_count": null,
      "outputs": []
    },
    {
      "cell_type": "code",
      "metadata": {
        "id": "ZHfjb0CmE_67"
      },
      "source": [],
      "execution_count": null,
      "outputs": []
    },
    {
      "cell_type": "code",
      "metadata": {
        "id": "Z2HP0b9nAj9s",
        "colab": {
          "base_uri": "https://localhost:8080/",
          "height": 34
        },
        "outputId": "141e5d6f-e7a6-4dd9-811e-f6216899432c"
      },
      "source": [
        "gc.collect()"
      ],
      "execution_count": null,
      "outputs": [
        {
          "output_type": "execute_result",
          "data": {
            "text/plain": [
              "0"
            ]
          },
          "metadata": {
            "tags": []
          },
          "execution_count": 69
        }
      ]
    },
    {
      "cell_type": "code",
      "metadata": {
        "id": "nYntRzxTAlYQ"
      },
      "source": [
        "df_test = df_test.drop('customer_id',axis=1)\n",
        "\n",
        "del X_valid['customer_id']\n",
        "# del X_train['customer_id']"
      ],
      "execution_count": null,
      "outputs": []
    },
    {
      "cell_type": "code",
      "metadata": {
        "id": "6fdCv5EZGrEl"
      },
      "source": [
        "# X_train = X_train.drop(['lon+lat_le','loc+id+vendor_le','id+vendor_le','vendor+loc_le'],axis=1)\n",
        "# X_valid = X_valid.drop(['lon+lat_le','loc+id+vendor_le','id+vendor_le','vendor+loc_le'],axis=1)\n",
        "# X_train = X_train.drop(['cust+id_le','cust+loc_le','cust+vendor_le'],axis=1)\n",
        "# X_valid = X_valid.drop(['cust+id_le','cust+loc_le','cust+vendor_le'],axis=1)"
      ],
      "execution_count": null,
      "outputs": []
    },
    {
      "cell_type": "code",
      "metadata": {
        "id": "06Rx7s-VAjtY"
      },
      "source": [],
      "execution_count": null,
      "outputs": []
    },
    {
      "cell_type": "code",
      "metadata": {
        "id": "nu2rLljDE9eg"
      },
      "source": [
        "# X_train['cust']"
      ],
      "execution_count": null,
      "outputs": []
    },
    {
      "cell_type": "code",
      "metadata": {
        "id": "ivPASRelTYE-"
      },
      "source": [
        "# X_train = X_train.drop(['cust+loc','cust+vendor','loc+id+vendor'],axis=1)\n",
        "# X_valid = X_valid.drop(['cust+loc','cust+vendor','loc+id+vendor'],axis=1)"
      ],
      "execution_count": null,
      "outputs": []
    },
    {
      "cell_type": "code",
      "metadata": {
        "id": "up9Kf-5jkzjF"
      },
      "source": [
        "\n",
        "# X_train = X_train.drop('id+vendor',axis=1)\n",
        "# X_valid = X_valid.drop('id+vendor',axis=1)"
      ],
      "execution_count": null,
      "outputs": []
    },
    {
      "cell_type": "code",
      "metadata": {
        "id": "TXmVW1LK7jgB"
      },
      "source": [
        "# X_train = X_train.drop('vendor+loc',axis=1)\n",
        "# X_valid = X_valid.drop('vendor+loc',axis=1)"
      ],
      "execution_count": null,
      "outputs": []
    },
    {
      "cell_type": "code",
      "metadata": {
        "id": "Tiz64cJAM4yJ"
      },
      "source": [
        "# X_train['customer_id_count'].value_counts()"
      ],
      "execution_count": null,
      "outputs": []
    },
    {
      "cell_type": "code",
      "metadata": {
        "id": "Y6WSQVC0zyZC"
      },
      "source": [
        "y_train = y_train.astype('int8')\n",
        "y_valid = y_valid.astype('int8')"
      ],
      "execution_count": null,
      "outputs": []
    },
    {
      "cell_type": "code",
      "metadata": {
        "id": "GPmgzbPr1AE5"
      },
      "source": [
        "    # del X_trn\n",
        "    # del X_val"
      ],
      "execution_count": null,
      "outputs": []
    },
    {
      "cell_type": "code",
      "metadata": {
        "id": "IJqdgUh81B6j"
      },
      "source": [
        "# del clf"
      ],
      "execution_count": null,
      "outputs": []
    },
    {
      "cell_type": "code",
      "metadata": {
        "id": "h3qffwA01Dfc"
      },
      "source": [
        "df_test['Primary_tag_cleaned'] = df_test['primary_tags'].apply(lambda x: eval(eval(x)['primary_tags']))\n"
      ],
      "execution_count": null,
      "outputs": []
    },
    {
      "cell_type": "code",
      "metadata": {
        "id": "dRSUVqgIQ3Q9"
      },
      "source": [
        "df_test['vendor_tag_name'] = df_test['vendor_tag_name'].astype(object)\n",
        "df_test['vendor_tag_name'] = df_test['vendor_tag_name'].fillna('-99999') \n",
        "df_test['vendor_tag_name'] = df_test['vendor_tag_name'].apply(lambda x: x.split(','))\n",
        "df_test = df_test.join(pd.DataFrame(mlb.transform(df_test.pop('vendor_tag_name')),columns=mlb.classes_,index=df_test.index))"
      ],
      "execution_count": null,
      "outputs": []
    },
    {
      "cell_type": "code",
      "metadata": {
        "id": "AgPeDUClRTME",
        "colab": {
          "base_uri": "https://localhost:8080/",
          "height": 247
        },
        "outputId": "86f6de53-ede8-4c68-8402-dc1f132541b6"
      },
      "source": [
        " df_test.columns[175:300]"
      ],
      "execution_count": null,
      "outputs": [
        {
          "output_type": "execute_result",
          "data": {
            "text/plain": [
              "Index(['Primary_tag_cleaned', 'American', 'Arabic', 'Asian', 'Bagels',\n",
              "       'Biryani', 'Breakfast', 'Burgers', 'Cafe', 'Cakes', 'Chinese',\n",
              "       'Churros', 'Coffee', 'Combos', 'Crepes', 'Desserts', 'Dimsum', 'Donuts',\n",
              "       'Family Meal', 'Fatayers', 'Free Delivery', 'Fresh Juices', 'Fries',\n",
              "       'Frozen yoghurt', 'Grills', 'Healthy Food', 'Hot Chocolate', 'Hot Dogs',\n",
              "       'Ice creams', 'Indian', 'Italian', 'Japanese', 'Karak', 'Kebabs',\n",
              "       'Kids meal', 'Kushari', 'Lebanese', 'Manakeesh', 'Mandazi', 'Mexican',\n",
              "       'Milkshakes', 'Mishkak', 'Mojitos', 'Mojitos ', 'Omani', 'Organic',\n",
              "       'Pancakes', 'Pasta', 'Pastas', 'Pastry', 'Pizza', 'Pizzas', 'Rice',\n",
              "       'Rolls', 'Salads', 'Sandwiches', 'Seafood', 'Shawarma', 'Shuwa',\n",
              "       'Smoothies', 'Soups', 'Spanish Latte', 'Steaks', 'Sushi', 'Sweets',\n",
              "       'Thai', 'Thali', 'Vegetarian', 'Waffles', 'nan'],\n",
              "      dtype='object')"
            ]
          },
          "metadata": {
            "tags": []
          },
          "execution_count": 79
        }
      ]
    },
    {
      "cell_type": "code",
      "metadata": {
        "id": "kvlp90rSQ39Y"
      },
      "source": [
        "for i in df_test.columns[176:300]:\n",
        "    df_test[i] = df_test[i].astype('int8')"
      ],
      "execution_count": null,
      "outputs": []
    },
    {
      "cell_type": "code",
      "metadata": {
        "id": "ffv71bekQ7k-"
      },
      "source": [
        "df_test['Items_offered'] = 0\n",
        "for i in df_test.columns[176:300]:\n",
        "    df_test['Items_offered'] += df_test[i]"
      ],
      "execution_count": null,
      "outputs": []
    },
    {
      "cell_type": "code",
      "metadata": {
        "id": "wiNWVAHnQ7wu"
      },
      "source": [
        "cols_rem = ['primary_tags','vendor_tag']\n",
        "for i in cols_rem:\n",
        "    del df_test[i]"
      ],
      "execution_count": null,
      "outputs": []
    },
    {
      "cell_type": "code",
      "metadata": {
        "id": "Eo_7bR62RFfW"
      },
      "source": [],
      "execution_count": null,
      "outputs": []
    },
    {
      "cell_type": "code",
      "metadata": {
        "id": "lPtw16PDj02J"
      },
      "source": [
        "# # distrs = [get_distribution(y_train)]\n",
        "# splits=5\n",
        "# # index = ['training set']\n",
        "# groups = X_train['customer_id']\n",
        "# test_preds = np.zeros((len(df_test), 1))\n",
        "# holdout_preds = np.zeros((len(X_valid), 1))\n",
        "# final_preds = []\n",
        "# for fold_ind, (trn_idx, val_idx) in enumerate(stratified_group_k_fold(X_train, y_train, groups, k=splits)):\n",
        "#     print(\"Fold {}\".format(fold_ind))\n",
        "#     X_trn,y_trn = X_train.drop('customer_id',axis=1).iloc[trn_idx],y_train.iloc[trn_idx]\n",
        "#     X_val,y_val = X_train.drop('customer_id',axis=1).iloc[val_idx],y_train.iloc[val_idx]\n",
        "#     clf = lgb.LGBMClassifier(random_state=22,n_jobs=-1,n_estimators=2000,metric='custom',scale_pos_weight=1)\n",
        "#     clf.fit(X_trn, y_trn, eval_metric= evaluate_macroF1_lgb, eval_set=[(X_val,y_val)], verbose=True,early_stopping_rounds=500)\n",
        "#     final_preds.append(f1_score(y_pred=clf.predict(X_val),y_true=y_val))\n",
        "#     holdout_preds += clf.predict_proba(X_valid)[:,1].reshape(-1,1)\n",
        "#     test_preds += clf.predict_proba(df_test)[:,1].reshape(-1,1)\n",
        "#     del X_trn\n",
        "#     del X_val\n",
        "#     del y_trn\n",
        "#     del y_val\n",
        "#     del clf\n",
        "#     gc.collect()\n",
        "    \n",
        "# test_preds = test_preds/splits\n",
        "# print(sum(final_preds)/splits)"
      ],
      "execution_count": null,
      "outputs": []
    },
    {
      "cell_type": "code",
      "metadata": {
        "id": "X9byOt7gQqoM",
        "colab": {
          "base_uri": "https://localhost:8080/",
          "height": 34
        },
        "outputId": "52639936-7129-4d23-a2eb-0bf67f939816"
      },
      "source": [
        "# print(sum(final_preds)/splits)"
      ],
      "execution_count": null,
      "outputs": [
        {
          "output_type": "stream",
          "text": [
            "0.04020962769652551\n"
          ],
          "name": "stdout"
        }
      ]
    },
    {
      "cell_type": "code",
      "metadata": {
        "id": "bNAGnb6L0Wxs"
      },
      "source": [
        "# [:,1]"
      ],
      "execution_count": null,
      "outputs": []
    },
    {
      "cell_type": "code",
      "metadata": {
        "id": "9TA2M5o-J3HL"
      },
      "source": [
        "# from joblib import Parallel, delayed"
      ],
      "execution_count": null,
      "outputs": []
    },
    {
      "cell_type": "code",
      "metadata": {
        "id": "8zVl7cPi7lAj",
        "colab": {
          "base_uri": "https://localhost:8080/",
          "height": 52
        },
        "outputId": "d1e193c0-66d9-4b7a-8de9-5f217c514e53"
      },
      "source": [
        "# preds_val"
      ],
      "execution_count": null,
      "outputs": [
        {
          "output_type": "execute_result",
          "data": {
            "text/plain": [
              "array([0.08597234, 0.02327855, 0.0674927 , ..., 0.01715474, 0.05934787,\n",
              "       0.00037162])"
            ]
          },
          "metadata": {
            "tags": []
          },
          "execution_count": 287
        }
      ]
    },
    {
      "cell_type": "code",
      "metadata": {
        "id": "FShV0jthyR0I"
      },
      "source": [
        "# def get_f1_score(thresh):\n",
        "#   return f1_score(y_valid, (holdout_preds > thresh) * 1)"
      ],
      "execution_count": null,
      "outputs": []
    },
    {
      "cell_type": "code",
      "metadata": {
        "id": "RNKdZ0DAySwk"
      },
      "source": [
        "# thresholds = [thresh/1000 for thresh in range(80,200)]\n",
        "# f1_scores = Parallel(n_jobs = 4, backend='multiprocessing')(delayed(get_f1_score)(thresh) for thresh in thresholds)"
      ],
      "execution_count": null,
      "outputs": []
    },
    {
      "cell_type": "code",
      "metadata": {
        "id": "scPwvpDsNTUK"
      },
      "source": [],
      "execution_count": null,
      "outputs": []
    },
    {
      "cell_type": "code",
      "metadata": {
        "id": "AOTtTVOryTBA"
      },
      "source": [
        "# f1_scores_ser = pd.Series(index = thresholds, data = f1_scores)\n",
        "# f1_scores_ser.sort_values(ascending=False).head(10)\n",
        "# best_thresh = f1_scores_ser.idxmax()"
      ],
      "execution_count": null,
      "outputs": []
    },
    {
      "cell_type": "code",
      "metadata": {
        "id": "UhkPbb4d4J19",
        "colab": {
          "base_uri": "https://localhost:8080/",
          "height": 34
        },
        "outputId": "67b5567e-0856-4ef0-a0d3-fa4826d20870"
      },
      "source": [
        "# best_thresh"
      ],
      "execution_count": null,
      "outputs": [
        {
          "output_type": "execute_result",
          "data": {
            "text/plain": [
              "0.199"
            ]
          },
          "metadata": {
            "tags": []
          },
          "execution_count": 90
        }
      ]
    },
    {
      "cell_type": "code",
      "metadata": {
        "id": "XTVPugjT585T"
      },
      "source": [
        "# f1_scores_ser"
      ],
      "execution_count": null,
      "outputs": []
    },
    {
      "cell_type": "code",
      "metadata": {
        "id": "cvcKi6rz04M9",
        "colab": {
          "base_uri": "https://localhost:8080/",
          "height": 212
        },
        "outputId": "d482a348-9572-4d34-a9ee-44a76ffbce3b"
      },
      "source": [
        "# f1_scores_ser.sort_values(ascending=False).head(10)"
      ],
      "execution_count": null,
      "outputs": [
        {
          "output_type": "execute_result",
          "data": {
            "text/plain": [
              "0.199    0.168571\n",
              "0.198    0.168227\n",
              "0.197    0.167774\n",
              "0.196    0.167347\n",
              "0.195    0.166977\n",
              "0.194    0.166558\n",
              "0.193    0.166168\n",
              "0.192    0.165736\n",
              "0.191    0.165437\n",
              "0.190    0.165094\n",
              "dtype: float64"
            ]
          },
          "metadata": {
            "tags": []
          },
          "execution_count": 91
        }
      ]
    },
    {
      "cell_type": "code",
      "metadata": {
        "id": "vw7PPyqs0oXu",
        "colab": {
          "base_uri": "https://localhost:8080/",
          "height": 34
        },
        "outputId": "11a25bb4-9d93-4fd0-f085-8e2e21cb23d6"
      },
      "source": [
        "# best_thresh"
      ],
      "execution_count": null,
      "outputs": [
        {
          "output_type": "execute_result",
          "data": {
            "text/plain": [
              "0.395"
            ]
          },
          "metadata": {
            "tags": []
          },
          "execution_count": 120
        }
      ]
    },
    {
      "cell_type": "code",
      "metadata": {
        "id": "rA7IRpzyyERP"
      },
      "source": [
        "# preds = [np.argmax(x) for x in predictions/5]"
      ],
      "execution_count": null,
      "outputs": []
    },
    {
      "cell_type": "code",
      "metadata": {
        "id": "bHPdGBlbRnWI",
        "colab": {
          "base_uri": "https://localhost:8080/",
          "height": 34
        },
        "outputId": "f7e718ca-25a6-410d-cae1-bc4f489584c6"
      },
      "source": [
        "# print(f1_score(y_pred=preds,y_true=y_valid))"
      ],
      "execution_count": null,
      "outputs": [
        {
          "output_type": "stream",
          "text": [
            "0.03403741701870851\n"
          ],
          "name": "stdout"
        }
      ]
    },
    {
      "cell_type": "code",
      "metadata": {
        "id": "ensgL1YSVo2a"
      },
      "source": [],
      "execution_count": null,
      "outputs": []
    },
    {
      "cell_type": "code",
      "metadata": {
        "id": "Ocl5MCLXRftf"
      },
      "source": [
        "# with open('karan_holdout_nospw.pkl','wb') as f:\n",
        "#   pickle.dump(predictions,f)"
      ],
      "execution_count": null,
      "outputs": []
    },
    {
      "cell_type": "code",
      "metadata": {
        "id": "2LurzVQWFL6C"
      },
      "source": [
        "# del X_train['customer_id']"
      ],
      "execution_count": null,
      "outputs": []
    },
    {
      "cell_type": "code",
      "metadata": {
        "id": "bJdtvBLLpcmI",
        "colab": {
          "base_uri": "https://localhost:8080/",
          "height": 70
        },
        "outputId": "87bf15c5-9616-4e1f-8b5d-2aec8f91dece"
      },
      "source": [
        "# y_train.value_counts()"
      ],
      "execution_count": null,
      "outputs": [
        {
          "output_type": "execute_result",
          "data": {
            "text/plain": [
              "0    4689825\n",
              "1      64075\n",
              "Name: target, dtype: int64"
            ]
          },
          "metadata": {
            "tags": []
          },
          "execution_count": 93
        }
      ]
    },
    {
      "cell_type": "code",
      "metadata": {
        "id": "qhzgoqXuphX2",
        "colab": {
          "base_uri": "https://localhost:8080/",
          "height": 34
        },
        "outputId": "43b23352-ce13-4b34-95d1-d63733b882ff"
      },
      "source": [
        "4689825/64075"
      ],
      "execution_count": null,
      "outputs": [
        {
          "output_type": "execute_result",
          "data": {
            "text/plain": [
              "73.19274287943816"
            ]
          },
          "metadata": {
            "tags": []
          },
          "execution_count": 94
        }
      ]
    },
    {
      "cell_type": "code",
      "metadata": {
        "id": "-3zs2Chf1kzf"
      },
      "source": [
        "# X_train = X_train.drop(['cust+id_le','cust+loc_le','cust+vendor_le'],axis=1)\n",
        "# X_valid = X_valid.drop(['cust+id_le','cust+loc_le','cust+vendor_le'],axis=1)"
      ],
      "execution_count": null,
      "outputs": []
    },
    {
      "cell_type": "code",
      "metadata": {
        "id": "wO1gnZC8-QC8"
      },
      "source": [],
      "execution_count": null,
      "outputs": []
    },
    {
      "cell_type": "code",
      "metadata": {
        "id": "LQs3vjvf3D9O"
      },
      "source": [
        "# X_train = X_train.drop(['lon+lat_le','loc+id+vendor_le','id+vendor_le','vendor+loc_le'],axis=1)\n",
        "# X_valid = X_valid.drop(['lon+lat_le','loc+id+vendor_le','id+vendor_le','vendor+loc_le'],axis=1)"
      ],
      "execution_count": null,
      "outputs": []
    },
    {
      "cell_type": "code",
      "metadata": {
        "id": "ymBpYdNMTG4T"
      },
      "source": [
        "# nmf_cols = df_feats_nmf.columns"
      ],
      "execution_count": null,
      "outputs": []
    },
    {
      "cell_type": "code",
      "metadata": {
        "id": "q_pbwHFhsxHO"
      },
      "source": [
        "del X_train['customer_id']"
      ],
      "execution_count": null,
      "outputs": []
    },
    {
      "cell_type": "code",
      "metadata": {
        "id": "DJ9iZKmVUksx",
        "colab": {
          "base_uri": "https://localhost:8080/",
          "height": 310
        },
        "outputId": "565b2f7b-2c9a-4ab2-9362-84c8e0d25386"
      },
      "source": [
        "from rfpimp import *"
      ],
      "execution_count": null,
      "outputs": [
        {
          "output_type": "error",
          "ename": "ModuleNotFoundError",
          "evalue": "ignored",
          "traceback": [
            "\u001b[0;31m---------------------------------------------------------------------------\u001b[0m",
            "\u001b[0;31mModuleNotFoundError\u001b[0m                       Traceback (most recent call last)",
            "\u001b[0;32m<ipython-input-76-87e4cbb0d92b>\u001b[0m in \u001b[0;36m<module>\u001b[0;34m()\u001b[0m\n\u001b[0;32m----> 1\u001b[0;31m \u001b[0;32mfrom\u001b[0m \u001b[0mrfpimp\u001b[0m \u001b[0;32mimport\u001b[0m \u001b[0;34m*\u001b[0m\u001b[0;34m\u001b[0m\u001b[0;34m\u001b[0m\u001b[0m\n\u001b[0m",
            "\u001b[0;31mModuleNotFoundError\u001b[0m: No module named 'rfpimp'",
            "",
            "\u001b[0;31m---------------------------------------------------------------------------\u001b[0;32m\nNOTE: If your import is failing due to a missing package, you can\nmanually install dependencies using either !pip or !apt.\n\nTo view examples of installing some common dependencies, click the\n\"Open Examples\" button below.\n\u001b[0;31m---------------------------------------------------------------------------\u001b[0m\n"
          ]
        }
      ]
    },
    {
      "cell_type": "code",
      "metadata": {
        "id": "uOW0lDOxTUYM"
      },
      "source": [
        "# X_train.drop(nmf_cols,axis=1)"
      ],
      "execution_count": null,
      "outputs": []
    },
    {
      "cell_type": "code",
      "metadata": {
        "id": "rog4nC9VAm_L",
        "colab": {
          "base_uri": "https://localhost:8080/",
          "height": 141
        },
        "outputId": "1d1045bf-bd3b-4018-bea3-02aae9fe5a3d"
      },
      "source": [
        "m =  lgb.LGBMClassifier(random_state=22,n_estimators=100,scale_pos_weight=8.55)\n",
        "m.fit(X_train[cols_imp],y_train)"
      ],
      "execution_count": null,
      "outputs": [
        {
          "output_type": "execute_result",
          "data": {
            "text/plain": [
              "LGBMClassifier(boosting_type='gbdt', class_weight=None, colsample_bytree=1.0,\n",
              "               importance_type='split', learning_rate=0.1, max_depth=-1,\n",
              "               min_child_samples=20, min_child_weight=0.001, min_split_gain=0.0,\n",
              "               n_estimators=100, n_jobs=-1, num_leaves=31, objective=None,\n",
              "               random_state=22, reg_alpha=0.0, reg_lambda=0.0,\n",
              "               scale_pos_weight=8.55, silent=True, subsample=1.0,\n",
              "               subsample_for_bin=200000, subsample_freq=0)"
            ]
          },
          "metadata": {
            "tags": []
          },
          "execution_count": 80
        }
      ]
    },
    {
      "cell_type": "code",
      "metadata": {
        "id": "rK0XlvayCXZd"
      },
      "source": [],
      "execution_count": null,
      "outputs": []
    },
    {
      "cell_type": "code",
      "metadata": {
        "id": "C7M7lqeyCXRH"
      },
      "source": [
        "# del X_valid['customer_id']"
      ],
      "execution_count": null,
      "outputs": []
    },
    {
      "cell_type": "code",
      "metadata": {
        "id": "zJFic40-AoOE"
      },
      "source": [
        "preds = m.predict(X_valid[cols_imp])"
      ],
      "execution_count": null,
      "outputs": []
    },
    {
      "cell_type": "code",
      "metadata": {
        "id": "LCD0PHdJU-mX",
        "colab": {
          "base_uri": "https://localhost:8080/",
          "height": 316
        },
        "outputId": "3260dd00-2d45-4190-9e3b-5095c240818f"
      },
      "source": [
        "# imp = importances(m,X_valid,y_valid)"
      ],
      "execution_count": null,
      "outputs": [
        {
          "output_type": "error",
          "ename": "ValueError",
          "evalue": "ignored",
          "traceback": [
            "\u001b[0;31m---------------------------------------------------------------------------\u001b[0m",
            "\u001b[0;31mValueError\u001b[0m                                Traceback (most recent call last)",
            "\u001b[0;32m<ipython-input-77-82c82214650d>\u001b[0m in \u001b[0;36m<module>\u001b[0;34m()\u001b[0m\n\u001b[0;32m----> 1\u001b[0;31m \u001b[0mimp\u001b[0m \u001b[0;34m=\u001b[0m \u001b[0mimportances\u001b[0m\u001b[0;34m(\u001b[0m\u001b[0mm\u001b[0m\u001b[0;34m,\u001b[0m\u001b[0mX_valid\u001b[0m\u001b[0;34m,\u001b[0m\u001b[0my_valid\u001b[0m\u001b[0;34m)\u001b[0m\u001b[0;34m\u001b[0m\u001b[0;34m\u001b[0m\u001b[0m\n\u001b[0m",
            "\u001b[0;32m/usr/local/lib/python3.6/dist-packages/rfpimp.py\u001b[0m in \u001b[0;36mimportances\u001b[0;34m(model, X_valid, y_valid, features, n_samples, sort, metric, sample_weights)\u001b[0m\n\u001b[1;32m    157\u001b[0m                 \u001b[0mm\u001b[0m \u001b[0;34m=\u001b[0m \u001b[0mmetric\u001b[0m\u001b[0;34m(\u001b[0m\u001b[0mmodel\u001b[0m\u001b[0;34m,\u001b[0m \u001b[0mX_valid\u001b[0m\u001b[0;34m,\u001b[0m \u001b[0my_valid\u001b[0m\u001b[0;34m,\u001b[0m \u001b[0msample_weights\u001b[0m\u001b[0;34m)\u001b[0m\u001b[0;34m\u001b[0m\u001b[0;34m\u001b[0m\u001b[0m\n\u001b[1;32m    158\u001b[0m             \u001b[0;32melse\u001b[0m\u001b[0;34m:\u001b[0m\u001b[0;34m\u001b[0m\u001b[0;34m\u001b[0m\u001b[0m\n\u001b[0;32m--> 159\u001b[0;31m                 \u001b[0mm\u001b[0m \u001b[0;34m=\u001b[0m \u001b[0mmodel\u001b[0m\u001b[0;34m.\u001b[0m\u001b[0mscore\u001b[0m\u001b[0;34m(\u001b[0m\u001b[0mX_valid\u001b[0m\u001b[0;34m,\u001b[0m \u001b[0my_valid\u001b[0m\u001b[0;34m,\u001b[0m \u001b[0msample_weights\u001b[0m\u001b[0;34m)\u001b[0m\u001b[0;34m\u001b[0m\u001b[0;34m\u001b[0m\u001b[0m\n\u001b[0m\u001b[1;32m    160\u001b[0m             \u001b[0mX_valid\u001b[0m\u001b[0;34m[\u001b[0m\u001b[0mgroup\u001b[0m\u001b[0;34m]\u001b[0m \u001b[0;34m=\u001b[0m \u001b[0msave\u001b[0m\u001b[0;34m\u001b[0m\u001b[0;34m\u001b[0m\u001b[0m\n\u001b[1;32m    161\u001b[0m         \u001b[0;32melse\u001b[0m\u001b[0;34m:\u001b[0m\u001b[0;34m\u001b[0m\u001b[0;34m\u001b[0m\u001b[0m\n",
            "\u001b[0;32m/usr/local/lib/python3.6/dist-packages/sklearn/base.py\u001b[0m in \u001b[0;36mscore\u001b[0;34m(self, X, y, sample_weight)\u001b[0m\n\u001b[1;32m    367\u001b[0m         \"\"\"\n\u001b[1;32m    368\u001b[0m         \u001b[0;32mfrom\u001b[0m \u001b[0;34m.\u001b[0m\u001b[0mmetrics\u001b[0m \u001b[0;32mimport\u001b[0m \u001b[0maccuracy_score\u001b[0m\u001b[0;34m\u001b[0m\u001b[0;34m\u001b[0m\u001b[0m\n\u001b[0;32m--> 369\u001b[0;31m         \u001b[0;32mreturn\u001b[0m \u001b[0maccuracy_score\u001b[0m\u001b[0;34m(\u001b[0m\u001b[0my\u001b[0m\u001b[0;34m,\u001b[0m \u001b[0mself\u001b[0m\u001b[0;34m.\u001b[0m\u001b[0mpredict\u001b[0m\u001b[0;34m(\u001b[0m\u001b[0mX\u001b[0m\u001b[0;34m)\u001b[0m\u001b[0;34m,\u001b[0m \u001b[0msample_weight\u001b[0m\u001b[0;34m=\u001b[0m\u001b[0msample_weight\u001b[0m\u001b[0;34m)\u001b[0m\u001b[0;34m\u001b[0m\u001b[0;34m\u001b[0m\u001b[0m\n\u001b[0m\u001b[1;32m    370\u001b[0m \u001b[0;34m\u001b[0m\u001b[0m\n\u001b[1;32m    371\u001b[0m \u001b[0;34m\u001b[0m\u001b[0m\n",
            "\u001b[0;32m/usr/local/lib/python3.6/dist-packages/lightgbm/sklearn.py\u001b[0m in \u001b[0;36mpredict\u001b[0;34m(self, X, raw_score, num_iteration, pred_leaf, pred_contrib, **kwargs)\u001b[0m\n\u001b[1;32m    751\u001b[0m         \u001b[0;34m\"\"\"Docstring is inherited from the LGBMModel.\"\"\"\u001b[0m\u001b[0;34m\u001b[0m\u001b[0;34m\u001b[0m\u001b[0m\n\u001b[1;32m    752\u001b[0m         result = self.predict_proba(X, raw_score, num_iteration,\n\u001b[0;32m--> 753\u001b[0;31m                                     pred_leaf, pred_contrib, **kwargs)\n\u001b[0m\u001b[1;32m    754\u001b[0m         \u001b[0;32mif\u001b[0m \u001b[0mraw_score\u001b[0m \u001b[0;32mor\u001b[0m \u001b[0mpred_leaf\u001b[0m \u001b[0;32mor\u001b[0m \u001b[0mpred_contrib\u001b[0m\u001b[0;34m:\u001b[0m\u001b[0;34m\u001b[0m\u001b[0;34m\u001b[0m\u001b[0m\n\u001b[1;32m    755\u001b[0m             \u001b[0;32mreturn\u001b[0m \u001b[0mresult\u001b[0m\u001b[0;34m\u001b[0m\u001b[0;34m\u001b[0m\u001b[0m\n",
            "\u001b[0;32m/usr/local/lib/python3.6/dist-packages/lightgbm/sklearn.py\u001b[0m in \u001b[0;36mpredict_proba\u001b[0;34m(self, X, raw_score, num_iteration, pred_leaf, pred_contrib, **kwargs)\u001b[0m\n\u001b[1;32m    798\u001b[0m         \"\"\"\n\u001b[1;32m    799\u001b[0m         result = super(LGBMClassifier, self).predict(X, raw_score, num_iteration,\n\u001b[0;32m--> 800\u001b[0;31m                                                      pred_leaf, pred_contrib, **kwargs)\n\u001b[0m\u001b[1;32m    801\u001b[0m         \u001b[0;32mif\u001b[0m \u001b[0mself\u001b[0m\u001b[0;34m.\u001b[0m\u001b[0m_n_classes\u001b[0m \u001b[0;34m>\u001b[0m \u001b[0;36m2\u001b[0m \u001b[0;32mor\u001b[0m \u001b[0mraw_score\u001b[0m \u001b[0;32mor\u001b[0m \u001b[0mpred_leaf\u001b[0m \u001b[0;32mor\u001b[0m \u001b[0mpred_contrib\u001b[0m\u001b[0;34m:\u001b[0m\u001b[0;34m\u001b[0m\u001b[0;34m\u001b[0m\u001b[0m\n\u001b[1;32m    802\u001b[0m             \u001b[0;32mreturn\u001b[0m \u001b[0mresult\u001b[0m\u001b[0;34m\u001b[0m\u001b[0;34m\u001b[0m\u001b[0m\n",
            "\u001b[0;32m/usr/local/lib/python3.6/dist-packages/lightgbm/sklearn.py\u001b[0m in \u001b[0;36mpredict\u001b[0;34m(self, X, raw_score, num_iteration, pred_leaf, pred_contrib, **kwargs)\u001b[0m\n\u001b[1;32m    605\u001b[0m                              % (self._n_features, n_features))\n\u001b[1;32m    606\u001b[0m         return self.booster_.predict(X, raw_score=raw_score, num_iteration=num_iteration,\n\u001b[0;32m--> 607\u001b[0;31m                                      pred_leaf=pred_leaf, pred_contrib=pred_contrib, **kwargs)\n\u001b[0m\u001b[1;32m    608\u001b[0m \u001b[0;34m\u001b[0m\u001b[0m\n\u001b[1;32m    609\u001b[0m     \u001b[0;34m@\u001b[0m\u001b[0mproperty\u001b[0m\u001b[0;34m\u001b[0m\u001b[0;34m\u001b[0m\u001b[0m\n",
            "\u001b[0;32m/usr/local/lib/python3.6/dist-packages/lightgbm/basic.py\u001b[0m in \u001b[0;36mpredict\u001b[0;34m(self, data, num_iteration, raw_score, pred_leaf, pred_contrib, data_has_header, is_reshape, **kwargs)\u001b[0m\n\u001b[1;32m   2201\u001b[0m         return predictor.predict(data, num_iteration,\n\u001b[1;32m   2202\u001b[0m                                  \u001b[0mraw_score\u001b[0m\u001b[0;34m,\u001b[0m \u001b[0mpred_leaf\u001b[0m\u001b[0;34m,\u001b[0m \u001b[0mpred_contrib\u001b[0m\u001b[0;34m,\u001b[0m\u001b[0;34m\u001b[0m\u001b[0;34m\u001b[0m\u001b[0m\n\u001b[0;32m-> 2203\u001b[0;31m                                  data_has_header, is_reshape)\n\u001b[0m\u001b[1;32m   2204\u001b[0m \u001b[0;34m\u001b[0m\u001b[0m\n\u001b[1;32m   2205\u001b[0m     \u001b[0;32mdef\u001b[0m \u001b[0mrefit\u001b[0m\u001b[0;34m(\u001b[0m\u001b[0mself\u001b[0m\u001b[0;34m,\u001b[0m \u001b[0mdata\u001b[0m\u001b[0;34m,\u001b[0m \u001b[0mlabel\u001b[0m\u001b[0;34m,\u001b[0m \u001b[0mdecay_rate\u001b[0m\u001b[0;34m=\u001b[0m\u001b[0;36m0.9\u001b[0m\u001b[0;34m,\u001b[0m \u001b[0;34m**\u001b[0m\u001b[0mkwargs\u001b[0m\u001b[0;34m)\u001b[0m\u001b[0;34m:\u001b[0m\u001b[0;34m\u001b[0m\u001b[0;34m\u001b[0m\u001b[0m\n",
            "\u001b[0;32m/usr/local/lib/python3.6/dist-packages/lightgbm/basic.py\u001b[0m in \u001b[0;36mpredict\u001b[0;34m(self, data, num_iteration, raw_score, pred_leaf, pred_contrib, data_has_header, is_reshape)\u001b[0m\n\u001b[1;32m    434\u001b[0m         \u001b[0;32mif\u001b[0m \u001b[0misinstance\u001b[0m\u001b[0;34m(\u001b[0m\u001b[0mdata\u001b[0m\u001b[0;34m,\u001b[0m \u001b[0mDataset\u001b[0m\u001b[0;34m)\u001b[0m\u001b[0;34m:\u001b[0m\u001b[0;34m\u001b[0m\u001b[0;34m\u001b[0m\u001b[0m\n\u001b[1;32m    435\u001b[0m             \u001b[0;32mraise\u001b[0m \u001b[0mTypeError\u001b[0m\u001b[0;34m(\u001b[0m\u001b[0;34m\"Cannot use Dataset instance for prediction, please use raw data instead\"\u001b[0m\u001b[0;34m)\u001b[0m\u001b[0;34m\u001b[0m\u001b[0;34m\u001b[0m\u001b[0m\n\u001b[0;32m--> 436\u001b[0;31m         \u001b[0mdata\u001b[0m \u001b[0;34m=\u001b[0m \u001b[0m_data_from_pandas\u001b[0m\u001b[0;34m(\u001b[0m\u001b[0mdata\u001b[0m\u001b[0;34m,\u001b[0m \u001b[0;32mNone\u001b[0m\u001b[0;34m,\u001b[0m \u001b[0;32mNone\u001b[0m\u001b[0;34m,\u001b[0m \u001b[0mself\u001b[0m\u001b[0;34m.\u001b[0m\u001b[0mpandas_categorical\u001b[0m\u001b[0;34m)\u001b[0m\u001b[0;34m[\u001b[0m\u001b[0;36m0\u001b[0m\u001b[0;34m]\u001b[0m\u001b[0;34m\u001b[0m\u001b[0;34m\u001b[0m\u001b[0m\n\u001b[0m\u001b[1;32m    437\u001b[0m         \u001b[0mpredict_type\u001b[0m \u001b[0;34m=\u001b[0m \u001b[0mC_API_PREDICT_NORMAL\u001b[0m\u001b[0;34m\u001b[0m\u001b[0;34m\u001b[0m\u001b[0m\n\u001b[1;32m    438\u001b[0m         \u001b[0;32mif\u001b[0m \u001b[0mraw_score\u001b[0m\u001b[0;34m:\u001b[0m\u001b[0;34m\u001b[0m\u001b[0;34m\u001b[0m\u001b[0m\n",
            "\u001b[0;32m/usr/local/lib/python3.6/dist-packages/lightgbm/basic.py\u001b[0m in \u001b[0;36m_data_from_pandas\u001b[0;34m(data, feature_name, categorical_feature, pandas_categorical)\u001b[0m\n\u001b[1;32m    252\u001b[0m         \u001b[0;32melse\u001b[0m\u001b[0;34m:\u001b[0m\u001b[0;34m\u001b[0m\u001b[0;34m\u001b[0m\u001b[0m\n\u001b[1;32m    253\u001b[0m             \u001b[0;32mif\u001b[0m \u001b[0mlen\u001b[0m\u001b[0;34m(\u001b[0m\u001b[0mcat_cols\u001b[0m\u001b[0;34m)\u001b[0m \u001b[0;34m!=\u001b[0m \u001b[0mlen\u001b[0m\u001b[0;34m(\u001b[0m\u001b[0mpandas_categorical\u001b[0m\u001b[0;34m)\u001b[0m\u001b[0;34m:\u001b[0m\u001b[0;34m\u001b[0m\u001b[0;34m\u001b[0m\u001b[0m\n\u001b[0;32m--> 254\u001b[0;31m                 \u001b[0;32mraise\u001b[0m \u001b[0mValueError\u001b[0m\u001b[0;34m(\u001b[0m\u001b[0;34m'train and valid dataset categorical_feature do not match.'\u001b[0m\u001b[0;34m)\u001b[0m\u001b[0;34m\u001b[0m\u001b[0;34m\u001b[0m\u001b[0m\n\u001b[0m\u001b[1;32m    255\u001b[0m             \u001b[0;32mfor\u001b[0m \u001b[0mcol\u001b[0m\u001b[0;34m,\u001b[0m \u001b[0mcategory\u001b[0m \u001b[0;32min\u001b[0m \u001b[0mzip_\u001b[0m\u001b[0;34m(\u001b[0m\u001b[0mcat_cols\u001b[0m\u001b[0;34m,\u001b[0m \u001b[0mpandas_categorical\u001b[0m\u001b[0;34m)\u001b[0m\u001b[0;34m:\u001b[0m\u001b[0;34m\u001b[0m\u001b[0;34m\u001b[0m\u001b[0m\n\u001b[1;32m    256\u001b[0m                 \u001b[0;32mif\u001b[0m \u001b[0mlist\u001b[0m\u001b[0;34m(\u001b[0m\u001b[0mdata\u001b[0m\u001b[0;34m[\u001b[0m\u001b[0mcol\u001b[0m\u001b[0;34m]\u001b[0m\u001b[0;34m.\u001b[0m\u001b[0mcat\u001b[0m\u001b[0;34m.\u001b[0m\u001b[0mcategories\u001b[0m\u001b[0;34m)\u001b[0m \u001b[0;34m!=\u001b[0m \u001b[0mlist\u001b[0m\u001b[0;34m(\u001b[0m\u001b[0mcategory\u001b[0m\u001b[0;34m)\u001b[0m\u001b[0;34m:\u001b[0m\u001b[0;34m\u001b[0m\u001b[0;34m\u001b[0m\u001b[0m\n",
            "\u001b[0;31mValueError\u001b[0m: train and valid dataset categorical_feature do not match."
          ]
        }
      ]
    },
    {
      "cell_type": "code",
      "metadata": {
        "id": "_0Mj2k3wCg8J",
        "colab": {
          "base_uri": "https://localhost:8080/",
          "height": 34
        },
        "outputId": "868bedad-50ee-4429-e152-d7d8c5fa7515"
      },
      "source": [
        "print(f1_score(y_pred=preds,y_true=y_valid))"
      ],
      "execution_count": null,
      "outputs": [
        {
          "output_type": "stream",
          "text": [
            "0.2270697674418605\n"
          ],
          "name": "stdout"
        }
      ]
    },
    {
      "cell_type": "code",
      "metadata": {
        "id": "0QOf72F3CSxI"
      },
      "source": [
        "# thresholds = [thresh/1000 for thresh in range(1,200)]\n",
        "# f1_scores = Parallel(n_jobs = 4, backend='multiprocessing')(delayed(get_f1_score)(thresh) for thresh in thresholds)"
      ],
      "execution_count": null,
      "outputs": []
    },
    {
      "cell_type": "code",
      "metadata": {
        "id": "In2MX2hgCeRD"
      },
      "source": [
        "# f1_scores_ser = pd.Series(index = thresholds, data = f1_scores)\n",
        "# f1_scores_ser.sort_values(ascending=False).head(10)\n",
        "# best_thresh = f1_scores_ser.idxmax()"
      ],
      "execution_count": null,
      "outputs": []
    },
    {
      "cell_type": "code",
      "metadata": {
        "id": "OlDot51aDZLR",
        "colab": {
          "base_uri": "https://localhost:8080/",
          "height": 34
        },
        "outputId": "0c59d1e4-7b00-42af-a185-190fd0ef24d2"
      },
      "source": [
        "# best_thresh"
      ],
      "execution_count": null,
      "outputs": [
        {
          "output_type": "execute_result",
          "data": {
            "text/plain": [
              "0.118"
            ]
          },
          "metadata": {
            "tags": []
          },
          "execution_count": 198
        }
      ]
    },
    {
      "cell_type": "code",
      "metadata": {
        "id": "IGDat5jRDcMl",
        "colab": {
          "base_uri": "https://localhost:8080/",
          "height": 212
        },
        "outputId": "444600e9-2749-4180-c420-0fe785303ef8"
      },
      "source": [
        "# f1_scores_ser.sort_values(ascending=False).head(10)"
      ],
      "execution_count": null,
      "outputs": [
        {
          "output_type": "execute_result",
          "data": {
            "text/plain": [
              "0.118    0.237180\n",
              "0.116    0.236890\n",
              "0.120    0.236823\n",
              "0.117    0.236803\n",
              "0.119    0.236780\n",
              "0.121    0.236773\n",
              "0.122    0.236715\n",
              "0.124    0.236700\n",
              "0.111    0.236685\n",
              "0.110    0.236654\n",
              "dtype: float64"
            ]
          },
          "metadata": {
            "tags": []
          },
          "execution_count": 199
        }
      ]
    },
    {
      "cell_type": "code",
      "metadata": {
        "id": "22rF0eFdAoRC",
        "colab": {
          "base_uri": "https://localhost:8080/",
          "height": 34
        },
        "outputId": "9bd86495-b7c0-4f0e-a5bd-be3e0f02f58c"
      },
      "source": [
        "len(cols_imp)"
      ],
      "execution_count": null,
      "outputs": [
        {
          "output_type": "execute_result",
          "data": {
            "text/plain": [
              "95"
            ]
          },
          "metadata": {
            "tags": []
          },
          "execution_count": 85
        }
      ]
    },
    {
      "cell_type": "code",
      "metadata": {
        "id": "vUbYCcPy64qn",
        "colab": {
          "base_uri": "https://localhost:8080/",
          "height": 167
        },
        "outputId": "ee0357ea-593f-4f0a-ee78-f74e932a3f44"
      },
      "source": [
        "z"
      ],
      "execution_count": null,
      "outputs": [
        {
          "output_type": "error",
          "ename": "NameError",
          "evalue": "ignored",
          "traceback": [
            "\u001b[0;31m---------------------------------------------------------------------------\u001b[0m",
            "\u001b[0;31mNameError\u001b[0m                                 Traceback (most recent call last)",
            "\u001b[0;32m<ipython-input-146-3a710d2a84f8>\u001b[0m in \u001b[0;36m<module>\u001b[0;34m()\u001b[0m\n\u001b[0;32m----> 1\u001b[0;31m \u001b[0mz\u001b[0m\u001b[0;34m\u001b[0m\u001b[0;34m\u001b[0m\u001b[0m\n\u001b[0m",
            "\u001b[0;31mNameError\u001b[0m: name 'z' is not defined"
          ]
        }
      ]
    },
    {
      "cell_type": "code",
      "metadata": {
        "id": "5Mh1i3MnS8Lm"
      },
      "source": [
        "feature_imp = pd.DataFrame(sorted(zip(m.feature_importances_,X_valid.columns)), columns=['Value','Feature'])"
      ],
      "execution_count": null,
      "outputs": []
    },
    {
      "cell_type": "code",
      "metadata": {
        "id": "8zzj-De1hXiJ"
      },
      "source": [
        "feats_imp = feature_imp.sort_values(by='Value',ascending=False)"
      ],
      "execution_count": null,
      "outputs": []
    },
    {
      "cell_type": "code",
      "metadata": {
        "id": "69L1RbzUYcrG"
      },
      "source": [
        "cols_imp = feats_imp[feats_imp['Value'] > 0]['Feature'].to_list()"
      ],
      "execution_count": null,
      "outputs": []
    },
    {
      "cell_type": "code",
      "metadata": {
        "id": "S3xVNtKNYng5"
      },
      "source": [
        "# with open('/content/drive/My Drive/Akeed_Correct/best_base_feats.pkl','wb') as f:\n",
        "#   pickle.dump(cols_imp,f)"
      ],
      "execution_count": null,
      "outputs": []
    },
    {
      "cell_type": "code",
      "metadata": {
        "id": "HYwGhKhhz2_C"
      },
      "source": [
        "# del df_test\n",
        "# del X_train\n",
        "# del X_valid"
      ],
      "execution_count": null,
      "outputs": []
    },
    {
      "cell_type": "code",
      "metadata": {
        "id": "3e_5_QVP6pkV"
      },
      "source": [
        "# encoding = df_test.groupby('cust+id_le').size()\n",
        "# encoding = encoding/len(df_test)\n",
        "# df_test['enc_cust+id'] = df_test['cust+id_le'].map(encoding)\n",
        "# encoding = df_test.groupby('cust+loc_le').size()\n",
        "# encoding = encoding/len(df_test)\n",
        "# df_test['enc_cust+loc'] = df_test['cust+loc_le'].map(encoding)\n",
        "# encoding = df_test.groupby('cust+vendor_le').size()\n",
        "# encoding = encoding/len(df_test)\n",
        "# df_test['enc_cust+vendor'] = df_test['cust+vendor_le'].map(encoding)"
      ],
      "execution_count": null,
      "outputs": []
    },
    {
      "cell_type": "code",
      "metadata": {
        "id": "qvsSBs6NhdYe",
        "colab": {
          "base_uri": "https://localhost:8080/",
          "height": 34
        },
        "outputId": "a45d6477-ad3c-479e-dcfe-bff5bfef12f3"
      },
      "source": [
        "gc.collect()"
      ],
      "execution_count": null,
      "outputs": [
        {
          "output_type": "execute_result",
          "data": {
            "text/plain": [
              "141"
            ]
          },
          "metadata": {
            "tags": []
          },
          "execution_count": 149
        }
      ]
    },
    {
      "cell_type": "code",
      "metadata": {
        "id": "BqnS0ofhYNlB"
      },
      "source": [
        "df_test['Primary_tag_cleaned'] = df_test['primary_tags'].apply(lambda x: eval(eval(x)['primary_tags']))"
      ],
      "execution_count": null,
      "outputs": []
    },
    {
      "cell_type": "code",
      "metadata": {
        "id": "cFGPkVkMYcu_"
      },
      "source": [
        "# df_test = df_test.drop(['cust+id_le','cust+loc_le','cust+vendor_le','lon+lat_le','loc+id+vendor_le','id+vendor_le','vendor+loc_le'],axis=1)"
      ],
      "execution_count": null,
      "outputs": []
    },
    {
      "cell_type": "code",
      "metadata": {
        "id": "DGikMc9Zz5LS"
      },
      "source": [
        "df_test['vendor_tag_name'] = df_test['vendor_tag_name'].astype(object)\n",
        "df_test['vendor_tag_name'] = df_test['vendor_tag_name'].fillna('-99999') \n",
        "df_test['vendor_tag_name'] = df_test['vendor_tag_name'].apply(lambda x: x.split(','))\n",
        "df_test = df_test.join(pd.DataFrame(mlb.transform(df_test.pop('vendor_tag_name')),columns=mlb.classes_,index=df_test.index))"
      ],
      "execution_count": null,
      "outputs": []
    },
    {
      "cell_type": "code",
      "metadata": {
        "id": "QbGFlUaT3G7Q",
        "colab": {
          "base_uri": "https://localhost:8080/",
          "height": 247
        },
        "outputId": "8e981ff9-689e-4da0-e1e4-a02229e0b7fe"
      },
      "source": [
        "df_test.columns[165:300]"
      ],
      "execution_count": null,
      "outputs": [
        {
          "output_type": "execute_result",
          "data": {
            "text/plain": [
              "Index(['_nmf_9', 'Primary_tag_cleaned', 'American', 'Arabic', 'Asian',\n",
              "       'Bagels', 'Biryani', 'Breakfast', 'Burgers', 'Cafe', 'Cakes', 'Chinese',\n",
              "       'Churros', 'Coffee', 'Combos', 'Crepes', 'Desserts', 'Dimsum', 'Donuts',\n",
              "       'Family Meal', 'Fatayers', 'Free Delivery', 'Fresh Juices', 'Fries',\n",
              "       'Frozen yoghurt', 'Grills', 'Healthy Food', 'Hot Chocolate', 'Hot Dogs',\n",
              "       'Ice creams', 'Indian', 'Italian', 'Japanese', 'Karak', 'Kebabs',\n",
              "       'Kids meal', 'Kushari', 'Lebanese', 'Manakeesh', 'Mandazi', 'Mexican',\n",
              "       'Milkshakes', 'Mishkak', 'Mojitos', 'Mojitos ', 'Omani', 'Organic',\n",
              "       'Pancakes', 'Pasta', 'Pastas', 'Pastry', 'Pizza', 'Pizzas', 'Rice',\n",
              "       'Rolls', 'Salads', 'Sandwiches', 'Seafood', 'Shawarma', 'Shuwa',\n",
              "       'Smoothies', 'Soups', 'Spanish Latte', 'Steaks', 'Sushi', 'Sweets',\n",
              "       'Thai', 'Thali', 'Vegetarian', 'Waffles', 'nan'],\n",
              "      dtype='object')"
            ]
          },
          "metadata": {
            "tags": []
          },
          "execution_count": 77
        }
      ]
    },
    {
      "cell_type": "code",
      "metadata": {
        "id": "lzbuSH9Dz_JR"
      },
      "source": [
        "for i in df_test.columns[167:300]:\n",
        "    df_test[i] = df_test[i].astype('int8')"
      ],
      "execution_count": null,
      "outputs": []
    },
    {
      "cell_type": "code",
      "metadata": {
        "id": "5LrBRHPL0mQ2"
      },
      "source": [
        "df_test['Items_offered'] = 0\n",
        "for i in df_test.columns[167:300]:\n",
        "    df_test['Items_offered'] += df_test[i]"
      ],
      "execution_count": null,
      "outputs": []
    },
    {
      "cell_type": "code",
      "metadata": {
        "id": "pxpdYZHN3uEJ"
      },
      "source": [],
      "execution_count": null,
      "outputs": []
    },
    {
      "cell_type": "code",
      "metadata": {
        "id": "3UcyJelJ0Fdm"
      },
      "source": [
        "cols_rem = ['primary_tags','vendor_tag']\n",
        "for i in cols_rem:\n",
        "    del df_test[i]"
      ],
      "execution_count": null,
      "outputs": []
    },
    {
      "cell_type": "code",
      "metadata": {
        "id": "jNj98kW5ENrC"
      },
      "source": [
        "# df_test.drop('cust+loc',axis=1,inplace=True)"
      ],
      "execution_count": null,
      "outputs": []
    },
    {
      "cell_type": "code",
      "metadata": {
        "id": "iJnWroafBTPJ"
      },
      "source": [
        "# del df_test['lon+lat']"
      ],
      "execution_count": null,
      "outputs": []
    },
    {
      "cell_type": "code",
      "metadata": {
        "id": "NCB9ceHt0IFn"
      },
      "source": [
        "preds_test = m.predict(df_test[cols_imp])"
      ],
      "execution_count": null,
      "outputs": []
    },
    {
      "cell_type": "code",
      "metadata": {
        "id": "jKkcSlx80KWs"
      },
      "source": [
        "df_sub = pd.read_pickle(\"/content/drive/My Drive/Akeed_Correct/akeed_final_sub.pkl\")"
      ],
      "execution_count": null,
      "outputs": []
    },
    {
      "cell_type": "code",
      "metadata": {
        "id": "EDtL7Xq0VstJ"
      },
      "source": [
        "# df_sub['Zero'] =oof_preds[:,0]\n",
        "# df_sub['one'] = oof_preds[:,1]"
      ],
      "execution_count": null,
      "outputs": []
    },
    {
      "cell_type": "code",
      "metadata": {
        "id": "ClmBfRyz1wjF"
      },
      "source": [
        "# df_sub['target'] = [np.argmax(x) for x in df_sub[['Zero','one']].values]"
      ],
      "execution_count": null,
      "outputs": []
    },
    {
      "cell_type": "code",
      "metadata": {
        "id": "7C6eXTMsYty-",
        "colab": {
          "base_uri": "https://localhost:8080/",
          "height": 70
        },
        "outputId": "eb44671b-07ac-4c61-dccc-91efe40fa3f1"
      },
      "source": [
        "df_sub['target'] = preds_test\n",
        "df_sub['target'].value_counts() "
      ],
      "execution_count": null,
      "outputs": [
        {
          "output_type": "execute_result",
          "data": {
            "text/plain": [
              "0    1629880\n",
              "1      42120\n",
              "Name: target, dtype: int64"
            ]
          },
          "metadata": {
            "tags": []
          },
          "execution_count": 85
        }
      ]
    },
    {
      "cell_type": "code",
      "metadata": {
        "id": "ypLHx1ZrRHsL",
        "colab": {
          "base_uri": "https://localhost:8080/",
          "height": 316
        },
        "outputId": "5235ae0d-908a-4c97-c057-13a3a280aacb"
      },
      "source": [
        "df_sub.drop(['Zero','one'],axis=1,inplace=True)"
      ],
      "execution_count": null,
      "outputs": [
        {
          "output_type": "error",
          "ename": "KeyError",
          "evalue": "ignored",
          "traceback": [
            "\u001b[0;31m---------------------------------------------------------------------------\u001b[0m",
            "\u001b[0;31mKeyError\u001b[0m                                  Traceback (most recent call last)",
            "\u001b[0;32m<ipython-input-86-fa916c955939>\u001b[0m in \u001b[0;36m<module>\u001b[0;34m()\u001b[0m\n\u001b[0;32m----> 1\u001b[0;31m \u001b[0mdf_sub\u001b[0m\u001b[0;34m.\u001b[0m\u001b[0mdrop\u001b[0m\u001b[0;34m(\u001b[0m\u001b[0;34m[\u001b[0m\u001b[0;34m'Zero'\u001b[0m\u001b[0;34m,\u001b[0m\u001b[0;34m'one'\u001b[0m\u001b[0;34m]\u001b[0m\u001b[0;34m,\u001b[0m\u001b[0maxis\u001b[0m\u001b[0;34m=\u001b[0m\u001b[0;36m1\u001b[0m\u001b[0;34m,\u001b[0m\u001b[0minplace\u001b[0m\u001b[0;34m=\u001b[0m\u001b[0;32mTrue\u001b[0m\u001b[0;34m)\u001b[0m\u001b[0;34m\u001b[0m\u001b[0;34m\u001b[0m\u001b[0m\n\u001b[0m",
            "\u001b[0;32m/usr/local/lib/python3.6/dist-packages/pandas/core/frame.py\u001b[0m in \u001b[0;36mdrop\u001b[0;34m(self, labels, axis, index, columns, level, inplace, errors)\u001b[0m\n\u001b[1;32m   3995\u001b[0m             \u001b[0mlevel\u001b[0m\u001b[0;34m=\u001b[0m\u001b[0mlevel\u001b[0m\u001b[0;34m,\u001b[0m\u001b[0;34m\u001b[0m\u001b[0;34m\u001b[0m\u001b[0m\n\u001b[1;32m   3996\u001b[0m             \u001b[0minplace\u001b[0m\u001b[0;34m=\u001b[0m\u001b[0minplace\u001b[0m\u001b[0;34m,\u001b[0m\u001b[0;34m\u001b[0m\u001b[0;34m\u001b[0m\u001b[0m\n\u001b[0;32m-> 3997\u001b[0;31m             \u001b[0merrors\u001b[0m\u001b[0;34m=\u001b[0m\u001b[0merrors\u001b[0m\u001b[0;34m,\u001b[0m\u001b[0;34m\u001b[0m\u001b[0;34m\u001b[0m\u001b[0m\n\u001b[0m\u001b[1;32m   3998\u001b[0m         )\n\u001b[1;32m   3999\u001b[0m \u001b[0;34m\u001b[0m\u001b[0m\n",
            "\u001b[0;32m/usr/local/lib/python3.6/dist-packages/pandas/core/generic.py\u001b[0m in \u001b[0;36mdrop\u001b[0;34m(self, labels, axis, index, columns, level, inplace, errors)\u001b[0m\n\u001b[1;32m   3934\u001b[0m         \u001b[0;32mfor\u001b[0m \u001b[0maxis\u001b[0m\u001b[0;34m,\u001b[0m \u001b[0mlabels\u001b[0m \u001b[0;32min\u001b[0m \u001b[0maxes\u001b[0m\u001b[0;34m.\u001b[0m\u001b[0mitems\u001b[0m\u001b[0;34m(\u001b[0m\u001b[0;34m)\u001b[0m\u001b[0;34m:\u001b[0m\u001b[0;34m\u001b[0m\u001b[0;34m\u001b[0m\u001b[0m\n\u001b[1;32m   3935\u001b[0m             \u001b[0;32mif\u001b[0m \u001b[0mlabels\u001b[0m \u001b[0;32mis\u001b[0m \u001b[0;32mnot\u001b[0m \u001b[0;32mNone\u001b[0m\u001b[0;34m:\u001b[0m\u001b[0;34m\u001b[0m\u001b[0;34m\u001b[0m\u001b[0m\n\u001b[0;32m-> 3936\u001b[0;31m                 \u001b[0mobj\u001b[0m \u001b[0;34m=\u001b[0m \u001b[0mobj\u001b[0m\u001b[0;34m.\u001b[0m\u001b[0m_drop_axis\u001b[0m\u001b[0;34m(\u001b[0m\u001b[0mlabels\u001b[0m\u001b[0;34m,\u001b[0m \u001b[0maxis\u001b[0m\u001b[0;34m,\u001b[0m \u001b[0mlevel\u001b[0m\u001b[0;34m=\u001b[0m\u001b[0mlevel\u001b[0m\u001b[0;34m,\u001b[0m \u001b[0merrors\u001b[0m\u001b[0;34m=\u001b[0m\u001b[0merrors\u001b[0m\u001b[0;34m)\u001b[0m\u001b[0;34m\u001b[0m\u001b[0;34m\u001b[0m\u001b[0m\n\u001b[0m\u001b[1;32m   3937\u001b[0m \u001b[0;34m\u001b[0m\u001b[0m\n\u001b[1;32m   3938\u001b[0m         \u001b[0;32mif\u001b[0m \u001b[0minplace\u001b[0m\u001b[0;34m:\u001b[0m\u001b[0;34m\u001b[0m\u001b[0;34m\u001b[0m\u001b[0m\n",
            "\u001b[0;32m/usr/local/lib/python3.6/dist-packages/pandas/core/generic.py\u001b[0m in \u001b[0;36m_drop_axis\u001b[0;34m(self, labels, axis, level, errors)\u001b[0m\n\u001b[1;32m   3968\u001b[0m                 \u001b[0mnew_axis\u001b[0m \u001b[0;34m=\u001b[0m \u001b[0maxis\u001b[0m\u001b[0;34m.\u001b[0m\u001b[0mdrop\u001b[0m\u001b[0;34m(\u001b[0m\u001b[0mlabels\u001b[0m\u001b[0;34m,\u001b[0m \u001b[0mlevel\u001b[0m\u001b[0;34m=\u001b[0m\u001b[0mlevel\u001b[0m\u001b[0;34m,\u001b[0m \u001b[0merrors\u001b[0m\u001b[0;34m=\u001b[0m\u001b[0merrors\u001b[0m\u001b[0;34m)\u001b[0m\u001b[0;34m\u001b[0m\u001b[0;34m\u001b[0m\u001b[0m\n\u001b[1;32m   3969\u001b[0m             \u001b[0;32melse\u001b[0m\u001b[0;34m:\u001b[0m\u001b[0;34m\u001b[0m\u001b[0;34m\u001b[0m\u001b[0m\n\u001b[0;32m-> 3970\u001b[0;31m                 \u001b[0mnew_axis\u001b[0m \u001b[0;34m=\u001b[0m \u001b[0maxis\u001b[0m\u001b[0;34m.\u001b[0m\u001b[0mdrop\u001b[0m\u001b[0;34m(\u001b[0m\u001b[0mlabels\u001b[0m\u001b[0;34m,\u001b[0m \u001b[0merrors\u001b[0m\u001b[0;34m=\u001b[0m\u001b[0merrors\u001b[0m\u001b[0;34m)\u001b[0m\u001b[0;34m\u001b[0m\u001b[0;34m\u001b[0m\u001b[0m\n\u001b[0m\u001b[1;32m   3971\u001b[0m             \u001b[0mresult\u001b[0m \u001b[0;34m=\u001b[0m \u001b[0mself\u001b[0m\u001b[0;34m.\u001b[0m\u001b[0mreindex\u001b[0m\u001b[0;34m(\u001b[0m\u001b[0;34m**\u001b[0m\u001b[0;34m{\u001b[0m\u001b[0maxis_name\u001b[0m\u001b[0;34m:\u001b[0m \u001b[0mnew_axis\u001b[0m\u001b[0;34m}\u001b[0m\u001b[0;34m)\u001b[0m\u001b[0;34m\u001b[0m\u001b[0;34m\u001b[0m\u001b[0m\n\u001b[1;32m   3972\u001b[0m \u001b[0;34m\u001b[0m\u001b[0m\n",
            "\u001b[0;32m/usr/local/lib/python3.6/dist-packages/pandas/core/indexes/base.py\u001b[0m in \u001b[0;36mdrop\u001b[0;34m(self, labels, errors)\u001b[0m\n\u001b[1;32m   5016\u001b[0m         \u001b[0;32mif\u001b[0m \u001b[0mmask\u001b[0m\u001b[0;34m.\u001b[0m\u001b[0many\u001b[0m\u001b[0;34m(\u001b[0m\u001b[0;34m)\u001b[0m\u001b[0;34m:\u001b[0m\u001b[0;34m\u001b[0m\u001b[0;34m\u001b[0m\u001b[0m\n\u001b[1;32m   5017\u001b[0m             \u001b[0;32mif\u001b[0m \u001b[0merrors\u001b[0m \u001b[0;34m!=\u001b[0m \u001b[0;34m\"ignore\"\u001b[0m\u001b[0;34m:\u001b[0m\u001b[0;34m\u001b[0m\u001b[0;34m\u001b[0m\u001b[0m\n\u001b[0;32m-> 5018\u001b[0;31m                 \u001b[0;32mraise\u001b[0m \u001b[0mKeyError\u001b[0m\u001b[0;34m(\u001b[0m\u001b[0;34mf\"{labels[mask]} not found in axis\"\u001b[0m\u001b[0;34m)\u001b[0m\u001b[0;34m\u001b[0m\u001b[0;34m\u001b[0m\u001b[0m\n\u001b[0m\u001b[1;32m   5019\u001b[0m             \u001b[0mindexer\u001b[0m \u001b[0;34m=\u001b[0m \u001b[0mindexer\u001b[0m\u001b[0;34m[\u001b[0m\u001b[0;34m~\u001b[0m\u001b[0mmask\u001b[0m\u001b[0;34m]\u001b[0m\u001b[0;34m\u001b[0m\u001b[0;34m\u001b[0m\u001b[0m\n\u001b[1;32m   5020\u001b[0m         \u001b[0;32mreturn\u001b[0m \u001b[0mself\u001b[0m\u001b[0;34m.\u001b[0m\u001b[0mdelete\u001b[0m\u001b[0;34m(\u001b[0m\u001b[0mindexer\u001b[0m\u001b[0;34m)\u001b[0m\u001b[0;34m\u001b[0m\u001b[0;34m\u001b[0m\u001b[0m\n",
            "\u001b[0;31mKeyError\u001b[0m: \"['Zero' 'one'] not found in axis\""
          ]
        }
      ]
    },
    {
      "cell_type": "code",
      "metadata": {
        "id": "f_LJRCDIQ4PL"
      },
      "source": [
        "df = pd.read_csv('/content/drive/My Drive/Akeed_Correct/correct_preds.csv')"
      ],
      "execution_count": null,
      "outputs": []
    },
    {
      "cell_type": "code",
      "metadata": {
        "id": "Vt3eaJWRUDtc",
        "colab": {
          "base_uri": "https://localhost:8080/",
          "height": 34
        },
        "outputId": "145f32a1-55bb-4471-c7a2-e1d5d51925c5"
      },
      "source": [
        "np.corrcoef(df['target'],df_sub['target'])[1,0]"
      ],
      "execution_count": null,
      "outputs": [
        {
          "output_type": "execute_result",
          "data": {
            "text/plain": [
              "0.6728264262036197"
            ]
          },
          "metadata": {
            "tags": []
          },
          "execution_count": 88
        }
      ]
    },
    {
      "cell_type": "code",
      "metadata": {
        "id": "sI9hcU_U8GZT",
        "colab": {
          "base_uri": "https://localhost:8080/",
          "height": 70
        },
        "outputId": "30fd8087-07cd-4658-d3e0-8cfd889514ac"
      },
      "source": [
        "df_sub['target'].value_counts(normalize=True)"
      ],
      "execution_count": null,
      "outputs": [
        {
          "output_type": "execute_result",
          "data": {
            "text/plain": [
              "0    0.974809\n",
              "1    0.025191\n",
              "Name: target, dtype: float64"
            ]
          },
          "metadata": {
            "tags": []
          },
          "execution_count": 89
        }
      ]
    },
    {
      "cell_type": "code",
      "metadata": {
        "id": "30XpOcv60Xtt"
      },
      "source": [
        " df_sub.to_csv('only_105featsnmf.csv',index=False)"
      ],
      "execution_count": null,
      "outputs": []
    },
    {
      "cell_type": "code",
      "metadata": {
        "id": "A_iI1INNRndJ"
      },
      "source": [
        "# X_train['']"
      ],
      "execution_count": null,
      "outputs": []
    },
    {
      "cell_type": "code",
      "metadata": {
        "id": "FWKFY8kT0dva",
        "colab": {
          "base_uri": "https://localhost:8080/",
          "height": 265
        },
        "outputId": "749b46a7-36c9-42e4-b8ad-15a9acfbea7f"
      },
      "source": [
        "X_train['delivery_charge_sum'].value_counts()"
      ],
      "execution_count": null,
      "outputs": [
        {
          "output_type": "execute_result",
          "data": {
            "text/plain": [
              "0.000000    1949099\n",
              "0.700195    1019815\n",
              "1.400391     784582\n",
              "2.101562     420021\n",
              "2.800781     258184\n",
              "3.500000     153105\n",
              "4.203125      72924\n",
              "4.902344      38409\n",
              "5.601562      20296\n",
              "8.406250      12036\n",
              "6.300781      10089\n",
              "7.000000       8850\n",
              "7.703125       6490\n",
              "Name: delivery_charge_sum, dtype: int64"
            ]
          },
          "metadata": {
            "tags": []
          },
          "execution_count": 124
        }
      ]
    },
    {
      "cell_type": "code",
      "metadata": {
        "id": "oiyv8DK7Mgdj",
        "colab": {
          "base_uri": "https://localhost:8080/",
          "height": 697
        },
        "outputId": "5944d4fe-9b88-477d-a246-f27ceb1416fb"
      },
      "source": [
        "X_train['vendor_sum'].value_counts()"
      ],
      "execution_count": null,
      "outputs": [
        {
          "output_type": "error",
          "ename": "KeyError",
          "evalue": "ignored",
          "traceback": [
            "\u001b[0;31m---------------------------------------------------------------------------\u001b[0m",
            "\u001b[0;31mKeyError\u001b[0m                                  Traceback (most recent call last)",
            "\u001b[0;32m/usr/local/lib/python3.6/dist-packages/pandas/core/indexes/base.py\u001b[0m in \u001b[0;36mget_loc\u001b[0;34m(self, key, method, tolerance)\u001b[0m\n\u001b[1;32m   2645\u001b[0m             \u001b[0;32mtry\u001b[0m\u001b[0;34m:\u001b[0m\u001b[0;34m\u001b[0m\u001b[0;34m\u001b[0m\u001b[0m\n\u001b[0;32m-> 2646\u001b[0;31m                 \u001b[0;32mreturn\u001b[0m \u001b[0mself\u001b[0m\u001b[0;34m.\u001b[0m\u001b[0m_engine\u001b[0m\u001b[0;34m.\u001b[0m\u001b[0mget_loc\u001b[0m\u001b[0;34m(\u001b[0m\u001b[0mkey\u001b[0m\u001b[0;34m)\u001b[0m\u001b[0;34m\u001b[0m\u001b[0;34m\u001b[0m\u001b[0m\n\u001b[0m\u001b[1;32m   2647\u001b[0m             \u001b[0;32mexcept\u001b[0m \u001b[0mKeyError\u001b[0m\u001b[0;34m:\u001b[0m\u001b[0;34m\u001b[0m\u001b[0;34m\u001b[0m\u001b[0m\n",
            "\u001b[0;32mpandas/_libs/index.pyx\u001b[0m in \u001b[0;36mpandas._libs.index.IndexEngine.get_loc\u001b[0;34m()\u001b[0m\n",
            "\u001b[0;32mpandas/_libs/index.pyx\u001b[0m in \u001b[0;36mpandas._libs.index.IndexEngine.get_loc\u001b[0;34m()\u001b[0m\n",
            "\u001b[0;32mpandas/_libs/hashtable_class_helper.pxi\u001b[0m in \u001b[0;36mpandas._libs.hashtable.PyObjectHashTable.get_item\u001b[0;34m()\u001b[0m\n",
            "\u001b[0;32mpandas/_libs/hashtable_class_helper.pxi\u001b[0m in \u001b[0;36mpandas._libs.hashtable.PyObjectHashTable.get_item\u001b[0;34m()\u001b[0m\n",
            "\u001b[0;31mKeyError\u001b[0m: 'vendor_sum'",
            "\nDuring handling of the above exception, another exception occurred:\n",
            "\u001b[0;31mKeyError\u001b[0m                                  Traceback (most recent call last)",
            "\u001b[0;32m<ipython-input-104-e0d6e0398a25>\u001b[0m in \u001b[0;36m<module>\u001b[0;34m()\u001b[0m\n\u001b[0;32m----> 1\u001b[0;31m \u001b[0mX_train\u001b[0m\u001b[0;34m[\u001b[0m\u001b[0;34m'vendor_sum'\u001b[0m\u001b[0;34m]\u001b[0m\u001b[0;34m.\u001b[0m\u001b[0mvalue_counts\u001b[0m\u001b[0;34m(\u001b[0m\u001b[0;34m)\u001b[0m\u001b[0;34m\u001b[0m\u001b[0;34m\u001b[0m\u001b[0m\n\u001b[0m",
            "\u001b[0;32m/usr/local/lib/python3.6/dist-packages/pandas/core/frame.py\u001b[0m in \u001b[0;36m__getitem__\u001b[0;34m(self, key)\u001b[0m\n\u001b[1;32m   2798\u001b[0m             \u001b[0;32mif\u001b[0m \u001b[0mself\u001b[0m\u001b[0;34m.\u001b[0m\u001b[0mcolumns\u001b[0m\u001b[0;34m.\u001b[0m\u001b[0mnlevels\u001b[0m \u001b[0;34m>\u001b[0m \u001b[0;36m1\u001b[0m\u001b[0;34m:\u001b[0m\u001b[0;34m\u001b[0m\u001b[0;34m\u001b[0m\u001b[0m\n\u001b[1;32m   2799\u001b[0m                 \u001b[0;32mreturn\u001b[0m \u001b[0mself\u001b[0m\u001b[0;34m.\u001b[0m\u001b[0m_getitem_multilevel\u001b[0m\u001b[0;34m(\u001b[0m\u001b[0mkey\u001b[0m\u001b[0;34m)\u001b[0m\u001b[0;34m\u001b[0m\u001b[0;34m\u001b[0m\u001b[0m\n\u001b[0;32m-> 2800\u001b[0;31m             \u001b[0mindexer\u001b[0m \u001b[0;34m=\u001b[0m \u001b[0mself\u001b[0m\u001b[0;34m.\u001b[0m\u001b[0mcolumns\u001b[0m\u001b[0;34m.\u001b[0m\u001b[0mget_loc\u001b[0m\u001b[0;34m(\u001b[0m\u001b[0mkey\u001b[0m\u001b[0;34m)\u001b[0m\u001b[0;34m\u001b[0m\u001b[0;34m\u001b[0m\u001b[0m\n\u001b[0m\u001b[1;32m   2801\u001b[0m             \u001b[0;32mif\u001b[0m \u001b[0mis_integer\u001b[0m\u001b[0;34m(\u001b[0m\u001b[0mindexer\u001b[0m\u001b[0;34m)\u001b[0m\u001b[0;34m:\u001b[0m\u001b[0;34m\u001b[0m\u001b[0;34m\u001b[0m\u001b[0m\n\u001b[1;32m   2802\u001b[0m                 \u001b[0mindexer\u001b[0m \u001b[0;34m=\u001b[0m \u001b[0;34m[\u001b[0m\u001b[0mindexer\u001b[0m\u001b[0;34m]\u001b[0m\u001b[0;34m\u001b[0m\u001b[0;34m\u001b[0m\u001b[0m\n",
            "\u001b[0;32m/usr/local/lib/python3.6/dist-packages/pandas/core/indexes/base.py\u001b[0m in \u001b[0;36mget_loc\u001b[0;34m(self, key, method, tolerance)\u001b[0m\n\u001b[1;32m   2646\u001b[0m                 \u001b[0;32mreturn\u001b[0m \u001b[0mself\u001b[0m\u001b[0;34m.\u001b[0m\u001b[0m_engine\u001b[0m\u001b[0;34m.\u001b[0m\u001b[0mget_loc\u001b[0m\u001b[0;34m(\u001b[0m\u001b[0mkey\u001b[0m\u001b[0;34m)\u001b[0m\u001b[0;34m\u001b[0m\u001b[0;34m\u001b[0m\u001b[0m\n\u001b[1;32m   2647\u001b[0m             \u001b[0;32mexcept\u001b[0m \u001b[0mKeyError\u001b[0m\u001b[0;34m:\u001b[0m\u001b[0;34m\u001b[0m\u001b[0;34m\u001b[0m\u001b[0m\n\u001b[0;32m-> 2648\u001b[0;31m                 \u001b[0;32mreturn\u001b[0m \u001b[0mself\u001b[0m\u001b[0;34m.\u001b[0m\u001b[0m_engine\u001b[0m\u001b[0;34m.\u001b[0m\u001b[0mget_loc\u001b[0m\u001b[0;34m(\u001b[0m\u001b[0mself\u001b[0m\u001b[0;34m.\u001b[0m\u001b[0m_maybe_cast_indexer\u001b[0m\u001b[0;34m(\u001b[0m\u001b[0mkey\u001b[0m\u001b[0;34m)\u001b[0m\u001b[0;34m)\u001b[0m\u001b[0;34m\u001b[0m\u001b[0;34m\u001b[0m\u001b[0m\n\u001b[0m\u001b[1;32m   2649\u001b[0m         \u001b[0mindexer\u001b[0m \u001b[0;34m=\u001b[0m \u001b[0mself\u001b[0m\u001b[0;34m.\u001b[0m\u001b[0mget_indexer\u001b[0m\u001b[0;34m(\u001b[0m\u001b[0;34m[\u001b[0m\u001b[0mkey\u001b[0m\u001b[0;34m]\u001b[0m\u001b[0;34m,\u001b[0m \u001b[0mmethod\u001b[0m\u001b[0;34m=\u001b[0m\u001b[0mmethod\u001b[0m\u001b[0;34m,\u001b[0m \u001b[0mtolerance\u001b[0m\u001b[0;34m=\u001b[0m\u001b[0mtolerance\u001b[0m\u001b[0;34m)\u001b[0m\u001b[0;34m\u001b[0m\u001b[0;34m\u001b[0m\u001b[0m\n\u001b[1;32m   2650\u001b[0m         \u001b[0;32mif\u001b[0m \u001b[0mindexer\u001b[0m\u001b[0;34m.\u001b[0m\u001b[0mndim\u001b[0m \u001b[0;34m>\u001b[0m \u001b[0;36m1\u001b[0m \u001b[0;32mor\u001b[0m \u001b[0mindexer\u001b[0m\u001b[0;34m.\u001b[0m\u001b[0msize\u001b[0m \u001b[0;34m>\u001b[0m \u001b[0;36m1\u001b[0m\u001b[0;34m:\u001b[0m\u001b[0;34m\u001b[0m\u001b[0;34m\u001b[0m\u001b[0m\n",
            "\u001b[0;32mpandas/_libs/index.pyx\u001b[0m in \u001b[0;36mpandas._libs.index.IndexEngine.get_loc\u001b[0;34m()\u001b[0m\n",
            "\u001b[0;32mpandas/_libs/index.pyx\u001b[0m in \u001b[0;36mpandas._libs.index.IndexEngine.get_loc\u001b[0;34m()\u001b[0m\n",
            "\u001b[0;32mpandas/_libs/hashtable_class_helper.pxi\u001b[0m in \u001b[0;36mpandas._libs.hashtable.PyObjectHashTable.get_item\u001b[0;34m()\u001b[0m\n",
            "\u001b[0;32mpandas/_libs/hashtable_class_helper.pxi\u001b[0m in \u001b[0;36mpandas._libs.hashtable.PyObjectHashTable.get_item\u001b[0;34m()\u001b[0m\n",
            "\u001b[0;31mKeyError\u001b[0m: 'vendor_sum'"
          ]
        }
      ]
    },
    {
      "cell_type": "code",
      "metadata": {
        "id": "ceM_o4BKMzVI"
      },
      "source": [],
      "execution_count": null,
      "outputs": []
    }
  ]
}